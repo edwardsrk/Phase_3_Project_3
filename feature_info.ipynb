{
 "cells": [
  {
   "cell_type": "markdown",
   "metadata": {},
   "source": [
    "```amount_tsh``` - Total static head (amount water available to waterpoint)  \n",
    "```date_recorded``` - The date the row was entered  - *drop*\n",
    "```funder``` - Who funded the well - *drop na* \n",
    "```gps_height``` - Altitude of the well  \n",
    "```installer``` - Organization that installed the well - *drop na*  \n",
    "```longitude``` - GPS coordinate  \n",
    "```latitude``` - GPS coordinate  \n",
    "`wpt_name` - Name of the waterpoint if there is one - *drop* \n",
    "`num_private` - *drop*\n",
    "`basin` - Geographic water basin  \n",
    "`subvillage` - Geographic location - *drop*\n",
    "`region` - Geographic location  ---\n",
    "`region_code` - Geographic location (coded) --  \n",
    "`district_code` - Geographic location (coded) -- \n",
    "`lga` - Geographic location  --\n",
    "`ward` - Geographic location  --\n",
    "`population` - Population around the well  \n",
    "`public_meeting` - True/False  --\n",
    "`recorded_by` - Group entering this row of data - *drop*  \n",
    "`scheme_management` - Who operates the waterpoint  \n",
    "`scheme_name` - Who operates the waterpoint - *drop*\n",
    "`permit` - If the waterpoint is permitted  \n",
    "`construction_year` - Year the waterpoint was constructed  \n",
    "`extraction_type` - The kind of extraction the waterpoint uses  \n",
    "`extraction_type_group` - The kind of extraction the waterpoint uses  - *drop*\n",
    "`extraction_type_class` - The kind of extraction the waterpoint uses  \n",
    "`management` - How the waterpoint is managed  \n",
    "`management_group` - How the waterpoint is managed  \n",
    "`payment` - What the water costs  - *drop*\n",
    "`payment_type` - What the water costs   \n",
    "`water_quality` - The quality of the water - *drop*\n",
    "`quality_group` - The quality of the water  \n",
    "`quantity` - The quantity of water - *drop* \n",
    "`quantity_group` - The quantity of water  \n",
    "`source` - The source of the water  \n",
    "`source_type` - The source of the water - *drop*\n",
    "`source_class` - The source of the water  \n",
    "`waterpoint_type` - The kind of waterpoint \n",
    "`waterpoint_type_group`- The kind of waterpoint - *drop"
   ]
  },
  {
   "cell_type": "markdown",
   "metadata": {},
   "source": [
    "To drop:  \n",
    "date_recorded  \n",
    "installer  \n",
    "wpt_name  \n",
    "num_private\n",
    "subvillage  \n",
    "recorded_by  \n",
    "scheme_name  \n",
    "extraction_type_group  \n",
    "payment  \n",
    "water_quality  \n",
    "quantity  \n",
    "source_type  \n",
    "waterpoint_type_group  "
   ]
  },
  {
   "cell_type": "code",
   "execution_count": null,
   "metadata": {},
   "outputs": [],
   "source": []
  }
 ],
 "metadata": {
  "kernelspec": {
   "display_name": "learn-env",
   "language": "python",
   "name": "learn-env"
  },
  "language_info": {
   "codemirror_mode": {
    "name": "ipython",
    "version": 3
   },
   "file_extension": ".py",
   "mimetype": "text/x-python",
   "name": "python",
   "nbconvert_exporter": "python",
   "pygments_lexer": "ipython3",
   "version": "3.8.5"
  }
 },
 "nbformat": 4,
 "nbformat_minor": 4
}
