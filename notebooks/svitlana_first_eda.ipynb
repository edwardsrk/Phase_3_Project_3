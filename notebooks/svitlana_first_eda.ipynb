{
 "cells": [
  {
   "cell_type": "markdown",
   "metadata": {},
   "source": [
    "# Data Exploration"
   ]
  },
  {
   "cell_type": "code",
   "execution_count": 12,
   "metadata": {},
   "outputs": [
    {
     "name": "stdout",
     "output_type": "stream",
     "text": [
      "The autoreload extension is already loaded. To reload it, use:\n",
      "  %reload_ext autoreload\n"
     ]
    }
   ],
   "source": [
    "import numpy as np\n",
    "import pandas as pd\n",
    "import matplotlib.pyplot as plt\n",
    "import seaborn as sns\n",
    "\n",
    "%matplotlib inline\n",
    "%load_ext autoreload\n",
    "%autoreload 2\n",
    "\n",
    "import warnings\n",
    "warnings.filterwarnings('ignore')"
   ]
  },
  {
   "cell_type": "code",
   "execution_count": 13,
   "metadata": {},
   "outputs": [],
   "source": [
    "predictors = pd.read_csv('../../data/water_table_training.csv')\n",
    "target = pd.read_csv('../../data/water_table_labels.csv')\n",
    "\n",
    "df = predictors.merge(target, on = 'id')"
   ]
  },
  {
   "cell_type": "code",
   "execution_count": 14,
   "metadata": {
    "scrolled": false
   },
   "outputs": [
    {
     "name": "stdout",
     "output_type": "stream",
     "text": [
      "count    51329.000000\n",
      "mean      1334.765552\n",
      "std        940.138379\n",
      "min          0.000000\n",
      "25%          0.000000\n",
      "50%       1987.000000\n",
      "75%       2005.000000\n",
      "max       2013.000000\n",
      "Name: construction_year, dtype: float64 \n",
      "Mode: 0    2008.0\n",
      "dtype: float64\n"
     ]
    },
    {
     "data": {
      "image/png": "[encoded data removed]",
      "text/plain": [
       "<Figure size 432x288 with 1 Axes>"
      ]
     },
     "metadata": {
      "needs_background": "light"
     },
     "output_type": "display_data"
    }
   ],
   "source": [
    "##selecting which columns to drop based off impact on prediction and overlapping information\n",
    "columns = ['id', 'date_recorded', 'installer', 'wpt_name', 'num_private', 'region', 'subvillage', \n",
    "           'ward', 'recorded_by', 'scheme_name', 'extraction_type_group', 'payment', 'water_quality', \n",
    "           'quantity', 'source_type', 'waterpoint_type_group', 'public_meeting']\n",
    "\n",
    "\n",
    "cleaned_df = df.drop(columns = columns, axis = 1)\n",
    "cleaned_df.dropna(inplace = True)\n",
    "\n",
    "\n",
    "##checking to see distribution of non-zero(np.nan) values to determine how to impute\n",
    "## will impute with mode\n",
    "\n",
    "print(cleaned_df.construction_year.describe(), '\\nMode:', cleaned_df.construction_year.replace(0.0, np.nan).mode())\n",
    "plt.hist(cleaned_df.construction_year.replace(0.0, np.nan));"
   ]
  },
  {
   "cell_type": "code",
   "execution_count": 15,
   "metadata": {},
   "outputs": [],
   "source": [
    "#replacing string values for status group with 0, 1, or 1 in 'status_no'\n",
    "#0 target is functional, 1 target is non or needs repair (positive class for predicting)\n",
    "\n",
    "conditions = [cleaned_df['status_group'] == 'functional', cleaned_df['status_group'] == 'functional needs repair', cleaned_df['status_group'] == 'non functional']\n",
    "choices = [0, 1, 1]\n",
    "\n",
    "cleaned_df['status_no'] = np.select(conditions, choices)\n",
    "cleaned_df.drop('status_group', axis = 1, inplace = True)\n",
    "\n",
    "##Separating predictor feature columns into categorical and continuous value groups\n",
    "#continuous features\n",
    "numerical_columns = ['amount_tsh', 'gps_height', 'longitude', 'latitude', 'population', 'construction_year']\n",
    "#categorical features without the target of 'status_group'\n",
    "categorical_columns = cleaned_df.select_dtypes(include = 'object').columns\n",
    "\n",
    "\n",
    "##Smaller amount of features to reduce computational strain - using all categoricals turned into 1600+ columns\n",
    "final_columns_list = ['amount_tsh', 'longitude', 'latitude', 'construction_year', 'region_code', 'scheme_management', 'quality_group', 'quantity_group', 'source', 'extraction_type_class', 'waterpoint_type']\n",
    "\n",
    "numericals = ['amount_tsh', 'longitude', 'latitude', 'construction_year']\n",
    "categoricals = ['region_code', 'scheme_management', 'quality_group', 'quantity_group', 'source', 'extraction_type_class', 'waterpoint_type']\n"
   ]
  },
  {
   "cell_type": "markdown",
   "metadata": {},
   "source": [
    "## A Bit of EDA"
   ]
  },
  {
   "cell_type": "markdown",
   "metadata": {},
   "source": [
    "Functional: 0  \n",
    "Non-functional or functional needs repair: 1  \n",
    "It looks to be that there is a high count of non-functional or needs-repairs sources built between 1982 and 2004."
   ]
  },
  {
   "cell_type": "code",
   "execution_count": 16,
   "metadata": {
    "scrolled": true
   },
   "outputs": [
    {
     "data": {
      "image/png": "[encoded data removed]",
      "text/plain": [
       "<Figure size 1008x576 with 1 Axes>"
      ]
     },
     "metadata": {
      "needs_background": "light"
     },
     "output_type": "display_data"
    }
   ],
   "source": [
    "plotting_df = cleaned_df.copy()\n",
    "plotting_df['construction_year'] = plotting_df.construction_year.replace(0.0, np.nan)\n",
    "plotting_df['count'] = plotting_df.construction_year.value_counts()\n",
    "\n",
    "fig, ax = plt.subplots(figsize=(14,8))\n",
    "ax = sns.barplot(x=\"construction_year\", y=\"count\", hue=\"status_no\", data=plotting_df, ax = ax)\n",
    "plt.xticks(rotation=45);"
   ]
  },
  {
   "cell_type": "markdown",
   "metadata": {},
   "source": [
    "## Modeling"
   ]
  },
  {
   "cell_type": "code",
   "execution_count": 17,
   "metadata": {
    "scrolled": true
   },
   "outputs": [],
   "source": [
    "from sklearn.model_selection import train_test_split, cross_val_score, cross_validate, GridSearchCV, RandomizedSearchCV\n",
    "from sklearn.impute import MissingIndicator, SimpleImputer\n",
    "from sklearn.preprocessing import OneHotEncoder, StandardScaler, PowerTransformer\n",
    "from sklearn.metrics import plot_confusion_matrix, precision_score, recall_score, accuracy_score, f1_score, roc_curve, auc\n",
    "from sklearn.compose import ColumnTransformer\n",
    "from sklearn.base import BaseEstimator, TransformerMixin\n",
    "from sklearn.pipeline import Pipeline\n",
    "\n",
    "from sklearn.linear_model import LogisticRegression\n",
    "from sklearn.neighbors import KNeighborsClassifier\n",
    "from sklearn.tree import DecisionTreeClassifier\n",
    "from sklearn.naive_bayes import BernoulliNB\n",
    "from sklearn.ensemble import RandomForestClassifier\n",
    "from sklearn.dummy import DummyClassifier\n",
    "\n",
    "from xgboost import XGBClassifier\n",
    "\n",
    "\n",
    "X = cleaned_df[final_columns_list]\n",
    "y = cleaned_df['status_no']\n",
    "\n",
    "X_train, X_test, y_train, y_test = train_test_split(X, y, test_size = .2, stratify = y, random_state = 42)"
   ]
  },
  {
   "cell_type": "markdown",
   "metadata": {},
   "source": [
    "### Transformation on the Train Set"
   ]
  },
  {
   "cell_type": "code",
   "execution_count": 18,
   "metadata": {},
   "outputs": [],
   "source": [
    "class CustomTransformer(BaseEstimator, TransformerMixin):\n",
    "    \n",
    "    def __init__(self):\n",
    "        \n",
    "        self.column_trans = None\n",
    "#        self.ohe_col_names = None\n",
    "    \n",
    "    def fit(self, X_t, y_t = None):\n",
    "        X_ = X_t.copy()\n",
    "        column_transformer = ColumnTransformer(transformers = [('imputer', SimpleImputer(missing_values = 0.0, strategy = 'most_frequent'), ['construction_year']),                     \n",
    "                                                      ('ohe', OneHotEncoder(sparse = False, handle_unknown = 'ignore'), categoricals)],\n",
    " \n",
    "                                                      n_jobs = -1)\n",
    "        column_transformer = column_transformer.fit(X_)\n",
    "#        self.ohe_col_names = column_transformer.named_transformers_['ohe'].categories_[0]\n",
    "        self.column_trans = column_transformer\n",
    "        return column_transformer\n",
    "    \n",
    "    def transform(self, X, y = None):\n",
    "\n",
    "        X_ = self.column_trans.transform(X)\n",
    "        return X_\n",
    "        "
   ]
  },
  {
   "cell_type": "markdown",
   "metadata": {},
   "source": [
    "## Pipelines"
   ]
  },
  {
   "cell_type": "code",
   "execution_count": 21,
   "metadata": {
    "scrolled": false
   },
   "outputs": [],
   "source": [
    "logreg_pipe = Pipeline(steps =[('transform', CustomTransformer()),('scaler', StandardScaler()),('logreg', LogisticRegression())])\n",
    "bernoulli_pipe = Pipeline(steps =[('transform', CustomTransformer()),('scaler', StandardScaler()),('bern', BernoulliNB())])\n",
    "knn_pipe = Pipeline(steps =[('transform', CustomTransformer()),('scaler', StandardScaler()),('knn', KNeighborsClassifier())])\n",
    "tree_pipe = Pipeline(steps =[('transform', CustomTransformer()),('scaler', StandardScaler()),('tree', DecisionTreeClassifier())])\n",
    "forest_pipe = Pipeline(steps =[('transform', CustomTransformer()),('scaler', StandardScaler()),('forest', RandomForestClassifier())])\n",
    "xgb_pipe = Pipeline(steps =[('transform', CustomTransformer()),('scaler', StandardScaler()),('xgb', XGBClassifier())])\n"
   ]
  },
  {
   "cell_type": "markdown",
   "metadata": {},
   "source": [
    "### GridSearchCV parameters"
   ]
  },
  {
   "cell_type": "code",
   "execution_count": 22,
   "metadata": {},
   "outputs": [],
   "source": [
    "logreg_params = {\n",
    "   'logreg__C':[.1, .75],\n",
    "   'logreg__max_iter':[500],\n",
    "   'logreg__solver':['lbfgs', 'liblinear']\n",
    "            }\n",
    "                       \n",
    "bernoulli_params = {'bern__alpha': list(np.linspace(.1, 1, 10))}\n",
    "\n",
    "knn_params = {\n",
    "    'knn__n_neighbors': [3, 7, 12], \n",
    "    'knn__weights':['uniform', 'distance'], \n",
    "    'knn__p':[1, 2, 3, 4]\n",
    "             }\n",
    "\n",
    "tree_params = {\n",
    "    'tree__criterion':['gini', 'entropy'],  \n",
    "    'tree__max_depth': [10, 25, 40, 55],\n",
    "    'tree__min_samples_leaf':[1, 2, 3], \n",
    "    'tree__max_features': ['auto', 'sqrt']\n",
    "              } \n",
    "forest_params = {\n",
    "    'forest__n_estimators':[100, 125],\n",
    "    'forest__criterion':['gini', 'entropy'],\n",
    "    'forest__max_depth':[20, 40, None],\n",
    "    'forest__min_samples_leaf':[1, 2, 3], \n",
    "    'forest__max_features': ['auto','sqrt', 'log2']\n",
    "                }\n",
    "\n",
    "xgb_params = {\n",
    "        'xgb__eta':[.7, .9, 1.1],\n",
    "        'xgb__max_depth': [6, 10, 15, 20],\n",
    "        'xgb__learning_rate': [0.001, 0.01, 0.1, 0.2, 0,3],\n",
    "        'xgb__subsample': [0.5, 0.6, 0.7, 0.8, 0.9, 1.0],\n",
    "        'xgb__colsample_bytree': [0.4, 0.5, 0.6, 0.7, 0.8, 0.9, 1.0],\n",
    "        'xgb__colsample_bylevel': [0.4, 0.5, 0.6, 0.7, 0.8, 0.9, 1.0],\n",
    "        'xgb__min_child_weight': [0.5, 1.0, 3.0, 5.0, 7.0, 10.0],\n",
    "        'xgb__gamma': [0, 0.25, 0.5, 1.0],\n",
    "        'xgb__reg_lambda': [0.1, 1.0, 5.0, 10.0, 50.0, 100.0],\n",
    "        'xgb__n_estimators': [100, 120]\n",
    "            }"
   ]
  },
  {
   "cell_type": "markdown",
   "metadata": {},
   "source": [
    "### Logistic Regression"
   ]
  },
  {
   "cell_type": "code",
   "execution_count": 23,
   "metadata": {},
   "outputs": [],
   "source": [
    "log_grid = GridSearchCV(estimator = logreg_pipe, param_grid = logreg_params, scoring = 'recall')"
   ]
  },
  {
   "cell_type": "code",
   "execution_count": 24,
   "metadata": {
    "scrolled": true
   },
   "outputs": [
    {
     "data": {
      "text/plain": [
       "GridSearchCV(estimator=Pipeline(steps=[('transform', CustomTransformer()),\n",
       "                                       ('scaler', StandardScaler()),\n",
       "                                       ('logreg', LogisticRegression())]),\n",
       "             param_grid={'logreg__C': [0.1, 0.75], 'logreg__max_iter': [500],\n",
       "                         'logreg__solver': ['lbfgs', 'liblinear']},\n",
       "             scoring='recall')"
      ]
     },
     "execution_count": 24,
     "metadata": {},
     "output_type": "execute_result"
    }
   ],
   "source": [
    "log_grid.fit(X_train, y_train)"
   ]
  },
  {
   "cell_type": "code",
   "execution_count": 25,
   "metadata": {},
   "outputs": [
    {
     "data": {
      "text/plain": [
       "{'logreg__C': 0.75, 'logreg__max_iter': 500, 'logreg__solver': 'lbfgs'}"
      ]
     },
     "execution_count": 25,
     "metadata": {},
     "output_type": "execute_result"
    }
   ],
   "source": [
    "log_grid.best_params_"
   ]
  },
  {
   "cell_type": "markdown",
   "metadata": {},
   "source": [
    "### Bernoulli"
   ]
  },
  {
   "cell_type": "code",
   "execution_count": 26,
   "metadata": {},
   "outputs": [],
   "source": [
    "bern_grid = GridSearchCV(estimator = bernoulli_pipe, param_grid = bernoulli_params, scoring = 'recall')"
   ]
  },
  {
   "cell_type": "code",
   "execution_count": 13,
   "metadata": {
    "scrolled": true
   },
   "outputs": [
    {
     "data": {
      "text/plain": [
       "GridSearchCV(estimator=Pipeline(steps=[('transform', CustomTransformer()),\n",
       "                                       ('scaler', StandardScaler()),\n",
       "                                       ('bern', BernoulliNB())]),\n",
       "             param_grid={'bern__alpha': [0.1, 0.2, 0.30000000000000004, 0.4,\n",
       "                                         0.5, 0.6, 0.7000000000000001, 0.8, 0.9,\n",
       "                                         1.0]},\n",
       "             scoring='recall')"
      ]
     },
     "execution_count": 13,
     "metadata": {},
     "output_type": "execute_result"
    }
   ],
   "source": [
    "bern_grid.fit(X_train, y_train)"
   ]
  },
  {
   "cell_type": "code",
   "execution_count": 14,
   "metadata": {},
   "outputs": [
    {
     "data": {
      "text/plain": [
       "{'bern__alpha': 0.1}"
      ]
     },
     "execution_count": 14,
     "metadata": {},
     "output_type": "execute_result"
    }
   ],
   "source": [
    "bern_grid.best_params_"
   ]
  },
  {
   "cell_type": "markdown",
   "metadata": {},
   "source": [
    "### RandomSearchCV on K Nearest Neighbors"
   ]
  },
  {
   "cell_type": "markdown",
   "metadata": {},
   "source": [
    "Tossing this one due to computational weight."
   ]
  },
  {
   "cell_type": "code",
   "execution_count": 15,
   "metadata": {},
   "outputs": [],
   "source": [
    "#rs_knn = RandomizedSearchCV(estimator = knn_pipe,\n",
    "#                        param_distributions = knn_params,\n",
    "#                        n_iter = 10,                      \n",
    "#                        random_state=42)\n",
    "\n",
    "#rs_knn.fit(X_train, y_train)"
   ]
  },
  {
   "cell_type": "code",
   "execution_count": 16,
   "metadata": {},
   "outputs": [],
   "source": [
    "#rs_knn.fit(X_train, y_train)"
   ]
  },
  {
   "cell_type": "code",
   "execution_count": 17,
   "metadata": {},
   "outputs": [],
   "source": [
    "#rs_knn.best_params_"
   ]
  },
  {
   "cell_type": "markdown",
   "metadata": {},
   "source": [
    "### Decision Tree"
   ]
  },
  {
   "cell_type": "code",
   "execution_count": 18,
   "metadata": {},
   "outputs": [],
   "source": [
    "tree_grid = GridSearchCV(estimator = tree_pipe, param_grid = tree_params, scoring = 'recall')"
   ]
  },
  {
   "cell_type": "code",
   "execution_count": 19,
   "metadata": {
    "scrolled": true
   },
   "outputs": [
    {
     "data": {
      "text/plain": [
       "GridSearchCV(estimator=Pipeline(steps=[('transform', CustomTransformer()),\n",
       "                                       ('scaler', StandardScaler()),\n",
       "                                       ('tree', DecisionTreeClassifier())]),\n",
       "             param_grid={'tree__criterion': ['gini', 'entropy'],\n",
       "                         'tree__max_depth': [10, 25, 40, 55],\n",
       "                         'tree__max_features': ['auto', 'sqrt'],\n",
       "                         'tree__min_samples_leaf': [1, 2, 3]},\n",
       "             scoring='recall')"
      ]
     },
     "execution_count": 19,
     "metadata": {},
     "output_type": "execute_result"
    }
   ],
   "source": [
    "tree_grid.fit(X_train, y_train)"
   ]
  },
  {
   "cell_type": "code",
   "execution_count": 20,
   "metadata": {
    "scrolled": true
   },
   "outputs": [
    {
     "data": {
      "text/plain": [
       "{'tree__criterion': 'entropy',\n",
       " 'tree__max_depth': 40,\n",
       " 'tree__max_features': 'sqrt',\n",
       " 'tree__min_samples_leaf': 1}"
      ]
     },
     "execution_count": 20,
     "metadata": {},
     "output_type": "execute_result"
    }
   ],
   "source": [
    "tree_grid.best_params_"
   ]
  },
  {
   "cell_type": "markdown",
   "metadata": {},
   "source": [
    "### RandomSearchCV on Random Forest"
   ]
  },
  {
   "cell_type": "code",
   "execution_count": 21,
   "metadata": {
    "scrolled": true
   },
   "outputs": [
    {
     "data": {
      "text/plain": [
       "RandomizedSearchCV(estimator=Pipeline(steps=[('transform', CustomTransformer()),\n",
       "                                             ('scaler', StandardScaler()),\n",
       "                                             ('forest',\n",
       "                                              RandomForestClassifier())]),\n",
       "                   param_distributions={'forest__criterion': ['gini',\n",
       "                                                              'entropy'],\n",
       "                                        'forest__max_depth': [20, 40, None],\n",
       "                                        'forest__max_features': ['auto', 'sqrt',\n",
       "                                                                 'log2'],\n",
       "                                        'forest__min_samples_leaf': [1, 2, 3],\n",
       "                                        'forest__n_estimators': [100, 125]},\n",
       "                   random_state=42)"
      ]
     },
     "execution_count": 21,
     "metadata": {},
     "output_type": "execute_result"
    }
   ],
   "source": [
    "rs_forest = RandomizedSearchCV(estimator = forest_pipe,\n",
    "                        param_distributions = forest_params,\n",
    "                        n_iter = 10,                      \n",
    "                        random_state=42)\n",
    "\n",
    "rs_forest.fit(X_train, y_train)"
   ]
  },
  {
   "cell_type": "code",
   "execution_count": 22,
   "metadata": {},
   "outputs": [
    {
     "data": {
      "text/plain": [
       "{'forest__n_estimators': 125,\n",
       " 'forest__min_samples_leaf': 2,\n",
       " 'forest__max_features': 'sqrt',\n",
       " 'forest__max_depth': None,\n",
       " 'forest__criterion': 'gini'}"
      ]
     },
     "execution_count": 22,
     "metadata": {},
     "output_type": "execute_result"
    }
   ],
   "source": [
    "rs_forest.best_params_"
   ]
  },
  {
   "cell_type": "markdown",
   "metadata": {},
   "source": [
    "## XGBoost"
   ]
  },
  {
   "cell_type": "markdown",
   "metadata": {},
   "source": [
    "### RandomSearchCV on XGB"
   ]
  },
  {
   "cell_type": "markdown",
   "metadata": {},
   "source": [
    "Gridsearch is very computationally heavy so RandomSearch had to be used to reduce computation - still very heavy."
   ]
  },
  {
   "cell_type": "code",
   "execution_count": 23,
   "metadata": {},
   "outputs": [
    {
     "data": {
      "text/plain": [
       "RandomizedSearchCV(estimator=Pipeline(steps=[('transform', CustomTransformer()),\n",
       "                                             ('scaler', StandardScaler()),\n",
       "                                             ('xgb',\n",
       "                                              XGBClassifier(base_score=None,\n",
       "                                                            booster=None,\n",
       "                                                            colsample_bylevel=None,\n",
       "                                                            colsample_bynode=None,\n",
       "                                                            colsample_bytree=None,\n",
       "                                                            gamma=None,\n",
       "                                                            gpu_id=None,\n",
       "                                                            importance_type='gain',\n",
       "                                                            interaction_constraints=None,\n",
       "                                                            learning_rate=None,\n",
       "                                                            max_delta_step=None,\n",
       "                                                            max_depth=No...\n",
       "                                                                  0.7, 0.8, 0.9,\n",
       "                                                                  1.0],\n",
       "                                        'xgb__eta': [0.7, 0.9, 1.1],\n",
       "                                        'xgb__gamma': [0, 0.25, 0.5, 1.0],\n",
       "                                        'xgb__learning_rate': [0.001, 0.01, 0.1,\n",
       "                                                               0.2, 0, 3],\n",
       "                                        'xgb__max_depth': [6, 10, 15, 20],\n",
       "                                        'xgb__min_child_weight': [0.5, 1.0, 3.0,\n",
       "                                                                  5.0, 7.0,\n",
       "                                                                  10.0],\n",
       "                                        'xgb__n_estimators': [100, 120],\n",
       "                                        'xgb__reg_lambda': [0.1, 1.0, 5.0, 10.0,\n",
       "                                                            50.0, 100.0],\n",
       "                                        'xgb__subsample': [0.5, 0.6, 0.7, 0.8,\n",
       "                                                           0.9, 1.0]},\n",
       "                   random_state=42, return_train_score=True)"
      ]
     },
     "execution_count": 23,
     "metadata": {},
     "output_type": "execute_result"
    }
   ],
   "source": [
    "rs = RandomizedSearchCV(estimator = xgb_pipe,\n",
    "                        param_distributions = xgb_params,\n",
    "                        n_iter = 10,                      \n",
    "                        random_state=42, return_train_score = True)\n",
    "\n",
    "rs.fit(X_train, y_train)"
   ]
  },
  {
   "cell_type": "code",
   "execution_count": 24,
   "metadata": {},
   "outputs": [
    {
     "data": {
      "text/plain": [
       "({'xgb__subsample': 0.9,\n",
       "  'xgb__reg_lambda': 1.0,\n",
       "  'xgb__n_estimators': 120,\n",
       "  'xgb__min_child_weight': 1.0,\n",
       "  'xgb__max_depth': 15,\n",
       "  'xgb__learning_rate': 0.1,\n",
       "  'xgb__gamma': 1.0,\n",
       "  'xgb__eta': 0.9,\n",
       "  'xgb__colsample_bytree': 0.9,\n",
       "  'xgb__colsample_bylevel': 0.5},\n",
       " 0.7911744499486368)"
      ]
     },
     "execution_count": 24,
     "metadata": {},
     "output_type": "execute_result"
    }
   ],
   "source": [
    "rs.best_params_, rs.best_score_"
   ]
  },
  {
   "cell_type": "code",
   "execution_count": 96,
   "metadata": {
    "scrolled": false
   },
   "outputs": [
    {
     "data": {
      "text/plain": [
       "{'param_distributions': {'xgb__eta': [0.7, 0.9, 1.1],\n",
       "  'xgb__max_depth': [6, 10, 15, 20],\n",
       "  'xgb__learning_rate': [0.001, 0.01, 0.1, 0.2, 0, 3],\n",
       "  'xgb__subsample': [0.5, 0.6, 0.7, 0.8, 0.9, 1.0],\n",
       "  'xgb__colsample_bytree': [0.4, 0.5, 0.6, 0.7, 0.8, 0.9, 1.0],\n",
       "  'xgb__colsample_bylevel': [0.4, 0.5, 0.6, 0.7, 0.8, 0.9, 1.0],\n",
       "  'xgb__min_child_weight': [0.5, 1.0, 3.0, 5.0, 7.0, 10.0],\n",
       "  'xgb__gamma': [0, 0.25, 0.5, 1.0],\n",
       "  'xgb__reg_lambda': [0.1, 1.0, 5.0, 10.0, 50.0, 100.0],\n",
       "  'xgb__n_estimators': [100, 120]},\n",
       " 'n_iter': 10,\n",
       " 'random_state': 42,\n",
       " 'scoring': None,\n",
       " 'estimator': Pipeline(steps=[('transform', CustomTransformer()),\n",
       "                 ('scaler', StandardScaler()),\n",
       "                 ('xgb',\n",
       "                  XGBClassifier(base_score=0.5, booster='gbtree',\n",
       "                                colsample_bylevel=1, colsample_bynode=1,\n",
       "                                colsample_bytree=1, gamma=0, gpu_id=-1,\n",
       "                                importance_type='gain',\n",
       "                                interaction_constraints='',\n",
       "                                learning_rate=0.300000012, max_delta_step=0,\n",
       "                                max_depth=6, min_child_weight=1, missing=nan,\n",
       "                                monotone_constraints='()', n_estimators=100,\n",
       "                                n_jobs=0, num_parallel_tree=1, random_state=0,\n",
       "                                reg_alpha=0, reg_lambda=1, scale_pos_weight=1,\n",
       "                                subsample=1, tree_method='exact',\n",
       "                                validate_parameters=1, verbosity=None))]),\n",
       " 'n_jobs': None,\n",
       " 'iid': 'deprecated',\n",
       " 'refit': True,\n",
       " 'cv': None,\n",
       " 'verbose': 0,\n",
       " 'pre_dispatch': '2*n_jobs',\n",
       " 'error_score': nan,\n",
       " 'return_train_score': True,\n",
       " 'multimetric_': False,\n",
       " 'best_index_': 4,\n",
       " 'best_score_': 0.7911744499486368,\n",
       " 'best_params_': {'xgb__subsample': 0.9,\n",
       "  'xgb__reg_lambda': 1.0,\n",
       "  'xgb__n_estimators': 120,\n",
       "  'xgb__min_child_weight': 1.0,\n",
       "  'xgb__max_depth': 15,\n",
       "  'xgb__learning_rate': 0.1,\n",
       "  'xgb__gamma': 1.0,\n",
       "  'xgb__eta': 0.9,\n",
       "  'xgb__colsample_bytree': 0.9,\n",
       "  'xgb__colsample_bylevel': 0.5},\n",
       " 'best_estimator_': Pipeline(steps=[('transform', CustomTransformer()),\n",
       "                 ('scaler', StandardScaler()),\n",
       "                 ('xgb',\n",
       "                  XGBClassifier(base_score=0.5, booster='gbtree',\n",
       "                                colsample_bylevel=0.5, colsample_bynode=1,\n",
       "                                colsample_bytree=0.9, eta=0.9, gamma=1.0,\n",
       "                                gpu_id=-1, importance_type='gain',\n",
       "                                interaction_constraints='', learning_rate=0.1,\n",
       "                                max_delta_step=0, max_depth=15,\n",
       "                                min_child_weight=1.0, missing=nan,\n",
       "                                monotone_constraints='()', n_estimators=120,\n",
       "                                n_jobs=0, num_parallel_tree=1, random_state=0,\n",
       "                                reg_alpha=0, reg_lambda=1.0, scale_pos_weight=1,\n",
       "                                subsample=0.9, tree_method='exact',\n",
       "                                validate_parameters=1, verbosity=None))]),\n",
       " 'refit_time_': 8.386632204055786,\n",
       " 'scorer_': <function sklearn.metrics._scorer._passthrough_scorer(estimator, *args, **kwargs)>,\n",
       " 'cv_results_': {'mean_fit_time': array([ 5.8904057 ,  4.34087553,  8.30084858,  2.84062209,  7.5818964 ,\n",
       "          4.52332606, 10.91441202,  4.75680542,  2.57383714,  4.66364431]),\n",
       "  'std_fit_time': array([0.38970175, 0.0368609 , 0.33928698, 0.20963393, 0.46192396,\n",
       "         0.40990383, 1.20501709, 0.0365496 , 0.09086304, 0.04295852]),\n",
       "  'mean_score_time': array([0.14401422, 0.1251298 , 0.1436111 , 0.12676687, 0.16984034,\n",
       "         0.13958282, 0.15529947, 0.1450788 , 0.12623725, 0.13126836]),\n",
       "  'std_score_time': array([0.01233927, 0.00357562, 0.00772145, 0.00408868, 0.02173803,\n",
       "         0.00578314, 0.01909567, 0.00270527, 0.00383968, 0.00510592]),\n",
       "  'param_xgb__subsample': masked_array(data=[1.0, 0.9, 0.9, 1.0, 0.9, 0.9, 1.0, 1.0, 1.0, 0.9],\n",
       "               mask=[False, False, False, False, False, False, False, False,\n",
       "                     False, False],\n",
       "         fill_value='?',\n",
       "              dtype=object),\n",
       "  'param_xgb__reg_lambda': masked_array(data=[10.0, 5.0, 50.0, 0.1, 1.0, 10.0, 100.0, 100.0, 1.0,\n",
       "                     10.0],\n",
       "               mask=[False, False, False, False, False, False, False, False,\n",
       "                     False, False],\n",
       "         fill_value='?',\n",
       "              dtype=object),\n",
       "  'param_xgb__n_estimators': masked_array(data=[100, 120, 100, 120, 120, 120, 120, 120, 120, 120],\n",
       "               mask=[False, False, False, False, False, False, False, False,\n",
       "                     False, False],\n",
       "         fill_value='?',\n",
       "              dtype=object),\n",
       "  'param_xgb__min_child_weight': masked_array(data=[3.0, 1.0, 10.0, 3.0, 1.0, 7.0, 0.5, 0.5, 10.0, 5.0],\n",
       "               mask=[False, False, False, False, False, False, False, False,\n",
       "                     False, False],\n",
       "         fill_value='?',\n",
       "              dtype=object),\n",
       "  'param_xgb__max_depth': masked_array(data=[15, 6, 20, 6, 15, 10, 20, 15, 6, 10],\n",
       "               mask=[False, False, False, False, False, False, False, False,\n",
       "                     False, False],\n",
       "         fill_value='?',\n",
       "              dtype=object),\n",
       "  'param_xgb__learning_rate': masked_array(data=[0.01, 0.01, 0.001, 0.2, 0.1, 0.2, 0.001, 0.2, 0.1,\n",
       "                     0.01],\n",
       "               mask=[False, False, False, False, False, False, False, False,\n",
       "                     False, False],\n",
       "         fill_value='?',\n",
       "              dtype=object),\n",
       "  'param_xgb__gamma': masked_array(data=[1.0, 1.0, 1.0, 1.0, 1.0, 0.25, 0.5, 1.0, 1.0, 0.5],\n",
       "               mask=[False, False, False, False, False, False, False, False,\n",
       "                     False, False],\n",
       "         fill_value='?',\n",
       "              dtype=object),\n",
       "  'param_xgb__eta': masked_array(data=[0.9, 0.9, 0.9, 1.1, 0.9, 0.7, 0.9, 1.1, 1.1, 0.7],\n",
       "               mask=[False, False, False, False, False, False, False, False,\n",
       "                     False, False],\n",
       "         fill_value='?',\n",
       "              dtype=object),\n",
       "  'param_xgb__colsample_bytree': masked_array(data=[1.0, 1.0, 0.8, 0.7, 0.9, 0.6, 0.8, 0.6, 0.4, 0.7],\n",
       "               mask=[False, False, False, False, False, False, False, False,\n",
       "                     False, False],\n",
       "         fill_value='?',\n",
       "              dtype=object),\n",
       "  'param_xgb__colsample_bylevel': masked_array(data=[0.5, 0.8, 0.9, 0.6, 0.5, 0.5, 0.8, 0.5, 0.9, 0.6],\n",
       "               mask=[False, False, False, False, False, False, False, False,\n",
       "                     False, False],\n",
       "         fill_value='?',\n",
       "              dtype=object),\n",
       "  'params': [{'xgb__subsample': 1.0,\n",
       "    'xgb__reg_lambda': 10.0,\n",
       "    'xgb__n_estimators': 100,\n",
       "    'xgb__min_child_weight': 3.0,\n",
       "    'xgb__max_depth': 15,\n",
       "    'xgb__learning_rate': 0.01,\n",
       "    'xgb__gamma': 1.0,\n",
       "    'xgb__eta': 0.9,\n",
       "    'xgb__colsample_bytree': 1.0,\n",
       "    'xgb__colsample_bylevel': 0.5},\n",
       "   {'xgb__subsample': 0.9,\n",
       "    'xgb__reg_lambda': 5.0,\n",
       "    'xgb__n_estimators': 120,\n",
       "    'xgb__min_child_weight': 1.0,\n",
       "    'xgb__max_depth': 6,\n",
       "    'xgb__learning_rate': 0.01,\n",
       "    'xgb__gamma': 1.0,\n",
       "    'xgb__eta': 0.9,\n",
       "    'xgb__colsample_bytree': 1.0,\n",
       "    'xgb__colsample_bylevel': 0.8},\n",
       "   {'xgb__subsample': 0.9,\n",
       "    'xgb__reg_lambda': 50.0,\n",
       "    'xgb__n_estimators': 100,\n",
       "    'xgb__min_child_weight': 10.0,\n",
       "    'xgb__max_depth': 20,\n",
       "    'xgb__learning_rate': 0.001,\n",
       "    'xgb__gamma': 1.0,\n",
       "    'xgb__eta': 0.9,\n",
       "    'xgb__colsample_bytree': 0.8,\n",
       "    'xgb__colsample_bylevel': 0.9},\n",
       "   {'xgb__subsample': 1.0,\n",
       "    'xgb__reg_lambda': 0.1,\n",
       "    'xgb__n_estimators': 120,\n",
       "    'xgb__min_child_weight': 3.0,\n",
       "    'xgb__max_depth': 6,\n",
       "    'xgb__learning_rate': 0.2,\n",
       "    'xgb__gamma': 1.0,\n",
       "    'xgb__eta': 1.1,\n",
       "    'xgb__colsample_bytree': 0.7,\n",
       "    'xgb__colsample_bylevel': 0.6},\n",
       "   {'xgb__subsample': 0.9,\n",
       "    'xgb__reg_lambda': 1.0,\n",
       "    'xgb__n_estimators': 120,\n",
       "    'xgb__min_child_weight': 1.0,\n",
       "    'xgb__max_depth': 15,\n",
       "    'xgb__learning_rate': 0.1,\n",
       "    'xgb__gamma': 1.0,\n",
       "    'xgb__eta': 0.9,\n",
       "    'xgb__colsample_bytree': 0.9,\n",
       "    'xgb__colsample_bylevel': 0.5},\n",
       "   {'xgb__subsample': 0.9,\n",
       "    'xgb__reg_lambda': 10.0,\n",
       "    'xgb__n_estimators': 120,\n",
       "    'xgb__min_child_weight': 7.0,\n",
       "    'xgb__max_depth': 10,\n",
       "    'xgb__learning_rate': 0.2,\n",
       "    'xgb__gamma': 0.25,\n",
       "    'xgb__eta': 0.7,\n",
       "    'xgb__colsample_bytree': 0.6,\n",
       "    'xgb__colsample_bylevel': 0.5},\n",
       "   {'xgb__subsample': 1.0,\n",
       "    'xgb__reg_lambda': 100.0,\n",
       "    'xgb__n_estimators': 120,\n",
       "    'xgb__min_child_weight': 0.5,\n",
       "    'xgb__max_depth': 20,\n",
       "    'xgb__learning_rate': 0.001,\n",
       "    'xgb__gamma': 0.5,\n",
       "    'xgb__eta': 0.9,\n",
       "    'xgb__colsample_bytree': 0.8,\n",
       "    'xgb__colsample_bylevel': 0.8},\n",
       "   {'xgb__subsample': 1.0,\n",
       "    'xgb__reg_lambda': 100.0,\n",
       "    'xgb__n_estimators': 120,\n",
       "    'xgb__min_child_weight': 0.5,\n",
       "    'xgb__max_depth': 15,\n",
       "    'xgb__learning_rate': 0.2,\n",
       "    'xgb__gamma': 1.0,\n",
       "    'xgb__eta': 1.1,\n",
       "    'xgb__colsample_bytree': 0.6,\n",
       "    'xgb__colsample_bylevel': 0.5},\n",
       "   {'xgb__subsample': 1.0,\n",
       "    'xgb__reg_lambda': 1.0,\n",
       "    'xgb__n_estimators': 120,\n",
       "    'xgb__min_child_weight': 10.0,\n",
       "    'xgb__max_depth': 6,\n",
       "    'xgb__learning_rate': 0.1,\n",
       "    'xgb__gamma': 1.0,\n",
       "    'xgb__eta': 1.1,\n",
       "    'xgb__colsample_bytree': 0.4,\n",
       "    'xgb__colsample_bylevel': 0.9},\n",
       "   {'xgb__subsample': 0.9,\n",
       "    'xgb__reg_lambda': 10.0,\n",
       "    'xgb__n_estimators': 120,\n",
       "    'xgb__min_child_weight': 5.0,\n",
       "    'xgb__max_depth': 10,\n",
       "    'xgb__learning_rate': 0.01,\n",
       "    'xgb__gamma': 0.5,\n",
       "    'xgb__eta': 0.7,\n",
       "    'xgb__colsample_bytree': 0.7,\n",
       "    'xgb__colsample_bylevel': 0.6}],\n",
       "  'split0_test_score': array([0.76938999, 0.74150737, 0.75575307, 0.78290515, 0.79021064,\n",
       "         0.78083526, 0.75648362, 0.77596493, 0.76415439, 0.75818824]),\n",
       "  'split1_test_score': array([0.77864361, 0.75149154, 0.76366736, 0.79215877, 0.80019481,\n",
       "         0.79130647, 0.76683307, 0.78704493, 0.76805065, 0.76305857]),\n",
       "  'split2_test_score': array([0.7731645 , 0.74613418, 0.75879703, 0.78497504, 0.78667965,\n",
       "         0.7807135 , 0.76244977, 0.77913065, 0.76378911, 0.76098868]),\n",
       "  'split3_test_score': array([0.76412567, 0.73416951, 0.75109596, 0.7788602 , 0.78714077,\n",
       "         0.7793473 , 0.75353142, 0.7730151 , 0.75779347, 0.7518266 ]),\n",
       "  'split4_test_score': array([0.76339503, 0.73757915, 0.75353142, 0.7788602 , 0.79164637,\n",
       "         0.78287871, 0.75414028, 0.77910375, 0.76193376, 0.75170482]),\n",
       "  'mean_test_score': array([0.76974376, 0.74217635, 0.75656897, 0.78355187, 0.79117445,\n",
       "         0.78301625, 0.75868763, 0.77885187, 0.76314428, 0.75715338]),\n",
       "  'std_test_score': array([0.00570795, 0.00613398, 0.00436343, 0.00491011, 0.00487837,\n",
       "         0.00429575, 0.00515023, 0.00468337, 0.00333482, 0.0046629 ]),\n",
       "  'rank_test_score': array([ 5, 10,  9,  2,  1,  3,  7,  4,  6,  8]),\n",
       "  'split0_train_score': array([0.78359209, 0.74334855, 0.763379  , 0.79936073, 0.82511416,\n",
       "         0.79750381, 0.7652968 , 0.7934551 , 0.77251142, 0.76401826]),\n",
       "  'split1_train_score': array([0.77929985, 0.74249619, 0.7585997 , 0.7939726 , 0.82496195,\n",
       "         0.79863014, 0.76319635, 0.79098935, 0.76730594, 0.75905632]),\n",
       "  'split2_train_score': array([0.78423135, 0.74496195, 0.76030441, 0.79981735, 0.82563166,\n",
       "         0.79978691, 0.76401826, 0.79153729, 0.77135464, 0.76377473]),\n",
       "  'split3_train_score': array([0.77906304, 0.74633953, 0.76356884, 0.79711424, 0.82627622,\n",
       "         0.79924508, 0.76582144, 0.79373535, 0.77227482, 0.76439073]),\n",
       "  'split4_train_score': array([0.78195489, 0.74542632, 0.76213814, 0.79802746, 0.82502816,\n",
       "         0.7983623 , 0.76393413, 0.79148276, 0.77142248, 0.76308179]),\n",
       "  'mean_train_score': array([0.78162824, 0.74451451, 0.76159802, 0.79765848, 0.82540243,\n",
       "         0.79870565, 0.7644534 , 0.79223997, 0.77097386, 0.76286437]),\n",
       "  'std_train_score': array([0.00213266, 0.00139967, 0.00189795, 0.00207733, 0.00049664,\n",
       "         0.00077822, 0.00096146, 0.0011264 , 0.00188979, 0.00195134])},\n",
       " 'n_splits_': 5}"
      ]
     },
     "execution_count": 96,
     "metadata": {},
     "output_type": "execute_result"
    }
   ],
   "source": [
    "rs.__dict__"
   ]
  },
  {
   "cell_type": "markdown",
   "metadata": {},
   "source": [
    "# First Simple Model on Binary Data"
   ]
  },
  {
   "cell_type": "code",
   "execution_count": 12,
   "metadata": {},
   "outputs": [
    {
     "data": {
      "image/png": "[encoded data removed]",
      "text/plain": [
       "<Figure size 432x288 with 2 Axes>"
      ]
     },
     "metadata": {
      "needs_background": "light"
     },
     "output_type": "display_data"
    }
   ],
   "source": [
    "dummy_model = DummyClassifier(strategy = 'most_frequent')\n",
    "dummy_model.fit(X_train, y_train)\n",
    "\n",
    "plot_confusion_matrix(dummy_model, X_train, y_train);"
   ]
  },
  {
   "cell_type": "code",
   "execution_count": 13,
   "metadata": {},
   "outputs": [
    {
     "name": "stdout",
     "output_type": "stream",
     "text": [
      "Accuracy Scores: [0.54705954 0.54693778 0.54693778 0.54700438 0.54700438]\n",
      "Mean Accuracy: 0.5469887741085512\n"
     ]
    },
    {
     "data": {
      "text/plain": [
       "('Recall Scores:',\n",
       " {'fit_time': array([0.00502992, 0.00498676, 0.00398993, 0.00498199, 0.00496435]),\n",
       "  'score_time': array([0.00297618, 0.00199437, 0.00399184, 0.00399065, 0.00396943]),\n",
       "  'test_score': array([0., 0., 0., 0., 0.]),\n",
       "  'train_score': array([0., 0., 0., 0., 0.])})"
      ]
     },
     "execution_count": 13,
     "metadata": {},
     "output_type": "execute_result"
    }
   ],
   "source": [
    "print(\"Accuracy Scores:\", cross_val_score(dummy_model, X_train, y_train))\n",
    "print(\"Mean Accuracy:\", cross_val_score(dummy_model, X_train, y_train).mean())\n",
    "\"Recall Scores:\", cross_validate(dummy_model, X_train, y_train, return_train_score= True, scoring = 'recall')"
   ]
  },
  {
   "cell_type": "markdown",
   "metadata": {},
   "source": [
    "# Vanilla Models"
   ]
  },
  {
   "cell_type": "markdown",
   "metadata": {},
   "source": [
    "## Model 1 - Logistic Regression"
   ]
  },
  {
   "cell_type": "code",
   "execution_count": 26,
   "metadata": {
    "scrolled": true
   },
   "outputs": [
    {
     "data": {
      "image/png": "[encoded data removed]",
      "text/plain": [
       "<Figure size 432x288 with 2 Axes>"
      ]
     },
     "metadata": {
      "needs_background": "light"
     },
     "output_type": "display_data"
    }
   ],
   "source": [
    "logreg_pipe.fit(X_train, y_train)\n",
    "plot_confusion_matrix(logreg_pipe, X_train, y_train);"
   ]
  },
  {
   "cell_type": "code",
   "execution_count": 27,
   "metadata": {},
   "outputs": [
    {
     "name": "stdout",
     "output_type": "stream",
     "text": [
      "Accuracy Scores: [0.73882869 0.74211616 0.73773286 0.73514369 0.74171943]\n",
      "Mean Accuracy: 0.7391081666413524\n"
     ]
    },
    {
     "data": {
      "text/plain": [
       "('Recall Scores:',\n",
       " {'fit_time': array([0.47884846, 0.47772336, 0.48189902, 0.46174884, 0.51243305]),\n",
       "  'score_time': array([0.06304908, 0.05684781, 0.05451632, 0.04483986, 0.05983782]),\n",
       "  'test_score': array([0.58198925, 0.58989519, 0.58452029, 0.57043011, 0.58844086]),\n",
       "  'train_score': array([0.58607714, 0.58147974, 0.58571333, 0.58721946, 0.58533799])})"
      ]
     },
     "execution_count": 27,
     "metadata": {},
     "output_type": "execute_result"
    }
   ],
   "source": [
    "print(\"Accuracy Scores:\", cross_val_score(logreg_pipe, X_train, y_train))\n",
    "print(\"Mean Accuracy:\", cross_val_score(logreg_pipe, X_train, y_train).mean())\n",
    "\"Recall Scores:\", cross_validate(logreg_pipe, X_train, y_train, return_train_score= True, scoring = 'recall')"
   ]
  },
  {
   "cell_type": "markdown",
   "metadata": {},
   "source": [
    "## Model 2 - K Nearest Neighbors"
   ]
  },
  {
   "cell_type": "code",
   "execution_count": 28,
   "metadata": {
    "scrolled": true
   },
   "outputs": [
    {
     "data": {
      "image/png": "[encoded data removed]",
      "text/plain": [
       "<Figure size 432x288 with 2 Axes>"
      ]
     },
     "metadata": {
      "needs_background": "light"
     },
     "output_type": "display_data"
    }
   ],
   "source": [
    "knn_pipe.fit(X_train, y_train)\n",
    "plot_confusion_matrix(knn_pipe, X_train, y_train);"
   ]
  },
  {
   "cell_type": "code",
   "execution_count": 29,
   "metadata": {},
   "outputs": [],
   "source": [
    "#print(\"Accuracy Scores:\", cross_val_score(knn_pipe, X_train, y_train))\n",
    "#\"Recall Scores:\", cross_validate(knn_pipe, X_train, y_train, return_train_score= True, scoring = 'recall')\n",
    "#do not uncomment unless you're comfortable with waiting a really long time"
   ]
  },
  {
   "cell_type": "markdown",
   "metadata": {},
   "source": [
    "## Model 3 - Decision Tree Classifier"
   ]
  },
  {
   "cell_type": "code",
   "execution_count": 30,
   "metadata": {
    "scrolled": false
   },
   "outputs": [
    {
     "data": {
      "image/png": "[encoded data removed]",
      "text/plain": [
       "<Figure size 432x288 with 2 Axes>"
      ]
     },
     "metadata": {
      "needs_background": "light"
     },
     "output_type": "display_data"
    }
   ],
   "source": [
    "tree_pipe.fit(X_train, y_train)\n",
    "plot_confusion_matrix(tree_pipe, X_train, y_train);"
   ]
  },
  {
   "cell_type": "code",
   "execution_count": 31,
   "metadata": {},
   "outputs": [
    {
     "name": "stdout",
     "output_type": "stream",
     "text": [
      "Accuracy Scores: [0.77645197 0.78753196 0.7784001  0.7788602  0.77411106]\n",
      "Mean Accuracy: 0.7785109459899537\n"
     ]
    },
    {
     "data": {
      "text/plain": [
       "('Recall Scores:',\n",
       " {'fit_time': array([0.7108736 , 0.6476295 , 0.67972517, 0.6491046 , 0.61254382]),\n",
       "  'score_time': array([0.05784392, 0.04570961, 0.04825616, 0.04265618, 0.0458765 ]),\n",
       "  'test_score': array([0.65672043, 0.68073099, 0.66595001, 0.66639785, 0.66774194]),\n",
       "  'train_score': array([0.74620347, 0.74779921, 0.74490962, 0.74801774, 0.74895847])})"
      ]
     },
     "execution_count": 31,
     "metadata": {},
     "output_type": "execute_result"
    }
   ],
   "source": [
    "print(\"Accuracy Scores:\", cross_val_score(tree_pipe, X_train, y_train))\n",
    "print(\"Mean Accuracy:\", cross_val_score(tree_pipe, X_train, y_train).mean())\n",
    "\"Recall Scores:\", cross_validate(tree_pipe, X_train, y_train, return_train_score= True, scoring = 'recall')"
   ]
  },
  {
   "cell_type": "markdown",
   "metadata": {},
   "source": [
    "## Model 4 - XGB Classifier"
   ]
  },
  {
   "cell_type": "code",
   "execution_count": 32,
   "metadata": {
    "scrolled": true
   },
   "outputs": [
    {
     "data": {
      "image/png": "[encoded data removed]",
      "text/plain": [
       "<Figure size 432x288 with 2 Axes>"
      ]
     },
     "metadata": {
      "needs_background": "light"
     },
     "output_type": "display_data"
    }
   ],
   "source": [
    "xgb_pipe.fit(X_train, y_train)\n",
    "plot_confusion_matrix(xgb_pipe, X_train, y_train);"
   ]
  },
  {
   "cell_type": "code",
   "execution_count": 33,
   "metadata": {},
   "outputs": [
    {
     "name": "stdout",
     "output_type": "stream",
     "text": [
      "Accuracy Scores: [0.78144405 0.79763789 0.7850968  0.78190453 0.78531417]\n",
      "Mean Accuracy: 0.7862794890710905\n"
     ]
    },
    {
     "data": {
      "text/plain": [
       "('Recall Scores:',\n",
       " {'fit_time': array([3.62005496, 3.55619574, 3.58899975, 3.60343003, 3.5615921 ]),\n",
       "  'score_time': array([0.16591358, 0.15313077, 0.14293194, 0.14278817, 0.14486957]),\n",
       "  'test_score': array([0.65456989, 0.6855684 , 0.6640688 , 0.65806452, 0.65349462]),\n",
       "  'train_score': array([0.68841554, 0.68973859, 0.6886634 , 0.69231286, 0.68062088])})"
      ]
     },
     "execution_count": 33,
     "metadata": {},
     "output_type": "execute_result"
    }
   ],
   "source": [
    "print(\"Accuracy Scores:\", cross_val_score(xgb_pipe, X_train, y_train))\n",
    "print(\"Mean Accuracy:\", cross_val_score(xgb_pipe, X_train, y_train).mean())\n",
    "\"Recall Scores:\", cross_validate(xgb_pipe, X_train, y_train, return_train_score= True, scoring = 'recall')"
   ]
  },
  {
   "cell_type": "markdown",
   "metadata": {},
   "source": [
    "## Model 5 - Random Forest Classifier"
   ]
  },
  {
   "cell_type": "code",
   "execution_count": 34,
   "metadata": {
    "scrolled": true
   },
   "outputs": [
    {
     "data": {
      "image/png": "[encoded data removed]",
      "text/plain": [
       "<Figure size 432x288 with 2 Axes>"
      ]
     },
     "metadata": {
      "needs_background": "light"
     },
     "output_type": "display_data"
    }
   ],
   "source": [
    "forest_pipe.fit(X_train, y_train)\n",
    "plot_confusion_matrix(forest_pipe, X_train, y_train);"
   ]
  },
  {
   "cell_type": "code",
   "execution_count": 36,
   "metadata": {},
   "outputs": [
    {
     "name": "stdout",
     "output_type": "stream",
     "text": [
      "Accuracy Scores: [0.78375746 0.79069767 0.78400097 0.78324403 0.78226985]\n",
      "Mean Accuracy: 0.7851105867410256\n"
     ]
    },
    {
     "data": {
      "text/plain": [
       "('Recall Scores:',\n",
       " {'fit_time': array([4.33274388, 3.94697905, 4.15101624, 4.02547622, 4.20825028]),\n",
       "  'score_time': array([0.24612117, 0.23344517, 0.2353723 , 0.24171138, 0.25878572]),\n",
       "  'test_score': array([0.68064516, 0.70384305, 0.6904058 , 0.68978495, 0.69569892]),\n",
       "  'train_score': array([0.76293509, 0.76271756, 0.76217996, 0.7656901 , 0.76958742])})"
      ]
     },
     "execution_count": 36,
     "metadata": {},
     "output_type": "execute_result"
    }
   ],
   "source": [
    "print(\"Accuracy Scores:\", cross_val_score(forest_pipe, X_train, y_train))\n",
    "print(\"Mean Accuracy:\", cross_val_score(forest_pipe, X_train, y_train).mean())\n",
    "\"Recall Scores:\", cross_validate(forest_pipe, X_train, y_train, return_train_score= True, scoring = 'recall')"
   ]
  },
  {
   "cell_type": "markdown",
   "metadata": {},
   "source": [
    "# Tuned Models"
   ]
  },
  {
   "cell_type": "markdown",
   "metadata": {},
   "source": [
    "## Tuned Model 1 - Decision Tree"
   ]
  },
  {
   "cell_type": "code",
   "execution_count": 37,
   "metadata": {},
   "outputs": [],
   "source": [
    "tree_pipe_tuned = Pipeline(steps =[('transform', CustomTransformer()),('scaler', StandardScaler()), \n",
    "                                   ('tree', DecisionTreeClassifier(criterion = 'entropy',\n",
    "                                                                   max_depth = 30,\n",
    "                                                                   max_features = 'sqrt'))])"
   ]
  },
  {
   "cell_type": "code",
   "execution_count": 39,
   "metadata": {
    "scrolled": true
   },
   "outputs": [
    {
     "data": {
      "image/png": "[encoded data removed]",
      "text/plain": [
       "<Figure size 432x288 with 2 Axes>"
      ]
     },
     "metadata": {
      "needs_background": "light"
     },
     "output_type": "display_data"
    }
   ],
   "source": [
    "tree_pipe_tuned.fit(X_train, y_train)\n",
    "plot_confusion_matrix(tree_pipe_tuned, X_train, y_train);"
   ]
  },
  {
   "cell_type": "code",
   "execution_count": 40,
   "metadata": {
    "scrolled": true
   },
   "outputs": [
    {
     "name": "stdout",
     "output_type": "stream",
     "text": [
      "Accuracy Scores: [0.77267746 0.78144405 0.77572142 0.77386751 0.77398928]\n",
      "Mean Accuracy: 0.7760512052192452\n"
     ]
    },
    {
     "data": {
      "text/plain": [
       "('Recall Scores:',\n",
       " {'fit_time': array([0.33709812, 0.32420588, 0.35734487, 0.34008861, 0.34670258]),\n",
       "  'score_time': array([0.05285811, 0.03982449, 0.03933477, 0.03774953, 0.04581022]),\n",
       "  'test_score': array([0.65349462, 0.67320613, 0.65063155, 0.62768817, 0.63897849]),\n",
       "  'train_score': array([0.73101734, 0.72737047, 0.72091929, 0.70541594, 0.70118264])})"
      ]
     },
     "execution_count": 40,
     "metadata": {},
     "output_type": "execute_result"
    }
   ],
   "source": [
    "print(\"Accuracy Scores:\", cross_val_score(tree_pipe_tuned, X_train, y_train))\n",
    "print(\"Mean Accuracy:\", cross_val_score(tree_pipe_tuned, X_train, y_train).mean())\n",
    "\"Recall Scores:\", cross_validate(tree_pipe_tuned, X_train, y_train, return_train_score= True, scoring = 'recall')"
   ]
  },
  {
   "cell_type": "markdown",
   "metadata": {},
   "source": [
    "## Tuned Model 2 - XGBoost Classifier"
   ]
  },
  {
   "cell_type": "markdown",
   "metadata": {},
   "source": [
    "Trial and error tuning of parameters beginning at Search results led to the following being the most successful:"
   ]
  },
  {
   "cell_type": "code",
   "execution_count": 129,
   "metadata": {},
   "outputs": [],
   "source": [
    "xgb_pipe_tuned = Pipeline(steps =[('transform', CustomTransformer()),('scaler', StandardScaler()), \n",
    "                                  ('xgb', XGBClassifier(subsample=0.9,\n",
    "                                                        reg_lambda=.1,\n",
    "                                                        n_estimators=500,\n",
    "                                                        booster = 'dart',\n",
    "                                                        min_child_weight=1.0,\n",
    "                                                        max_depth=40,\n",
    "                                                        learning_rate=0.3,\n",
    "                                                        gamma=.8,\n",
    "                                                        eta=0.9,\n",
    "                                                        colsample_bytree=0.9,\n",
    "                                                        colsample_bylevel=0.5))])\n",
    "\n",
    "#estimators = 500, depth = 40, lr = .3, lambda = .1, gamma = .8 20612 1849 4469 14133\n",
    "#estimators = 500 depth = 40 lr = .3 lambda = "
   ]
  },
  {
   "cell_type": "code",
   "execution_count": 130,
   "metadata": {},
   "outputs": [
    {
     "data": {
      "image/png": "[encoded data removed]",
      "text/plain": [
       "<Figure size 432x288 with 2 Axes>"
      ]
     },
     "metadata": {
      "needs_background": "light"
     },
     "output_type": "display_data"
    }
   ],
   "source": [
    "xgb_pipe_tuned.fit(X_train, y_train)\n",
    "plot_confusion_matrix(xgb_pipe_tuned, X_train, y_train);"
   ]
  },
  {
   "cell_type": "markdown",
   "metadata": {},
   "source": [
    "The recall calculations below take a little while, but they do work.  "
   ]
  },
  {
   "cell_type": "code",
   "execution_count": 52,
   "metadata": {
    "scrolled": true
   },
   "outputs": [
    {
     "ename": "KeyboardInterrupt",
     "evalue": "",
     "output_type": "error",
     "traceback": [
      "\u001b[1;31m---------------------------------------------------------------------------\u001b[0m",
      "\u001b[1;31mKeyboardInterrupt\u001b[0m                         Traceback (most recent call last)",
      "\u001b[1;32m<ipython-input-52-8449ef6d7656>\u001b[0m in \u001b[0;36m<module>\u001b[1;34m\u001b[0m\n\u001b[1;32m----> 1\u001b[1;33m \u001b[0mprint\u001b[0m\u001b[1;33m(\u001b[0m\u001b[1;34m\"Accuracy Scores:\"\u001b[0m\u001b[1;33m,\u001b[0m \u001b[0mcross_val_score\u001b[0m\u001b[1;33m(\u001b[0m\u001b[0mxgb_pipe_tuned\u001b[0m\u001b[1;33m,\u001b[0m \u001b[0mX_train\u001b[0m\u001b[1;33m,\u001b[0m \u001b[0my_train\u001b[0m\u001b[1;33m)\u001b[0m\u001b[1;33m)\u001b[0m\u001b[1;33m\u001b[0m\u001b[1;33m\u001b[0m\u001b[0m\n\u001b[0m\u001b[0;32m      2\u001b[0m \u001b[0mprint\u001b[0m\u001b[1;33m(\u001b[0m\u001b[1;34m\"Mean Accuracy:\"\u001b[0m\u001b[1;33m,\u001b[0m \u001b[0mcross_val_score\u001b[0m\u001b[1;33m(\u001b[0m\u001b[0mxgb_pipe_tuned\u001b[0m\u001b[1;33m,\u001b[0m \u001b[0mX_train\u001b[0m\u001b[1;33m,\u001b[0m \u001b[0my_train\u001b[0m\u001b[1;33m)\u001b[0m\u001b[1;33m.\u001b[0m\u001b[0mmean\u001b[0m\u001b[1;33m(\u001b[0m\u001b[1;33m)\u001b[0m\u001b[1;33m)\u001b[0m\u001b[1;33m\u001b[0m\u001b[1;33m\u001b[0m\u001b[0m\n\u001b[0;32m      3\u001b[0m \u001b[1;34m\"Recall Scores:\"\u001b[0m\u001b[1;33m,\u001b[0m \u001b[0mcross_validate\u001b[0m\u001b[1;33m(\u001b[0m\u001b[0mxgb_pipe_tuned\u001b[0m\u001b[1;33m,\u001b[0m \u001b[0mX_train\u001b[0m\u001b[1;33m,\u001b[0m \u001b[0my_train\u001b[0m\u001b[1;33m,\u001b[0m \u001b[0mreturn_train_score\u001b[0m\u001b[1;33m=\u001b[0m \u001b[1;32mTrue\u001b[0m\u001b[1;33m,\u001b[0m \u001b[0mscoring\u001b[0m \u001b[1;33m=\u001b[0m \u001b[1;34m'recall'\u001b[0m\u001b[1;33m)\u001b[0m\u001b[1;33m\u001b[0m\u001b[1;33m\u001b[0m\u001b[0m\n",
      "\u001b[1;32m~\\anaconda3\\envs\\learn-env\\lib\\site-packages\\sklearn\\utils\\validation.py\u001b[0m in \u001b[0;36minner_f\u001b[1;34m(*args, **kwargs)\u001b[0m\n\u001b[0;32m     70\u001b[0m                           FutureWarning)\n\u001b[0;32m     71\u001b[0m         \u001b[0mkwargs\u001b[0m\u001b[1;33m.\u001b[0m\u001b[0mupdate\u001b[0m\u001b[1;33m(\u001b[0m\u001b[1;33m{\u001b[0m\u001b[0mk\u001b[0m\u001b[1;33m:\u001b[0m \u001b[0marg\u001b[0m \u001b[1;32mfor\u001b[0m \u001b[0mk\u001b[0m\u001b[1;33m,\u001b[0m \u001b[0marg\u001b[0m \u001b[1;32min\u001b[0m \u001b[0mzip\u001b[0m\u001b[1;33m(\u001b[0m\u001b[0msig\u001b[0m\u001b[1;33m.\u001b[0m\u001b[0mparameters\u001b[0m\u001b[1;33m,\u001b[0m \u001b[0margs\u001b[0m\u001b[1;33m)\u001b[0m\u001b[1;33m}\u001b[0m\u001b[1;33m)\u001b[0m\u001b[1;33m\u001b[0m\u001b[1;33m\u001b[0m\u001b[0m\n\u001b[1;32m---> 72\u001b[1;33m         \u001b[1;32mreturn\u001b[0m \u001b[0mf\u001b[0m\u001b[1;33m(\u001b[0m\u001b[1;33m**\u001b[0m\u001b[0mkwargs\u001b[0m\u001b[1;33m)\u001b[0m\u001b[1;33m\u001b[0m\u001b[1;33m\u001b[0m\u001b[0m\n\u001b[0m\u001b[0;32m     73\u001b[0m     \u001b[1;32mreturn\u001b[0m \u001b[0minner_f\u001b[0m\u001b[1;33m\u001b[0m\u001b[1;33m\u001b[0m\u001b[0m\n\u001b[0;32m     74\u001b[0m \u001b[1;33m\u001b[0m\u001b[0m\n",
      "\u001b[1;32m~\\anaconda3\\envs\\learn-env\\lib\\site-packages\\sklearn\\model_selection\\_validation.py\u001b[0m in \u001b[0;36mcross_val_score\u001b[1;34m(estimator, X, y, groups, scoring, cv, n_jobs, verbose, fit_params, pre_dispatch, error_score)\u001b[0m\n\u001b[0;32m    399\u001b[0m     \u001b[0mscorer\u001b[0m \u001b[1;33m=\u001b[0m \u001b[0mcheck_scoring\u001b[0m\u001b[1;33m(\u001b[0m\u001b[0mestimator\u001b[0m\u001b[1;33m,\u001b[0m \u001b[0mscoring\u001b[0m\u001b[1;33m=\u001b[0m\u001b[0mscoring\u001b[0m\u001b[1;33m)\u001b[0m\u001b[1;33m\u001b[0m\u001b[1;33m\u001b[0m\u001b[0m\n\u001b[0;32m    400\u001b[0m \u001b[1;33m\u001b[0m\u001b[0m\n\u001b[1;32m--> 401\u001b[1;33m     cv_results = cross_validate(estimator=estimator, X=X, y=y, groups=groups,\n\u001b[0m\u001b[0;32m    402\u001b[0m                                 \u001b[0mscoring\u001b[0m\u001b[1;33m=\u001b[0m\u001b[1;33m{\u001b[0m\u001b[1;34m'score'\u001b[0m\u001b[1;33m:\u001b[0m \u001b[0mscorer\u001b[0m\u001b[1;33m}\u001b[0m\u001b[1;33m,\u001b[0m \u001b[0mcv\u001b[0m\u001b[1;33m=\u001b[0m\u001b[0mcv\u001b[0m\u001b[1;33m,\u001b[0m\u001b[1;33m\u001b[0m\u001b[1;33m\u001b[0m\u001b[0m\n\u001b[0;32m    403\u001b[0m                                 \u001b[0mn_jobs\u001b[0m\u001b[1;33m=\u001b[0m\u001b[0mn_jobs\u001b[0m\u001b[1;33m,\u001b[0m \u001b[0mverbose\u001b[0m\u001b[1;33m=\u001b[0m\u001b[0mverbose\u001b[0m\u001b[1;33m,\u001b[0m\u001b[1;33m\u001b[0m\u001b[1;33m\u001b[0m\u001b[0m\n",
      "\u001b[1;32m~\\anaconda3\\envs\\learn-env\\lib\\site-packages\\sklearn\\utils\\validation.py\u001b[0m in \u001b[0;36minner_f\u001b[1;34m(*args, **kwargs)\u001b[0m\n\u001b[0;32m     70\u001b[0m                           FutureWarning)\n\u001b[0;32m     71\u001b[0m         \u001b[0mkwargs\u001b[0m\u001b[1;33m.\u001b[0m\u001b[0mupdate\u001b[0m\u001b[1;33m(\u001b[0m\u001b[1;33m{\u001b[0m\u001b[0mk\u001b[0m\u001b[1;33m:\u001b[0m \u001b[0marg\u001b[0m \u001b[1;32mfor\u001b[0m \u001b[0mk\u001b[0m\u001b[1;33m,\u001b[0m \u001b[0marg\u001b[0m \u001b[1;32min\u001b[0m \u001b[0mzip\u001b[0m\u001b[1;33m(\u001b[0m\u001b[0msig\u001b[0m\u001b[1;33m.\u001b[0m\u001b[0mparameters\u001b[0m\u001b[1;33m,\u001b[0m \u001b[0margs\u001b[0m\u001b[1;33m)\u001b[0m\u001b[1;33m}\u001b[0m\u001b[1;33m)\u001b[0m\u001b[1;33m\u001b[0m\u001b[1;33m\u001b[0m\u001b[0m\n\u001b[1;32m---> 72\u001b[1;33m         \u001b[1;32mreturn\u001b[0m \u001b[0mf\u001b[0m\u001b[1;33m(\u001b[0m\u001b[1;33m**\u001b[0m\u001b[0mkwargs\u001b[0m\u001b[1;33m)\u001b[0m\u001b[1;33m\u001b[0m\u001b[1;33m\u001b[0m\u001b[0m\n\u001b[0m\u001b[0;32m     73\u001b[0m     \u001b[1;32mreturn\u001b[0m \u001b[0minner_f\u001b[0m\u001b[1;33m\u001b[0m\u001b[1;33m\u001b[0m\u001b[0m\n\u001b[0;32m     74\u001b[0m \u001b[1;33m\u001b[0m\u001b[0m\n",
      "\u001b[1;32m~\\anaconda3\\envs\\learn-env\\lib\\site-packages\\sklearn\\model_selection\\_validation.py\u001b[0m in \u001b[0;36mcross_validate\u001b[1;34m(estimator, X, y, groups, scoring, cv, n_jobs, verbose, fit_params, pre_dispatch, return_train_score, return_estimator, error_score)\u001b[0m\n\u001b[0;32m    240\u001b[0m     parallel = Parallel(n_jobs=n_jobs, verbose=verbose,\n\u001b[0;32m    241\u001b[0m                         pre_dispatch=pre_dispatch)\n\u001b[1;32m--> 242\u001b[1;33m     scores = parallel(\n\u001b[0m\u001b[0;32m    243\u001b[0m         delayed(_fit_and_score)(\n\u001b[0;32m    244\u001b[0m             \u001b[0mclone\u001b[0m\u001b[1;33m(\u001b[0m\u001b[0mestimator\u001b[0m\u001b[1;33m)\u001b[0m\u001b[1;33m,\u001b[0m \u001b[0mX\u001b[0m\u001b[1;33m,\u001b[0m \u001b[0my\u001b[0m\u001b[1;33m,\u001b[0m \u001b[0mscorers\u001b[0m\u001b[1;33m,\u001b[0m \u001b[0mtrain\u001b[0m\u001b[1;33m,\u001b[0m \u001b[0mtest\u001b[0m\u001b[1;33m,\u001b[0m \u001b[0mverbose\u001b[0m\u001b[1;33m,\u001b[0m \u001b[1;32mNone\u001b[0m\u001b[1;33m,\u001b[0m\u001b[1;33m\u001b[0m\u001b[1;33m\u001b[0m\u001b[0m\n",
      "\u001b[1;32m~\\anaconda3\\envs\\learn-env\\lib\\site-packages\\joblib\\parallel.py\u001b[0m in \u001b[0;36m__call__\u001b[1;34m(self, iterable)\u001b[0m\n\u001b[0;32m   1046\u001b[0m             \u001b[1;31m# remaining jobs.\u001b[0m\u001b[1;33m\u001b[0m\u001b[1;33m\u001b[0m\u001b[1;33m\u001b[0m\u001b[0m\n\u001b[0;32m   1047\u001b[0m             \u001b[0mself\u001b[0m\u001b[1;33m.\u001b[0m\u001b[0m_iterating\u001b[0m \u001b[1;33m=\u001b[0m \u001b[1;32mFalse\u001b[0m\u001b[1;33m\u001b[0m\u001b[1;33m\u001b[0m\u001b[0m\n\u001b[1;32m-> 1048\u001b[1;33m             \u001b[1;32mif\u001b[0m \u001b[0mself\u001b[0m\u001b[1;33m.\u001b[0m\u001b[0mdispatch_one_batch\u001b[0m\u001b[1;33m(\u001b[0m\u001b[0miterator\u001b[0m\u001b[1;33m)\u001b[0m\u001b[1;33m:\u001b[0m\u001b[1;33m\u001b[0m\u001b[1;33m\u001b[0m\u001b[0m\n\u001b[0m\u001b[0;32m   1049\u001b[0m                 \u001b[0mself\u001b[0m\u001b[1;33m.\u001b[0m\u001b[0m_iterating\u001b[0m \u001b[1;33m=\u001b[0m \u001b[0mself\u001b[0m\u001b[1;33m.\u001b[0m\u001b[0m_original_iterator\u001b[0m \u001b[1;32mis\u001b[0m \u001b[1;32mnot\u001b[0m \u001b[1;32mNone\u001b[0m\u001b[1;33m\u001b[0m\u001b[1;33m\u001b[0m\u001b[0m\n\u001b[0;32m   1050\u001b[0m \u001b[1;33m\u001b[0m\u001b[0m\n",
      "\u001b[1;32m~\\anaconda3\\envs\\learn-env\\lib\\site-packages\\joblib\\parallel.py\u001b[0m in \u001b[0;36mdispatch_one_batch\u001b[1;34m(self, iterator)\u001b[0m\n\u001b[0;32m    864\u001b[0m                 \u001b[1;32mreturn\u001b[0m \u001b[1;32mFalse\u001b[0m\u001b[1;33m\u001b[0m\u001b[1;33m\u001b[0m\u001b[0m\n\u001b[0;32m    865\u001b[0m             \u001b[1;32melse\u001b[0m\u001b[1;33m:\u001b[0m\u001b[1;33m\u001b[0m\u001b[1;33m\u001b[0m\u001b[0m\n\u001b[1;32m--> 866\u001b[1;33m                 \u001b[0mself\u001b[0m\u001b[1;33m.\u001b[0m\u001b[0m_dispatch\u001b[0m\u001b[1;33m(\u001b[0m\u001b[0mtasks\u001b[0m\u001b[1;33m)\u001b[0m\u001b[1;33m\u001b[0m\u001b[1;33m\u001b[0m\u001b[0m\n\u001b[0m\u001b[0;32m    867\u001b[0m                 \u001b[1;32mreturn\u001b[0m \u001b[1;32mTrue\u001b[0m\u001b[1;33m\u001b[0m\u001b[1;33m\u001b[0m\u001b[0m\n\u001b[0;32m    868\u001b[0m \u001b[1;33m\u001b[0m\u001b[0m\n",
      "\u001b[1;32m~\\anaconda3\\envs\\learn-env\\lib\\site-packages\\joblib\\parallel.py\u001b[0m in \u001b[0;36m_dispatch\u001b[1;34m(self, batch)\u001b[0m\n\u001b[0;32m    782\u001b[0m         \u001b[1;32mwith\u001b[0m \u001b[0mself\u001b[0m\u001b[1;33m.\u001b[0m\u001b[0m_lock\u001b[0m\u001b[1;33m:\u001b[0m\u001b[1;33m\u001b[0m\u001b[1;33m\u001b[0m\u001b[0m\n\u001b[0;32m    783\u001b[0m             \u001b[0mjob_idx\u001b[0m \u001b[1;33m=\u001b[0m \u001b[0mlen\u001b[0m\u001b[1;33m(\u001b[0m\u001b[0mself\u001b[0m\u001b[1;33m.\u001b[0m\u001b[0m_jobs\u001b[0m\u001b[1;33m)\u001b[0m\u001b[1;33m\u001b[0m\u001b[1;33m\u001b[0m\u001b[0m\n\u001b[1;32m--> 784\u001b[1;33m             \u001b[0mjob\u001b[0m \u001b[1;33m=\u001b[0m \u001b[0mself\u001b[0m\u001b[1;33m.\u001b[0m\u001b[0m_backend\u001b[0m\u001b[1;33m.\u001b[0m\u001b[0mapply_async\u001b[0m\u001b[1;33m(\u001b[0m\u001b[0mbatch\u001b[0m\u001b[1;33m,\u001b[0m \u001b[0mcallback\u001b[0m\u001b[1;33m=\u001b[0m\u001b[0mcb\u001b[0m\u001b[1;33m)\u001b[0m\u001b[1;33m\u001b[0m\u001b[1;33m\u001b[0m\u001b[0m\n\u001b[0m\u001b[0;32m    785\u001b[0m             \u001b[1;31m# A job can complete so quickly than its callback is\u001b[0m\u001b[1;33m\u001b[0m\u001b[1;33m\u001b[0m\u001b[1;33m\u001b[0m\u001b[0m\n\u001b[0;32m    786\u001b[0m             \u001b[1;31m# called before we get here, causing self._jobs to\u001b[0m\u001b[1;33m\u001b[0m\u001b[1;33m\u001b[0m\u001b[1;33m\u001b[0m\u001b[0m\n",
      "\u001b[1;32m~\\anaconda3\\envs\\learn-env\\lib\\site-packages\\joblib\\_parallel_backends.py\u001b[0m in \u001b[0;36mapply_async\u001b[1;34m(self, func, callback)\u001b[0m\n\u001b[0;32m    206\u001b[0m     \u001b[1;32mdef\u001b[0m \u001b[0mapply_async\u001b[0m\u001b[1;33m(\u001b[0m\u001b[0mself\u001b[0m\u001b[1;33m,\u001b[0m \u001b[0mfunc\u001b[0m\u001b[1;33m,\u001b[0m \u001b[0mcallback\u001b[0m\u001b[1;33m=\u001b[0m\u001b[1;32mNone\u001b[0m\u001b[1;33m)\u001b[0m\u001b[1;33m:\u001b[0m\u001b[1;33m\u001b[0m\u001b[1;33m\u001b[0m\u001b[0m\n\u001b[0;32m    207\u001b[0m         \u001b[1;34m\"\"\"Schedule a func to be run\"\"\"\u001b[0m\u001b[1;33m\u001b[0m\u001b[1;33m\u001b[0m\u001b[0m\n\u001b[1;32m--> 208\u001b[1;33m         \u001b[0mresult\u001b[0m \u001b[1;33m=\u001b[0m \u001b[0mImmediateResult\u001b[0m\u001b[1;33m(\u001b[0m\u001b[0mfunc\u001b[0m\u001b[1;33m)\u001b[0m\u001b[1;33m\u001b[0m\u001b[1;33m\u001b[0m\u001b[0m\n\u001b[0m\u001b[0;32m    209\u001b[0m         \u001b[1;32mif\u001b[0m \u001b[0mcallback\u001b[0m\u001b[1;33m:\u001b[0m\u001b[1;33m\u001b[0m\u001b[1;33m\u001b[0m\u001b[0m\n\u001b[0;32m    210\u001b[0m             \u001b[0mcallback\u001b[0m\u001b[1;33m(\u001b[0m\u001b[0mresult\u001b[0m\u001b[1;33m)\u001b[0m\u001b[1;33m\u001b[0m\u001b[1;33m\u001b[0m\u001b[0m\n",
      "\u001b[1;32m~\\anaconda3\\envs\\learn-env\\lib\\site-packages\\joblib\\_parallel_backends.py\u001b[0m in \u001b[0;36m__init__\u001b[1;34m(self, batch)\u001b[0m\n\u001b[0;32m    570\u001b[0m         \u001b[1;31m# Don't delay the application, to avoid keeping the input\u001b[0m\u001b[1;33m\u001b[0m\u001b[1;33m\u001b[0m\u001b[1;33m\u001b[0m\u001b[0m\n\u001b[0;32m    571\u001b[0m         \u001b[1;31m# arguments in memory\u001b[0m\u001b[1;33m\u001b[0m\u001b[1;33m\u001b[0m\u001b[1;33m\u001b[0m\u001b[0m\n\u001b[1;32m--> 572\u001b[1;33m         \u001b[0mself\u001b[0m\u001b[1;33m.\u001b[0m\u001b[0mresults\u001b[0m \u001b[1;33m=\u001b[0m \u001b[0mbatch\u001b[0m\u001b[1;33m(\u001b[0m\u001b[1;33m)\u001b[0m\u001b[1;33m\u001b[0m\u001b[1;33m\u001b[0m\u001b[0m\n\u001b[0m\u001b[0;32m    573\u001b[0m \u001b[1;33m\u001b[0m\u001b[0m\n\u001b[0;32m    574\u001b[0m     \u001b[1;32mdef\u001b[0m \u001b[0mget\u001b[0m\u001b[1;33m(\u001b[0m\u001b[0mself\u001b[0m\u001b[1;33m)\u001b[0m\u001b[1;33m:\u001b[0m\u001b[1;33m\u001b[0m\u001b[1;33m\u001b[0m\u001b[0m\n",
      "\u001b[1;32m~\\anaconda3\\envs\\learn-env\\lib\\site-packages\\joblib\\parallel.py\u001b[0m in \u001b[0;36m__call__\u001b[1;34m(self)\u001b[0m\n\u001b[0;32m    260\u001b[0m         \u001b[1;31m# change the default number of processes to -1\u001b[0m\u001b[1;33m\u001b[0m\u001b[1;33m\u001b[0m\u001b[1;33m\u001b[0m\u001b[0m\n\u001b[0;32m    261\u001b[0m         \u001b[1;32mwith\u001b[0m \u001b[0mparallel_backend\u001b[0m\u001b[1;33m(\u001b[0m\u001b[0mself\u001b[0m\u001b[1;33m.\u001b[0m\u001b[0m_backend\u001b[0m\u001b[1;33m,\u001b[0m \u001b[0mn_jobs\u001b[0m\u001b[1;33m=\u001b[0m\u001b[0mself\u001b[0m\u001b[1;33m.\u001b[0m\u001b[0m_n_jobs\u001b[0m\u001b[1;33m)\u001b[0m\u001b[1;33m:\u001b[0m\u001b[1;33m\u001b[0m\u001b[1;33m\u001b[0m\u001b[0m\n\u001b[1;32m--> 262\u001b[1;33m             return [func(*args, **kwargs)\n\u001b[0m\u001b[0;32m    263\u001b[0m                     for func, args, kwargs in self.items]\n\u001b[0;32m    264\u001b[0m \u001b[1;33m\u001b[0m\u001b[0m\n",
      "\u001b[1;32m~\\anaconda3\\envs\\learn-env\\lib\\site-packages\\joblib\\parallel.py\u001b[0m in \u001b[0;36m<listcomp>\u001b[1;34m(.0)\u001b[0m\n\u001b[0;32m    260\u001b[0m         \u001b[1;31m# change the default number of processes to -1\u001b[0m\u001b[1;33m\u001b[0m\u001b[1;33m\u001b[0m\u001b[1;33m\u001b[0m\u001b[0m\n\u001b[0;32m    261\u001b[0m         \u001b[1;32mwith\u001b[0m \u001b[0mparallel_backend\u001b[0m\u001b[1;33m(\u001b[0m\u001b[0mself\u001b[0m\u001b[1;33m.\u001b[0m\u001b[0m_backend\u001b[0m\u001b[1;33m,\u001b[0m \u001b[0mn_jobs\u001b[0m\u001b[1;33m=\u001b[0m\u001b[0mself\u001b[0m\u001b[1;33m.\u001b[0m\u001b[0m_n_jobs\u001b[0m\u001b[1;33m)\u001b[0m\u001b[1;33m:\u001b[0m\u001b[1;33m\u001b[0m\u001b[1;33m\u001b[0m\u001b[0m\n\u001b[1;32m--> 262\u001b[1;33m             return [func(*args, **kwargs)\n\u001b[0m\u001b[0;32m    263\u001b[0m                     for func, args, kwargs in self.items]\n\u001b[0;32m    264\u001b[0m \u001b[1;33m\u001b[0m\u001b[0m\n",
      "\u001b[1;32m~\\anaconda3\\envs\\learn-env\\lib\\site-packages\\sklearn\\model_selection\\_validation.py\u001b[0m in \u001b[0;36m_fit_and_score\u001b[1;34m(estimator, X, y, scorer, train, test, verbose, parameters, fit_params, return_train_score, return_parameters, return_n_test_samples, return_times, return_estimator, error_score)\u001b[0m\n\u001b[0;32m    529\u001b[0m             \u001b[0mestimator\u001b[0m\u001b[1;33m.\u001b[0m\u001b[0mfit\u001b[0m\u001b[1;33m(\u001b[0m\u001b[0mX_train\u001b[0m\u001b[1;33m,\u001b[0m \u001b[1;33m**\u001b[0m\u001b[0mfit_params\u001b[0m\u001b[1;33m)\u001b[0m\u001b[1;33m\u001b[0m\u001b[1;33m\u001b[0m\u001b[0m\n\u001b[0;32m    530\u001b[0m         \u001b[1;32melse\u001b[0m\u001b[1;33m:\u001b[0m\u001b[1;33m\u001b[0m\u001b[1;33m\u001b[0m\u001b[0m\n\u001b[1;32m--> 531\u001b[1;33m             \u001b[0mestimator\u001b[0m\u001b[1;33m.\u001b[0m\u001b[0mfit\u001b[0m\u001b[1;33m(\u001b[0m\u001b[0mX_train\u001b[0m\u001b[1;33m,\u001b[0m \u001b[0my_train\u001b[0m\u001b[1;33m,\u001b[0m \u001b[1;33m**\u001b[0m\u001b[0mfit_params\u001b[0m\u001b[1;33m)\u001b[0m\u001b[1;33m\u001b[0m\u001b[1;33m\u001b[0m\u001b[0m\n\u001b[0m\u001b[0;32m    532\u001b[0m \u001b[1;33m\u001b[0m\u001b[0m\n\u001b[0;32m    533\u001b[0m     \u001b[1;32mexcept\u001b[0m \u001b[0mException\u001b[0m \u001b[1;32mas\u001b[0m \u001b[0me\u001b[0m\u001b[1;33m:\u001b[0m\u001b[1;33m\u001b[0m\u001b[1;33m\u001b[0m\u001b[0m\n",
      "\u001b[1;32m~\\anaconda3\\envs\\learn-env\\lib\\site-packages\\sklearn\\pipeline.py\u001b[0m in \u001b[0;36mfit\u001b[1;34m(self, X, y, **fit_params)\u001b[0m\n\u001b[0;32m    333\u001b[0m             \u001b[1;32mif\u001b[0m \u001b[0mself\u001b[0m\u001b[1;33m.\u001b[0m\u001b[0m_final_estimator\u001b[0m \u001b[1;33m!=\u001b[0m \u001b[1;34m'passthrough'\u001b[0m\u001b[1;33m:\u001b[0m\u001b[1;33m\u001b[0m\u001b[1;33m\u001b[0m\u001b[0m\n\u001b[0;32m    334\u001b[0m                 \u001b[0mfit_params_last_step\u001b[0m \u001b[1;33m=\u001b[0m \u001b[0mfit_params_steps\u001b[0m\u001b[1;33m[\u001b[0m\u001b[0mself\u001b[0m\u001b[1;33m.\u001b[0m\u001b[0msteps\u001b[0m\u001b[1;33m[\u001b[0m\u001b[1;33m-\u001b[0m\u001b[1;36m1\u001b[0m\u001b[1;33m]\u001b[0m\u001b[1;33m[\u001b[0m\u001b[1;36m0\u001b[0m\u001b[1;33m]\u001b[0m\u001b[1;33m]\u001b[0m\u001b[1;33m\u001b[0m\u001b[1;33m\u001b[0m\u001b[0m\n\u001b[1;32m--> 335\u001b[1;33m                 \u001b[0mself\u001b[0m\u001b[1;33m.\u001b[0m\u001b[0m_final_estimator\u001b[0m\u001b[1;33m.\u001b[0m\u001b[0mfit\u001b[0m\u001b[1;33m(\u001b[0m\u001b[0mXt\u001b[0m\u001b[1;33m,\u001b[0m \u001b[0my\u001b[0m\u001b[1;33m,\u001b[0m \u001b[1;33m**\u001b[0m\u001b[0mfit_params_last_step\u001b[0m\u001b[1;33m)\u001b[0m\u001b[1;33m\u001b[0m\u001b[1;33m\u001b[0m\u001b[0m\n\u001b[0m\u001b[0;32m    336\u001b[0m \u001b[1;33m\u001b[0m\u001b[0m\n\u001b[0;32m    337\u001b[0m         \u001b[1;32mreturn\u001b[0m \u001b[0mself\u001b[0m\u001b[1;33m\u001b[0m\u001b[1;33m\u001b[0m\u001b[0m\n",
      "\u001b[1;32m~\\anaconda3\\envs\\learn-env\\lib\\site-packages\\xgboost\\sklearn.py\u001b[0m in \u001b[0;36mfit\u001b[1;34m(self, X, y, sample_weight, base_margin, eval_set, eval_metric, early_stopping_rounds, verbose, xgb_model, sample_weight_eval_set, callbacks)\u001b[0m\n\u001b[0;32m    826\u001b[0m                                 missing=self.missing, nthread=self.n_jobs)\n\u001b[0;32m    827\u001b[0m \u001b[1;33m\u001b[0m\u001b[0m\n\u001b[1;32m--> 828\u001b[1;33m         self._Booster = train(xgb_options, train_dmatrix,\n\u001b[0m\u001b[0;32m    829\u001b[0m                               \u001b[0mself\u001b[0m\u001b[1;33m.\u001b[0m\u001b[0mget_num_boosting_rounds\u001b[0m\u001b[1;33m(\u001b[0m\u001b[1;33m)\u001b[0m\u001b[1;33m,\u001b[0m\u001b[1;33m\u001b[0m\u001b[1;33m\u001b[0m\u001b[0m\n\u001b[0;32m    830\u001b[0m                               \u001b[0mevals\u001b[0m\u001b[1;33m=\u001b[0m\u001b[0mevals\u001b[0m\u001b[1;33m,\u001b[0m\u001b[1;33m\u001b[0m\u001b[1;33m\u001b[0m\u001b[0m\n",
      "\u001b[1;32m~\\anaconda3\\envs\\learn-env\\lib\\site-packages\\xgboost\\training.py\u001b[0m in \u001b[0;36mtrain\u001b[1;34m(params, dtrain, num_boost_round, evals, obj, feval, maximize, early_stopping_rounds, evals_result, verbose_eval, xgb_model, callbacks)\u001b[0m\n\u001b[0;32m    206\u001b[0m         \u001b[0mcallbacks\u001b[0m\u001b[1;33m.\u001b[0m\u001b[0mappend\u001b[0m\u001b[1;33m(\u001b[0m\u001b[0mcallback\u001b[0m\u001b[1;33m.\u001b[0m\u001b[0mrecord_evaluation\u001b[0m\u001b[1;33m(\u001b[0m\u001b[0mevals_result\u001b[0m\u001b[1;33m)\u001b[0m\u001b[1;33m)\u001b[0m\u001b[1;33m\u001b[0m\u001b[1;33m\u001b[0m\u001b[0m\n\u001b[0;32m    207\u001b[0m \u001b[1;33m\u001b[0m\u001b[0m\n\u001b[1;32m--> 208\u001b[1;33m     return _train_internal(params, dtrain,\n\u001b[0m\u001b[0;32m    209\u001b[0m                            \u001b[0mnum_boost_round\u001b[0m\u001b[1;33m=\u001b[0m\u001b[0mnum_boost_round\u001b[0m\u001b[1;33m,\u001b[0m\u001b[1;33m\u001b[0m\u001b[1;33m\u001b[0m\u001b[0m\n\u001b[0;32m    210\u001b[0m                            \u001b[0mevals\u001b[0m\u001b[1;33m=\u001b[0m\u001b[0mevals\u001b[0m\u001b[1;33m,\u001b[0m\u001b[1;33m\u001b[0m\u001b[1;33m\u001b[0m\u001b[0m\n",
      "\u001b[1;32m~\\anaconda3\\envs\\learn-env\\lib\\site-packages\\xgboost\\training.py\u001b[0m in \u001b[0;36m_train_internal\u001b[1;34m(params, dtrain, num_boost_round, evals, obj, feval, xgb_model, callbacks)\u001b[0m\n\u001b[0;32m     73\u001b[0m         \u001b[1;31m# Skip the first update if it is a recovery step.\u001b[0m\u001b[1;33m\u001b[0m\u001b[1;33m\u001b[0m\u001b[1;33m\u001b[0m\u001b[0m\n\u001b[0;32m     74\u001b[0m         \u001b[1;32mif\u001b[0m \u001b[0mversion\u001b[0m \u001b[1;33m%\u001b[0m \u001b[1;36m2\u001b[0m \u001b[1;33m==\u001b[0m \u001b[1;36m0\u001b[0m\u001b[1;33m:\u001b[0m\u001b[1;33m\u001b[0m\u001b[1;33m\u001b[0m\u001b[0m\n\u001b[1;32m---> 75\u001b[1;33m             \u001b[0mbst\u001b[0m\u001b[1;33m.\u001b[0m\u001b[0mupdate\u001b[0m\u001b[1;33m(\u001b[0m\u001b[0mdtrain\u001b[0m\u001b[1;33m,\u001b[0m \u001b[0mi\u001b[0m\u001b[1;33m,\u001b[0m \u001b[0mobj\u001b[0m\u001b[1;33m)\u001b[0m\u001b[1;33m\u001b[0m\u001b[1;33m\u001b[0m\u001b[0m\n\u001b[0m\u001b[0;32m     76\u001b[0m             \u001b[0mbst\u001b[0m\u001b[1;33m.\u001b[0m\u001b[0msave_rabit_checkpoint\u001b[0m\u001b[1;33m(\u001b[0m\u001b[1;33m)\u001b[0m\u001b[1;33m\u001b[0m\u001b[1;33m\u001b[0m\u001b[0m\n\u001b[0;32m     77\u001b[0m             \u001b[0mversion\u001b[0m \u001b[1;33m+=\u001b[0m \u001b[1;36m1\u001b[0m\u001b[1;33m\u001b[0m\u001b[1;33m\u001b[0m\u001b[0m\n",
      "\u001b[1;32m~\\anaconda3\\envs\\learn-env\\lib\\site-packages\\xgboost\\core.py\u001b[0m in \u001b[0;36mupdate\u001b[1;34m(self, dtrain, iteration, fobj)\u001b[0m\n\u001b[0;32m   1157\u001b[0m \u001b[1;33m\u001b[0m\u001b[0m\n\u001b[0;32m   1158\u001b[0m         \u001b[1;32mif\u001b[0m \u001b[0mfobj\u001b[0m \u001b[1;32mis\u001b[0m \u001b[1;32mNone\u001b[0m\u001b[1;33m:\u001b[0m\u001b[1;33m\u001b[0m\u001b[1;33m\u001b[0m\u001b[0m\n\u001b[1;32m-> 1159\u001b[1;33m             _check_call(_LIB.XGBoosterUpdateOneIter(self.handle,\n\u001b[0m\u001b[0;32m   1160\u001b[0m                                                     \u001b[0mctypes\u001b[0m\u001b[1;33m.\u001b[0m\u001b[0mc_int\u001b[0m\u001b[1;33m(\u001b[0m\u001b[0miteration\u001b[0m\u001b[1;33m)\u001b[0m\u001b[1;33m,\u001b[0m\u001b[1;33m\u001b[0m\u001b[1;33m\u001b[0m\u001b[0m\n\u001b[0;32m   1161\u001b[0m                                                     dtrain.handle))\n",
      "\u001b[1;31mKeyboardInterrupt\u001b[0m: "
     ]
    }
   ],
   "source": [
    "print(\"Accuracy Scores:\", cross_val_score(xgb_pipe_tuned, X_train, y_train))\n",
    "print(\"Mean Accuracy:\", cross_val_score(xgb_pipe_tuned, X_train, y_train).mean())\n",
    "\"Recall Scores:\", cross_validate(xgb_pipe_tuned, X_train, y_train, return_train_score= True, scoring = 'recall')"
   ]
  },
  {
   "cell_type": "markdown",
   "metadata": {},
   "source": [
    "Example result:\n",
    "\n",
    "Accuracy Scores: [0.78667965 0.79374163 0.78570559 0.78592304 0.78677545]  \n",
    "Mean Accuracy: 0.7877650724093515  \n",
    "('Recall Scores:',  \n",
    " {'fit_time': array([21.27556515, 20.48738503, 20.44357967, 19.84486055, 19.39542603]),  \n",
    "  'score_time': array([0.21004176, 0.20481229, 0.1889286 , 0.17752552, 0.20445323]),  \n",
    "  'test_score': array([0.67903226, 0.70357431, 0.68691212, 0.68494624, 0.6983871 ]),  \n",
    "  'train_score': array([0.74828652, 0.749412  , 0.74826961, 0.7485553 , 0.75251982])})  "
   ]
  },
  {
   "cell_type": "markdown",
   "metadata": {},
   "source": [
    "## Tuned Model 3 - Random Forest Classifier"
   ]
  },
  {
   "cell_type": "code",
   "execution_count": 112,
   "metadata": {},
   "outputs": [],
   "source": [
    "forest_pipe_tuned = Pipeline(steps =[('transform', CustomTransformer()),('scaler', StandardScaler()),\n",
    "                                     ('forest', RandomForestClassifier(n_estimators=7000,\n",
    "                                                                       max_features='sqrt',\n",
    "                                                                       max_depth=40,\n",
    "                                                                       criterion='gini', \n",
    "                                                                       max_samples = 35000))])\n",
    "\n",
    "\n",
    "#estimators = 1000, features = sqrt, depth = 35, criterion = entropy 20692 1769 4547 14055\n",
    "#estimators = 1000, features = auto, depth = 35, criterion = entropy 20700 1761 4554 14048\n",
    "#estimators = 1000, features = log2, depth = 35, criterion = entropy 20712 1749 4567 14035\n",
    "#estimators = 1000, features = sqrt, depth = 35, criterion = gini    20689 1772 4542 14060\n",
    "\n",
    "##increasing max samples is significantly imporving recall - best performance with all samples?\n",
    "#estimators = 1000, features = sqrt, depth = 35, criterion = gini samples = 9000 20000 2072 4959 13643\n",
    "#estimators = 1000, features = sqrt, depth = 35, criterion = gini samples = 22000 20625 1836 4636 13966\n",
    "#estimators = 1000, features = sqrt, depth = 35, criterion = gini samples = 35000 20691 1770 4545 14057\n",
    "\n",
    "\n",
    "#maxing out success at approximately 10k estimators and 40k samples - this is very time consuming."
   ]
  },
  {
   "cell_type": "code",
   "execution_count": 113,
   "metadata": {},
   "outputs": [
    {
     "data": {
      "image/png": "[encoded data removed]",
      "text/plain": [
       "<Figure size 432x288 with 2 Axes>"
      ]
     },
     "metadata": {
      "needs_background": "light"
     },
     "output_type": "display_data"
    }
   ],
   "source": [
    "forest_pipe_tuned.fit(X_train, y_train)\n",
    "plot_confusion_matrix(forest_pipe_tuned, X_train, y_train);"
   ]
  },
  {
   "cell_type": "code",
   "execution_count": 14,
   "metadata": {
    "scrolled": true
   },
   "outputs": [
    {
     "name": "stdout",
     "output_type": "stream",
     "text": [
      "Accuracy Scores: [0.73334957 0.73615001 0.73590649 0.72540185 0.72552362]\n",
      "Mean Accuracy: 0.7327518139330866\n"
     ]
    },
    {
     "data": {
      "text/plain": [
       "('Recall Scores:',\n",
       " {'fit_time': array([19.71906281, 19.29850221, 19.39448309, 19.43904495, 19.81945372]),\n",
       "  'score_time': array([0.88479424, 0.92607927, 0.89118695, 0.87181592, 0.88475323]),\n",
       "  'test_score': array([0.47715054, 0.48696587, 0.48105348, 0.45752688, 0.47150538]),\n",
       "  'train_score': array([0.47412982, 0.47140649, 0.47577448, 0.47742239, 0.47916947])})"
      ]
     },
     "execution_count": 14,
     "metadata": {},
     "output_type": "execute_result"
    }
   ],
   "source": [
    "print(\"Accuracy Scores:\", cross_val_score(forest_pipe_tuned, X_train, y_train))\n",
    "print(\"Mean Accuracy:\", cross_val_score(forest_pipe_tuned, X_train, y_train).mean())\n",
    "\"Recall Scores:\", cross_validate(forest_pipe_tuned, X_train, y_train, return_train_score= True, scoring = 'recall')"
   ]
  },
  {
   "cell_type": "code",
   "execution_count": 16,
   "metadata": {},
   "outputs": [],
   "source": [
    "forest_y_preds = forest_pipe_tuned.predict(X_train)"
   ]
  },
  {
   "cell_type": "code",
   "execution_count": 44,
   "metadata": {},
   "outputs": [
    {
     "data": {
      "text/plain": [
       "[0.28142320260048476,\n",
       " 0.1331170125004302,\n",
       " 0.11084267398595803,\n",
       " 0.09468476945012892,\n",
       " 0.06387736724091335,\n",
       " 0.04167038358433022,\n",
       " 0.0387977148066944,\n",
       " 0.032598101773420235,\n",
       " 0.024587540212714944,\n",
       " 0.01728511892213828]"
      ]
     },
     "execution_count": 44,
     "metadata": {},
     "output_type": "execute_result"
    }
   ],
   "source": [
    "sorted(forest_pipe_tuned.steps[2][1].feature_importances_, reverse = True)[:10]"
   ]
  },
  {
   "cell_type": "markdown",
   "metadata": {},
   "source": [
    "# Test Set"
   ]
  },
  {
   "cell_type": "markdown",
   "metadata": {},
   "source": [
    "### XGBoost Classifier predictions on the test set"
   ]
  },
  {
   "cell_type": "code",
   "execution_count": 90,
   "metadata": {},
   "outputs": [
    {
     "name": "stdout",
     "output_type": "stream",
     "text": [
      "XGBoost Classifier Stats:\n",
      "Test Accuracy:  0.7919345412039743\n",
      "Test Precision:  0.8187579214195184\n",
      "Test Recall:  0.6944743066007311\n"
     ]
    }
   ],
   "source": [
    "xgb_pipe_tuned.fit(X_train, y_train)\n",
    "\n",
    "xgb_train_preds = xgb_pipe_tuned.predict(X_train)\n",
    "xgb_test_preds = xgb_pipe_tuned.predict(X_test)\n",
    "\n",
    "xgb_accuracy = accuracy_score(y_test, xgb_test_preds)\n",
    "xgb_precision = precision_score(y_test, xgb_test_preds)\n",
    "xgb_recall = recall_score(y_test, xgb_test_preds)\n",
    "\n",
    "xgb_y_probas = xgb_pipe_tuned.predict_proba(X_test)[:,1]\n",
    "xgb_tpr, xgb_fpr, xgb_thresholds = roc_curve(y_test, xgb_y_probas)\n",
    "xgb_auc = auc(xgb_tpr, xgb_fpr)\n",
    "\n",
    "\n",
    "print(\"XGBoost Classifier Stats:\")\n",
    "print(\"Test Accuracy: \", xgb_accuracy)\n",
    "print(\"Test Precision: \", xgb_precision)\n",
    "print(\"Test Recall: \", xgb_recall)"
   ]
  },
  {
   "cell_type": "markdown",
   "metadata": {},
   "source": [
    "### Random Forest Classifier predictions on the test set"
   ]
  },
  {
   "cell_type": "code",
   "execution_count": 91,
   "metadata": {
    "scrolled": true
   },
   "outputs": [
    {
     "name": "stdout",
     "output_type": "stream",
     "text": [
      "Random Forest Classifier Stats:\n",
      "Test Accuracy:  0.7920319501266316\n",
      "Test Precision:  0.8173562058526741\n",
      "Test Recall:  0.6966243818533648\n"
     ]
    }
   ],
   "source": [
    "forest_pipe_tuned.fit(X_train, y_train)\n",
    "\n",
    "forest_train_preds = forest_pipe_tuned.predict(X_train)\n",
    "forest_test_preds = forest_pipe_tuned.predict(X_test)\n",
    "\n",
    "forest_accuracy = accuracy_score(y_test, forest_test_preds)\n",
    "forest_precision = precision_score(y_test, forest_test_preds)\n",
    "forest_recall = recall_score(y_test, forest_test_preds)\n",
    "\n",
    "forest_y_probas = forest_pipe_tuned.predict_proba(X_test)[:,1]\n",
    "forest_tpr, forest_fpr, forest_thresholds = roc_curve(y_test, forest_y_probas)\n",
    "forest_auc = auc(forest_tpr, forest_fpr)\n",
    "\n",
    "print(\"Random Forest Classifier Stats:\")\n",
    "print(\"Test Accuracy: \", forest_accuracy)\n",
    "print(\"Test Precision: \", forest_precision)\n",
    "print(\"Test Recall: \", forest_recall)"
   ]
  },
  {
   "cell_type": "markdown",
   "metadata": {},
   "source": [
    "Additional Data Explanation\n",
    "\n",
    "feature importances - their direction, correlation to classes, \n",
    "find test errors  - look for patterns in incorrect predictions, outliers, \n",
    "look at individual trees in the forest  \n",
    "test set data - distributions, features, fp/fn  \n",
    "look at cost of errors - explore costs of fp vs fn  \n",
    "correlation of errors between unused features and used features  "
   ]
  },
  {
   "cell_type": "markdown",
   "metadata": {},
   "source": [
    "## Tuned Model ROC Curves against each other on Train set"
   ]
  },
  {
   "cell_type": "code",
   "execution_count": 95,
   "metadata": {
    "scrolled": false
   },
   "outputs": [
    {
     "data": {
      "image/png": "[encoded data removed]",
      "text/plain": [
       "<Figure size 720x576 with 1 Axes>"
      ]
     },
     "metadata": {},
     "output_type": "display_data"
    }
   ],
   "source": [
    "sns.set_style('darkgrid')\n",
    "plt.figure(figsize=(10, 8))\n",
    "\n",
    "plt.plot(xgb_tpr, xgb_fpr, color = 'b', label = 'XGBoost Classifier')\n",
    "plt.plot(forest_tpr, forest_fpr, color = 'r', label = 'Random Forest Classifier')\n",
    "plt.plot([0, 1], [0, 1], color = 'y', linestyle = '--')\n",
    "\n",
    "plt.xlim([0.0, 1.05])\n",
    "plt.ylim([0.0, 1.05])\n",
    "plt.xlabel('False Positive Rate')\n",
    "plt.ylabel('True Positive Rate')\n",
    "plt.title('Tuned Model ROC Curve')\n",
    "plt.legend()\n",
    "plt.show()"
   ]
  }
 ],
 "metadata": {
  "kernelspec": {
   "display_name": "learn-env",
   "language": "python",
   "name": "learn-env"
  },
  "language_info": {
   "codemirror_mode": {
    "name": "ipython",
    "version": 3
   },
   "file_extension": ".py",
   "mimetype": "text/x-python",
   "name": "python",
   "nbconvert_exporter": "python",
   "pygments_lexer": "ipython3",
   "version": "3.8.5"
  }
 },
 "nbformat": 4,
 "nbformat_minor": 4
}
