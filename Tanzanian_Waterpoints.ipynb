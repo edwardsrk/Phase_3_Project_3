{
 "cells": [
  {
   "cell_type": "code",
   "execution_count": 1,
   "metadata": {},
   "outputs": [],
   "source": [
    "import pandas as pd\n",
    "import numpy as np\n",
    "\n",
    "import matplotlib.pyplot as plt\n",
    "import seaborn as sns\n",
    "\n",
    "from sklearn.preprocessing import OneHotEncoder, StandardScaler\n",
    "\n",
    "from sklearn.impute import MissingIndicator, SimpleImputer\n",
    "\n",
    "from sklearn.compose import ColumnTransformer\n",
    "from sklearn.base import BaseEstimator, TransformerMixin\n",
    "\n",
    "from sklearn.dummy import DummyClassifier\n",
    "from sklearn.linear_model import LogisticRegression\n",
    "from sklearn.naive_bayes import MultinomialNB,BernoulliNB\n",
    "from sklearn.linear_model import LogisticRegression, SGDClassifier\n",
    "from sklearn.svm import SVC, LinearSVC, NuSVC\n",
    "from sklearn.neighbors import KNeighborsClassifier\n",
    "from sklearn.tree import DecisionTreeClassifier\n",
    "from sklearn.ensemble import RandomForestClassifier\n",
    "\n",
    "\n",
    "from sklearn.model_selection import train_test_split, cross_val_score, cross_validate, GridSearchCV, RandomizedSearchCV\n",
    "from sklearn.feature_selection import SelectFromModel\n",
    "from sklearn.pipeline import Pipeline\n",
    "\n",
    "# plot_confusion_matrix is a handy visual tool, added in the latest version of scikit-learn\n",
    "# if you are running an older version, comment out this line and just use confusion_matrix\n",
    "from sklearn.metrics import plot_confusion_matrix, precision_score, recall_score, accuracy_score, f1_score, roc_curve, auc\n",
    "from sklearn.metrics import confusion_matrix\n",
    "\n",
    "from sklearn.dummy import DummyClassifier\n",
    "from sklearn import svm\n",
    "from xgboost import XGBClassifier\n",
    "#from imblearn.over_sampling import SMOTE\n",
    "#from imblearn.pipeline import Pipeline\n",
    "import folium"
   ]
  },
  {
   "cell_type": "code",
   "execution_count": 2,
   "metadata": {},
   "outputs": [],
   "source": [
    "df_target = pd.read_csv('../data/water_table_labels.csv')"
   ]
  },
  {
   "cell_type": "code",
   "execution_count": 3,
   "metadata": {},
   "outputs": [],
   "source": [
    "df_train = pd.read_csv('../data/water_table_training.csv')"
   ]
  },
  {
   "cell_type": "markdown",
   "metadata": {},
   "source": [
    "# EDA"
   ]
  },
  {
   "cell_type": "code",
   "execution_count": 4,
   "metadata": {},
   "outputs": [
    {
     "data": {
      "text/html": [
       "<div>\n",
       "<style scoped>\n",
       "    .dataframe tbody tr th:only-of-type {\n",
       "        vertical-align: middle;\n",
       "    }\n",
       "\n",
       "    .dataframe tbody tr th {\n",
       "        vertical-align: top;\n",
       "    }\n",
       "\n",
       "    .dataframe thead th {\n",
       "        text-align: right;\n",
       "    }\n",
       "</style>\n",
       "<table border=\"1\" class=\"dataframe\">\n",
       "  <thead>\n",
       "    <tr style=\"text-align: right;\">\n",
       "      <th></th>\n",
       "      <th>id</th>\n",
       "      <th>amount_tsh</th>\n",
       "      <th>date_recorded</th>\n",
       "      <th>funder</th>\n",
       "      <th>gps_height</th>\n",
       "      <th>installer</th>\n",
       "      <th>longitude</th>\n",
       "      <th>latitude</th>\n",
       "      <th>wpt_name</th>\n",
       "      <th>num_private</th>\n",
       "      <th>...</th>\n",
       "      <th>payment_type</th>\n",
       "      <th>water_quality</th>\n",
       "      <th>quality_group</th>\n",
       "      <th>quantity</th>\n",
       "      <th>quantity_group</th>\n",
       "      <th>source</th>\n",
       "      <th>source_type</th>\n",
       "      <th>source_class</th>\n",
       "      <th>waterpoint_type</th>\n",
       "      <th>waterpoint_type_group</th>\n",
       "    </tr>\n",
       "  </thead>\n",
       "  <tbody>\n",
       "    <tr>\n",
       "      <th>0</th>\n",
       "      <td>69572</td>\n",
       "      <td>6000.0</td>\n",
       "      <td>2011-03-14</td>\n",
       "      <td>Roman</td>\n",
       "      <td>1390</td>\n",
       "      <td>Roman</td>\n",
       "      <td>34.938093</td>\n",
       "      <td>-9.856322</td>\n",
       "      <td>none</td>\n",
       "      <td>0</td>\n",
       "      <td>...</td>\n",
       "      <td>annually</td>\n",
       "      <td>soft</td>\n",
       "      <td>good</td>\n",
       "      <td>enough</td>\n",
       "      <td>enough</td>\n",
       "      <td>spring</td>\n",
       "      <td>spring</td>\n",
       "      <td>groundwater</td>\n",
       "      <td>communal standpipe</td>\n",
       "      <td>communal standpipe</td>\n",
       "    </tr>\n",
       "    <tr>\n",
       "      <th>1</th>\n",
       "      <td>8776</td>\n",
       "      <td>0.0</td>\n",
       "      <td>2013-03-06</td>\n",
       "      <td>Grumeti</td>\n",
       "      <td>1399</td>\n",
       "      <td>GRUMETI</td>\n",
       "      <td>34.698766</td>\n",
       "      <td>-2.147466</td>\n",
       "      <td>Zahanati</td>\n",
       "      <td>0</td>\n",
       "      <td>...</td>\n",
       "      <td>never pay</td>\n",
       "      <td>soft</td>\n",
       "      <td>good</td>\n",
       "      <td>insufficient</td>\n",
       "      <td>insufficient</td>\n",
       "      <td>rainwater harvesting</td>\n",
       "      <td>rainwater harvesting</td>\n",
       "      <td>surface</td>\n",
       "      <td>communal standpipe</td>\n",
       "      <td>communal standpipe</td>\n",
       "    </tr>\n",
       "    <tr>\n",
       "      <th>2</th>\n",
       "      <td>34310</td>\n",
       "      <td>25.0</td>\n",
       "      <td>2013-02-25</td>\n",
       "      <td>Lottery Club</td>\n",
       "      <td>686</td>\n",
       "      <td>World vision</td>\n",
       "      <td>37.460664</td>\n",
       "      <td>-3.821329</td>\n",
       "      <td>Kwa Mahundi</td>\n",
       "      <td>0</td>\n",
       "      <td>...</td>\n",
       "      <td>per bucket</td>\n",
       "      <td>soft</td>\n",
       "      <td>good</td>\n",
       "      <td>enough</td>\n",
       "      <td>enough</td>\n",
       "      <td>dam</td>\n",
       "      <td>dam</td>\n",
       "      <td>surface</td>\n",
       "      <td>communal standpipe multiple</td>\n",
       "      <td>communal standpipe</td>\n",
       "    </tr>\n",
       "    <tr>\n",
       "      <th>3</th>\n",
       "      <td>67743</td>\n",
       "      <td>0.0</td>\n",
       "      <td>2013-01-28</td>\n",
       "      <td>Unicef</td>\n",
       "      <td>263</td>\n",
       "      <td>UNICEF</td>\n",
       "      <td>38.486161</td>\n",
       "      <td>-11.155298</td>\n",
       "      <td>Zahanati Ya Nanyumbu</td>\n",
       "      <td>0</td>\n",
       "      <td>...</td>\n",
       "      <td>never pay</td>\n",
       "      <td>soft</td>\n",
       "      <td>good</td>\n",
       "      <td>dry</td>\n",
       "      <td>dry</td>\n",
       "      <td>machine dbh</td>\n",
       "      <td>borehole</td>\n",
       "      <td>groundwater</td>\n",
       "      <td>communal standpipe multiple</td>\n",
       "      <td>communal standpipe</td>\n",
       "    </tr>\n",
       "    <tr>\n",
       "      <th>4</th>\n",
       "      <td>19728</td>\n",
       "      <td>0.0</td>\n",
       "      <td>2011-07-13</td>\n",
       "      <td>Action In A</td>\n",
       "      <td>0</td>\n",
       "      <td>Artisan</td>\n",
       "      <td>31.130847</td>\n",
       "      <td>-1.825359</td>\n",
       "      <td>Shuleni</td>\n",
       "      <td>0</td>\n",
       "      <td>...</td>\n",
       "      <td>never pay</td>\n",
       "      <td>soft</td>\n",
       "      <td>good</td>\n",
       "      <td>seasonal</td>\n",
       "      <td>seasonal</td>\n",
       "      <td>rainwater harvesting</td>\n",
       "      <td>rainwater harvesting</td>\n",
       "      <td>surface</td>\n",
       "      <td>communal standpipe</td>\n",
       "      <td>communal standpipe</td>\n",
       "    </tr>\n",
       "  </tbody>\n",
       "</table>\n",
       "<p>5 rows × 40 columns</p>\n",
       "</div>"
      ],
      "text/plain": [
       "      id  amount_tsh date_recorded        funder  gps_height     installer  \\\n",
       "0  69572      6000.0    2011-03-14         Roman        1390         Roman   \n",
       "1   8776         0.0    2013-03-06       Grumeti        1399       GRUMETI   \n",
       "2  34310        25.0    2013-02-25  Lottery Club         686  World vision   \n",
       "3  67743         0.0    2013-01-28        Unicef         263        UNICEF   \n",
       "4  19728         0.0    2011-07-13   Action In A           0       Artisan   \n",
       "\n",
       "   longitude   latitude              wpt_name  num_private  ... payment_type  \\\n",
       "0  34.938093  -9.856322                  none            0  ...     annually   \n",
       "1  34.698766  -2.147466              Zahanati            0  ...    never pay   \n",
       "2  37.460664  -3.821329           Kwa Mahundi            0  ...   per bucket   \n",
       "3  38.486161 -11.155298  Zahanati Ya Nanyumbu            0  ...    never pay   \n",
       "4  31.130847  -1.825359               Shuleni            0  ...    never pay   \n",
       "\n",
       "  water_quality quality_group      quantity  quantity_group  \\\n",
       "0          soft          good        enough          enough   \n",
       "1          soft          good  insufficient    insufficient   \n",
       "2          soft          good        enough          enough   \n",
       "3          soft          good           dry             dry   \n",
       "4          soft          good      seasonal        seasonal   \n",
       "\n",
       "                 source           source_type  source_class  \\\n",
       "0                spring                spring   groundwater   \n",
       "1  rainwater harvesting  rainwater harvesting       surface   \n",
       "2                   dam                   dam       surface   \n",
       "3           machine dbh              borehole   groundwater   \n",
       "4  rainwater harvesting  rainwater harvesting       surface   \n",
       "\n",
       "               waterpoint_type waterpoint_type_group  \n",
       "0           communal standpipe    communal standpipe  \n",
       "1           communal standpipe    communal standpipe  \n",
       "2  communal standpipe multiple    communal standpipe  \n",
       "3  communal standpipe multiple    communal standpipe  \n",
       "4           communal standpipe    communal standpipe  \n",
       "\n",
       "[5 rows x 40 columns]"
      ]
     },
     "execution_count": 4,
     "metadata": {},
     "output_type": "execute_result"
    }
   ],
   "source": [
    "df_train.head()"
   ]
  },
  {
   "cell_type": "code",
   "execution_count": 5,
   "metadata": {},
   "outputs": [],
   "source": [
    "target_list= df_target.status_group.tolist()"
   ]
  },
  {
   "cell_type": "code",
   "execution_count": 6,
   "metadata": {},
   "outputs": [],
   "source": [
    "df_train['target'] = target_list"
   ]
  },
  {
   "cell_type": "code",
   "execution_count": 7,
   "metadata": {},
   "outputs": [
    {
     "data": {
      "text/html": [
       "<div>\n",
       "<style scoped>\n",
       "    .dataframe tbody tr th:only-of-type {\n",
       "        vertical-align: middle;\n",
       "    }\n",
       "\n",
       "    .dataframe tbody tr th {\n",
       "        vertical-align: top;\n",
       "    }\n",
       "\n",
       "    .dataframe thead th {\n",
       "        text-align: right;\n",
       "    }\n",
       "</style>\n",
       "<table border=\"1\" class=\"dataframe\">\n",
       "  <thead>\n",
       "    <tr style=\"text-align: right;\">\n",
       "      <th></th>\n",
       "      <th>id</th>\n",
       "      <th>status_group</th>\n",
       "    </tr>\n",
       "  </thead>\n",
       "  <tbody>\n",
       "    <tr>\n",
       "      <th>0</th>\n",
       "      <td>69572</td>\n",
       "      <td>functional</td>\n",
       "    </tr>\n",
       "    <tr>\n",
       "      <th>1</th>\n",
       "      <td>8776</td>\n",
       "      <td>functional</td>\n",
       "    </tr>\n",
       "    <tr>\n",
       "      <th>2</th>\n",
       "      <td>34310</td>\n",
       "      <td>functional</td>\n",
       "    </tr>\n",
       "    <tr>\n",
       "      <th>3</th>\n",
       "      <td>67743</td>\n",
       "      <td>non functional</td>\n",
       "    </tr>\n",
       "    <tr>\n",
       "      <th>4</th>\n",
       "      <td>19728</td>\n",
       "      <td>functional</td>\n",
       "    </tr>\n",
       "  </tbody>\n",
       "</table>\n",
       "</div>"
      ],
      "text/plain": [
       "      id    status_group\n",
       "0  69572      functional\n",
       "1   8776      functional\n",
       "2  34310      functional\n",
       "3  67743  non functional\n",
       "4  19728      functional"
      ]
     },
     "execution_count": 7,
     "metadata": {},
     "output_type": "execute_result"
    }
   ],
   "source": [
    "df_target.head()"
   ]
  },
  {
   "cell_type": "code",
   "execution_count": 8,
   "metadata": {},
   "outputs": [
    {
     "data": {
      "text/html": [
       "<div>\n",
       "<style scoped>\n",
       "    .dataframe tbody tr th:only-of-type {\n",
       "        vertical-align: middle;\n",
       "    }\n",
       "\n",
       "    .dataframe tbody tr th {\n",
       "        vertical-align: top;\n",
       "    }\n",
       "\n",
       "    .dataframe thead th {\n",
       "        text-align: right;\n",
       "    }\n",
       "</style>\n",
       "<table border=\"1\" class=\"dataframe\">\n",
       "  <thead>\n",
       "    <tr style=\"text-align: right;\">\n",
       "      <th></th>\n",
       "      <th>id</th>\n",
       "      <th>amount_tsh</th>\n",
       "      <th>gps_height</th>\n",
       "      <th>longitude</th>\n",
       "      <th>latitude</th>\n",
       "      <th>num_private</th>\n",
       "      <th>region_code</th>\n",
       "      <th>district_code</th>\n",
       "      <th>population</th>\n",
       "      <th>construction_year</th>\n",
       "    </tr>\n",
       "  </thead>\n",
       "  <tbody>\n",
       "    <tr>\n",
       "      <th>id</th>\n",
       "      <td>1.000000</td>\n",
       "      <td>-0.005321</td>\n",
       "      <td>-0.004692</td>\n",
       "      <td>-0.001348</td>\n",
       "      <td>0.001718</td>\n",
       "      <td>-0.002629</td>\n",
       "      <td>-0.003028</td>\n",
       "      <td>-0.003044</td>\n",
       "      <td>-0.002813</td>\n",
       "      <td>-0.002082</td>\n",
       "    </tr>\n",
       "    <tr>\n",
       "      <th>amount_tsh</th>\n",
       "      <td>-0.005321</td>\n",
       "      <td>1.000000</td>\n",
       "      <td>0.076650</td>\n",
       "      <td>0.022134</td>\n",
       "      <td>-0.052670</td>\n",
       "      <td>0.002944</td>\n",
       "      <td>-0.026813</td>\n",
       "      <td>-0.023599</td>\n",
       "      <td>0.016288</td>\n",
       "      <td>0.067915</td>\n",
       "    </tr>\n",
       "    <tr>\n",
       "      <th>gps_height</th>\n",
       "      <td>-0.004692</td>\n",
       "      <td>0.076650</td>\n",
       "      <td>1.000000</td>\n",
       "      <td>0.149155</td>\n",
       "      <td>-0.035751</td>\n",
       "      <td>0.007237</td>\n",
       "      <td>-0.183521</td>\n",
       "      <td>-0.171233</td>\n",
       "      <td>0.135003</td>\n",
       "      <td>0.658727</td>\n",
       "    </tr>\n",
       "    <tr>\n",
       "      <th>longitude</th>\n",
       "      <td>-0.001348</td>\n",
       "      <td>0.022134</td>\n",
       "      <td>0.149155</td>\n",
       "      <td>1.000000</td>\n",
       "      <td>-0.425802</td>\n",
       "      <td>0.023873</td>\n",
       "      <td>0.034197</td>\n",
       "      <td>0.151398</td>\n",
       "      <td>0.086590</td>\n",
       "      <td>0.396732</td>\n",
       "    </tr>\n",
       "    <tr>\n",
       "      <th>latitude</th>\n",
       "      <td>0.001718</td>\n",
       "      <td>-0.052670</td>\n",
       "      <td>-0.035751</td>\n",
       "      <td>-0.425802</td>\n",
       "      <td>1.000000</td>\n",
       "      <td>0.006837</td>\n",
       "      <td>-0.221018</td>\n",
       "      <td>-0.201020</td>\n",
       "      <td>-0.022152</td>\n",
       "      <td>-0.245278</td>\n",
       "    </tr>\n",
       "    <tr>\n",
       "      <th>num_private</th>\n",
       "      <td>-0.002629</td>\n",
       "      <td>0.002944</td>\n",
       "      <td>0.007237</td>\n",
       "      <td>0.023873</td>\n",
       "      <td>0.006837</td>\n",
       "      <td>1.000000</td>\n",
       "      <td>-0.020377</td>\n",
       "      <td>-0.004478</td>\n",
       "      <td>0.003818</td>\n",
       "      <td>0.026056</td>\n",
       "    </tr>\n",
       "    <tr>\n",
       "      <th>region_code</th>\n",
       "      <td>-0.003028</td>\n",
       "      <td>-0.026813</td>\n",
       "      <td>-0.183521</td>\n",
       "      <td>0.034197</td>\n",
       "      <td>-0.221018</td>\n",
       "      <td>-0.020377</td>\n",
       "      <td>1.000000</td>\n",
       "      <td>0.678602</td>\n",
       "      <td>0.094088</td>\n",
       "      <td>0.031724</td>\n",
       "    </tr>\n",
       "    <tr>\n",
       "      <th>district_code</th>\n",
       "      <td>-0.003044</td>\n",
       "      <td>-0.023599</td>\n",
       "      <td>-0.171233</td>\n",
       "      <td>0.151398</td>\n",
       "      <td>-0.201020</td>\n",
       "      <td>-0.004478</td>\n",
       "      <td>0.678602</td>\n",
       "      <td>1.000000</td>\n",
       "      <td>0.061831</td>\n",
       "      <td>0.048315</td>\n",
       "    </tr>\n",
       "    <tr>\n",
       "      <th>population</th>\n",
       "      <td>-0.002813</td>\n",
       "      <td>0.016288</td>\n",
       "      <td>0.135003</td>\n",
       "      <td>0.086590</td>\n",
       "      <td>-0.022152</td>\n",
       "      <td>0.003818</td>\n",
       "      <td>0.094088</td>\n",
       "      <td>0.061831</td>\n",
       "      <td>1.000000</td>\n",
       "      <td>0.260910</td>\n",
       "    </tr>\n",
       "    <tr>\n",
       "      <th>construction_year</th>\n",
       "      <td>-0.002082</td>\n",
       "      <td>0.067915</td>\n",
       "      <td>0.658727</td>\n",
       "      <td>0.396732</td>\n",
       "      <td>-0.245278</td>\n",
       "      <td>0.026056</td>\n",
       "      <td>0.031724</td>\n",
       "      <td>0.048315</td>\n",
       "      <td>0.260910</td>\n",
       "      <td>1.000000</td>\n",
       "    </tr>\n",
       "  </tbody>\n",
       "</table>\n",
       "</div>"
      ],
      "text/plain": [
       "                         id  amount_tsh  gps_height  longitude  latitude  \\\n",
       "id                 1.000000   -0.005321   -0.004692  -0.001348  0.001718   \n",
       "amount_tsh        -0.005321    1.000000    0.076650   0.022134 -0.052670   \n",
       "gps_height        -0.004692    0.076650    1.000000   0.149155 -0.035751   \n",
       "longitude         -0.001348    0.022134    0.149155   1.000000 -0.425802   \n",
       "latitude           0.001718   -0.052670   -0.035751  -0.425802  1.000000   \n",
       "num_private       -0.002629    0.002944    0.007237   0.023873  0.006837   \n",
       "region_code       -0.003028   -0.026813   -0.183521   0.034197 -0.221018   \n",
       "district_code     -0.003044   -0.023599   -0.171233   0.151398 -0.201020   \n",
       "population        -0.002813    0.016288    0.135003   0.086590 -0.022152   \n",
       "construction_year -0.002082    0.067915    0.658727   0.396732 -0.245278   \n",
       "\n",
       "                   num_private  region_code  district_code  population  \\\n",
       "id                   -0.002629    -0.003028      -0.003044   -0.002813   \n",
       "amount_tsh            0.002944    -0.026813      -0.023599    0.016288   \n",
       "gps_height            0.007237    -0.183521      -0.171233    0.135003   \n",
       "longitude             0.023873     0.034197       0.151398    0.086590   \n",
       "latitude              0.006837    -0.221018      -0.201020   -0.022152   \n",
       "num_private           1.000000    -0.020377      -0.004478    0.003818   \n",
       "region_code          -0.020377     1.000000       0.678602    0.094088   \n",
       "district_code        -0.004478     0.678602       1.000000    0.061831   \n",
       "population            0.003818     0.094088       0.061831    1.000000   \n",
       "construction_year     0.026056     0.031724       0.048315    0.260910   \n",
       "\n",
       "                   construction_year  \n",
       "id                         -0.002082  \n",
       "amount_tsh                  0.067915  \n",
       "gps_height                  0.658727  \n",
       "longitude                   0.396732  \n",
       "latitude                   -0.245278  \n",
       "num_private                 0.026056  \n",
       "region_code                 0.031724  \n",
       "district_code               0.048315  \n",
       "population                  0.260910  \n",
       "construction_year           1.000000  "
      ]
     },
     "execution_count": 8,
     "metadata": {},
     "output_type": "execute_result"
    }
   ],
   "source": [
    "df_train.corr()"
   ]
  },
  {
   "cell_type": "code",
   "execution_count": 9,
   "metadata": {},
   "outputs": [
    {
     "data": {
      "text/plain": [
       "id                         int64\n",
       "amount_tsh               float64\n",
       "date_recorded             object\n",
       "funder                    object\n",
       "gps_height                 int64\n",
       "installer                 object\n",
       "longitude                float64\n",
       "latitude                 float64\n",
       "wpt_name                  object\n",
       "num_private                int64\n",
       "basin                     object\n",
       "subvillage                object\n",
       "region                    object\n",
       "region_code                int64\n",
       "district_code              int64\n",
       "lga                       object\n",
       "ward                      object\n",
       "population                 int64\n",
       "public_meeting            object\n",
       "recorded_by               object\n",
       "scheme_management         object\n",
       "scheme_name               object\n",
       "permit                    object\n",
       "construction_year          int64\n",
       "extraction_type           object\n",
       "extraction_type_group     object\n",
       "extraction_type_class     object\n",
       "management                object\n",
       "management_group          object\n",
       "payment                   object\n",
       "payment_type              object\n",
       "water_quality             object\n",
       "quality_group             object\n",
       "quantity                  object\n",
       "quantity_group            object\n",
       "source                    object\n",
       "source_type               object\n",
       "source_class              object\n",
       "waterpoint_type           object\n",
       "waterpoint_type_group     object\n",
       "target                    object\n",
       "dtype: object"
      ]
     },
     "execution_count": 9,
     "metadata": {},
     "output_type": "execute_result"
    }
   ],
   "source": [
    "df_train.dtypes\n",
    "#31 objs, 8 ints"
   ]
  },
  {
   "cell_type": "code",
   "execution_count": 10,
   "metadata": {},
   "outputs": [
    {
     "data": {
      "text/html": [
       "<div>\n",
       "<style scoped>\n",
       "    .dataframe tbody tr th:only-of-type {\n",
       "        vertical-align: middle;\n",
       "    }\n",
       "\n",
       "    .dataframe tbody tr th {\n",
       "        vertical-align: top;\n",
       "    }\n",
       "\n",
       "    .dataframe thead th {\n",
       "        text-align: right;\n",
       "    }\n",
       "</style>\n",
       "<table border=\"1\" class=\"dataframe\">\n",
       "  <thead>\n",
       "    <tr style=\"text-align: right;\">\n",
       "      <th></th>\n",
       "      <th>id</th>\n",
       "      <th>amount_tsh</th>\n",
       "      <th>gps_height</th>\n",
       "      <th>longitude</th>\n",
       "      <th>latitude</th>\n",
       "      <th>num_private</th>\n",
       "      <th>region_code</th>\n",
       "      <th>district_code</th>\n",
       "      <th>population</th>\n",
       "      <th>construction_year</th>\n",
       "    </tr>\n",
       "  </thead>\n",
       "  <tbody>\n",
       "    <tr>\n",
       "      <th>count</th>\n",
       "      <td>59400.000000</td>\n",
       "      <td>59400.000000</td>\n",
       "      <td>59400.000000</td>\n",
       "      <td>59400.000000</td>\n",
       "      <td>5.940000e+04</td>\n",
       "      <td>59400.000000</td>\n",
       "      <td>59400.000000</td>\n",
       "      <td>59400.000000</td>\n",
       "      <td>59400.000000</td>\n",
       "      <td>59400.000000</td>\n",
       "    </tr>\n",
       "    <tr>\n",
       "      <th>mean</th>\n",
       "      <td>37115.131768</td>\n",
       "      <td>317.650385</td>\n",
       "      <td>668.297239</td>\n",
       "      <td>34.077427</td>\n",
       "      <td>-5.706033e+00</td>\n",
       "      <td>0.474141</td>\n",
       "      <td>15.297003</td>\n",
       "      <td>5.629747</td>\n",
       "      <td>179.909983</td>\n",
       "      <td>1300.652475</td>\n",
       "    </tr>\n",
       "    <tr>\n",
       "      <th>std</th>\n",
       "      <td>21453.128371</td>\n",
       "      <td>2997.574558</td>\n",
       "      <td>693.116350</td>\n",
       "      <td>6.567432</td>\n",
       "      <td>2.946019e+00</td>\n",
       "      <td>12.236230</td>\n",
       "      <td>17.587406</td>\n",
       "      <td>9.633649</td>\n",
       "      <td>471.482176</td>\n",
       "      <td>951.620547</td>\n",
       "    </tr>\n",
       "    <tr>\n",
       "      <th>min</th>\n",
       "      <td>0.000000</td>\n",
       "      <td>0.000000</td>\n",
       "      <td>-90.000000</td>\n",
       "      <td>0.000000</td>\n",
       "      <td>-1.164944e+01</td>\n",
       "      <td>0.000000</td>\n",
       "      <td>1.000000</td>\n",
       "      <td>0.000000</td>\n",
       "      <td>0.000000</td>\n",
       "      <td>0.000000</td>\n",
       "    </tr>\n",
       "    <tr>\n",
       "      <th>25%</th>\n",
       "      <td>18519.750000</td>\n",
       "      <td>0.000000</td>\n",
       "      <td>0.000000</td>\n",
       "      <td>33.090347</td>\n",
       "      <td>-8.540621e+00</td>\n",
       "      <td>0.000000</td>\n",
       "      <td>5.000000</td>\n",
       "      <td>2.000000</td>\n",
       "      <td>0.000000</td>\n",
       "      <td>0.000000</td>\n",
       "    </tr>\n",
       "    <tr>\n",
       "      <th>50%</th>\n",
       "      <td>37061.500000</td>\n",
       "      <td>0.000000</td>\n",
       "      <td>369.000000</td>\n",
       "      <td>34.908743</td>\n",
       "      <td>-5.021597e+00</td>\n",
       "      <td>0.000000</td>\n",
       "      <td>12.000000</td>\n",
       "      <td>3.000000</td>\n",
       "      <td>25.000000</td>\n",
       "      <td>1986.000000</td>\n",
       "    </tr>\n",
       "    <tr>\n",
       "      <th>75%</th>\n",
       "      <td>55656.500000</td>\n",
       "      <td>20.000000</td>\n",
       "      <td>1319.250000</td>\n",
       "      <td>37.178387</td>\n",
       "      <td>-3.326156e+00</td>\n",
       "      <td>0.000000</td>\n",
       "      <td>17.000000</td>\n",
       "      <td>5.000000</td>\n",
       "      <td>215.000000</td>\n",
       "      <td>2004.000000</td>\n",
       "    </tr>\n",
       "    <tr>\n",
       "      <th>max</th>\n",
       "      <td>74247.000000</td>\n",
       "      <td>350000.000000</td>\n",
       "      <td>2770.000000</td>\n",
       "      <td>40.345193</td>\n",
       "      <td>-2.000000e-08</td>\n",
       "      <td>1776.000000</td>\n",
       "      <td>99.000000</td>\n",
       "      <td>80.000000</td>\n",
       "      <td>30500.000000</td>\n",
       "      <td>2013.000000</td>\n",
       "    </tr>\n",
       "  </tbody>\n",
       "</table>\n",
       "</div>"
      ],
      "text/plain": [
       "                 id     amount_tsh    gps_height     longitude      latitude  \\\n",
       "count  59400.000000   59400.000000  59400.000000  59400.000000  5.940000e+04   \n",
       "mean   37115.131768     317.650385    668.297239     34.077427 -5.706033e+00   \n",
       "std    21453.128371    2997.574558    693.116350      6.567432  2.946019e+00   \n",
       "min        0.000000       0.000000    -90.000000      0.000000 -1.164944e+01   \n",
       "25%    18519.750000       0.000000      0.000000     33.090347 -8.540621e+00   \n",
       "50%    37061.500000       0.000000    369.000000     34.908743 -5.021597e+00   \n",
       "75%    55656.500000      20.000000   1319.250000     37.178387 -3.326156e+00   \n",
       "max    74247.000000  350000.000000   2770.000000     40.345193 -2.000000e-08   \n",
       "\n",
       "        num_private   region_code  district_code    population  \\\n",
       "count  59400.000000  59400.000000   59400.000000  59400.000000   \n",
       "mean       0.474141     15.297003       5.629747    179.909983   \n",
       "std       12.236230     17.587406       9.633649    471.482176   \n",
       "min        0.000000      1.000000       0.000000      0.000000   \n",
       "25%        0.000000      5.000000       2.000000      0.000000   \n",
       "50%        0.000000     12.000000       3.000000     25.000000   \n",
       "75%        0.000000     17.000000       5.000000    215.000000   \n",
       "max     1776.000000     99.000000      80.000000  30500.000000   \n",
       "\n",
       "       construction_year  \n",
       "count       59400.000000  \n",
       "mean         1300.652475  \n",
       "std           951.620547  \n",
       "min             0.000000  \n",
       "25%             0.000000  \n",
       "50%          1986.000000  \n",
       "75%          2004.000000  \n",
       "max          2013.000000  "
      ]
     },
     "execution_count": 10,
     "metadata": {},
     "output_type": "execute_result"
    }
   ],
   "source": [
    "df_train.describe()"
   ]
  },
  {
   "cell_type": "code",
   "execution_count": 11,
   "metadata": {},
   "outputs": [
    {
     "data": {
      "text/plain": [
       "id                           0\n",
       "amount_tsh                   0\n",
       "date_recorded                0\n",
       "funder                    3635\n",
       "gps_height                   0\n",
       "installer                 3655\n",
       "longitude                    0\n",
       "latitude                     0\n",
       "wpt_name                     0\n",
       "num_private                  0\n",
       "basin                        0\n",
       "subvillage                 371\n",
       "region                       0\n",
       "region_code                  0\n",
       "district_code                0\n",
       "lga                          0\n",
       "ward                         0\n",
       "population                   0\n",
       "public_meeting            3334\n",
       "recorded_by                  0\n",
       "scheme_management         3877\n",
       "scheme_name              28166\n",
       "permit                    3056\n",
       "construction_year            0\n",
       "extraction_type              0\n",
       "extraction_type_group        0\n",
       "extraction_type_class        0\n",
       "management                   0\n",
       "management_group             0\n",
       "payment                      0\n",
       "payment_type                 0\n",
       "water_quality                0\n",
       "quality_group                0\n",
       "quantity                     0\n",
       "quantity_group               0\n",
       "source                       0\n",
       "source_type                  0\n",
       "source_class                 0\n",
       "waterpoint_type              0\n",
       "waterpoint_type_group        0\n",
       "target                       0\n",
       "dtype: int64"
      ]
     },
     "execution_count": 11,
     "metadata": {},
     "output_type": "execute_result"
    }
   ],
   "source": [
    "df_train.isna().sum()\n",
    "#scheme_management         3877\n",
    "#scheme_name              28166\n",
    "#permit                    3056\n",
    "#public_meeting            3334\n",
    "#subvillage                 371\n",
    "#installer                 3655\n",
    "#funder                    3635\n",
    "#consider dropping scheme_name\n",
    "#some kind of connection between funder and installer"
   ]
  },
  {
   "cell_type": "code",
   "execution_count": 12,
   "metadata": {},
   "outputs": [
    {
     "data": {
      "text/plain": [
       "functional                 32259\n",
       "non functional             22824\n",
       "functional needs repair     4317\n",
       "Name: status_group, dtype: int64"
      ]
     },
     "execution_count": 12,
     "metadata": {},
     "output_type": "execute_result"
    }
   ],
   "source": [
    "df_target.status_group.value_counts()"
   ]
  },
  {
   "cell_type": "code",
   "execution_count": 13,
   "metadata": {},
   "outputs": [],
   "source": [
    "numeric_columns = [\"amount_tsh\", \"gps_height\", \"longitude\", \"latitude\", \"num_private\", \"region_code\", \n",
    "                   \"district_code\", \"population\", \"construction_year\"]"
   ]
  },
  {
   "cell_type": "markdown",
   "metadata": {},
   "source": [
    "# FSM Ternary"
   ]
  },
  {
   "cell_type": "code",
   "execution_count": 14,
   "metadata": {},
   "outputs": [],
   "source": [
    "dummy_model = DummyClassifier(strategy=\"most_frequent\")\n",
    "#dummy model that will pick the largest class"
   ]
  },
  {
   "cell_type": "code",
   "execution_count": 15,
   "metadata": {},
   "outputs": [],
   "source": [
    "numeric_df = df_train[numeric_columns]\n",
    "X = numeric_df.drop(\"num_private\", axis=1)\n",
    "y = df_target[\"status_group\"]\n",
    "X_train, X_test, y_train, y_test = train_test_split(X, y, random_state=2021)\n",
    "#just using numeric columns as features"
   ]
  },
  {
   "cell_type": "code",
   "execution_count": 16,
   "metadata": {},
   "outputs": [
    {
     "data": {
      "text/plain": [
       "DummyClassifier(strategy='most_frequent')"
      ]
     },
     "execution_count": 16,
     "metadata": {},
     "output_type": "execute_result"
    }
   ],
   "source": [
    "dummy_model.fit(X_train, y_train)"
   ]
  },
  {
   "cell_type": "code",
   "execution_count": 17,
   "metadata": {},
   "outputs": [
    {
     "data": {
      "text/plain": [
       "array(['functional', 'functional', 'functional', ..., 'functional',\n",
       "       'functional', 'functional'], dtype='<U10')"
      ]
     },
     "execution_count": 17,
     "metadata": {},
     "output_type": "execute_result"
    }
   ],
   "source": [
    "dummy_model.predict(X_train)"
   ]
  },
  {
   "cell_type": "code",
   "execution_count": 18,
   "metadata": {},
   "outputs": [
    {
     "data": {
      "text/plain": [
       "array([0.54255892, 0.54249158, 0.54249158])"
      ]
     },
     "execution_count": 18,
     "metadata": {},
     "output_type": "execute_result"
    }
   ],
   "source": [
    "cross_val_score(dummy_model, X_train, y_train, cv=3)\n",
    "#score of about 54%\n",
    "#terrible"
   ]
  },
  {
   "cell_type": "code",
   "execution_count": 19,
   "metadata": {},
   "outputs": [
    {
     "data": {
      "image/png": "[encoded data removed]",
      "text/plain": [
       "<Figure size 432x288 with 2 Axes>"
      ]
     },
     "metadata": {
      "needs_background": "light"
     },
     "output_type": "display_data"
    }
   ],
   "source": [
    "fig, ax = plt.subplots()\n",
    "\n",
    "fig.suptitle(\"Dummy Model\")\n",
    "\n",
    "plot_confusion_matrix(dummy_model, X_train, y_train, ax=ax, cmap=\"plasma\");"
   ]
  },
  {
   "cell_type": "code",
   "execution_count": 20,
   "metadata": {},
   "outputs": [],
   "source": [
    "#next steps:\n",
    "\n",
    "#use missing indicator:\n",
    "#impute:\n",
    "#scheme_management         3877\n",
    "#scheme_name              28166\n",
    "#permit                    3056\n",
    "#public_meeting            3334\n",
    "#subvillage                 371\n",
    "#installer                 3655\n",
    "#funder                    3635\n",
    "\n",
    "#drop:\n",
    "#wpt_name:name of the water point\n",
    "#num_private: isn't given a description\n",
    "#recorded_by: group that recorded data\n",
    "#scheme_name: missing more than half its rows\n",
    "# date recorded\n",
    "\n",
    "#one hot encode all categorical values\n",
    "\n",
    "#scale features\n",
    "\n",
    "# work with either quantity or quantity group\n",
    "#work with  quality group\n",
    "#keep waterpoint_type\n",
    "#keep source class and source \n",
    "#keep payment type\n",
    "#keep management and management group\n",
    "#extraction class and extraction type\n",
    "#get rid of scheme name\n",
    "#get rid of num_private\n",
    "#drop subvillage\n",
    "#drop date_recorded\n",
    "#drop rows for na for funder and installer\n",
    "#drop wpt_name\n",
    "#df_clean = df_train.drop(['quantity'], , axis = 1)"
   ]
  },
  {
   "cell_type": "markdown",
   "metadata": {},
   "source": [
    "# data cleaning round two"
   ]
  },
  {
   "cell_type": "code",
   "execution_count": 21,
   "metadata": {},
   "outputs": [],
   "source": [
    "to_drop = ['date_recorded',  \n",
    "'installer',\n",
    "'wpt_name',  \n",
    "'subvillage',  \n",
    "'recorded_by',  \n",
    "'scheme_name',  \n",
    "'extraction_type_group',  \n",
    "'payment',  \n",
    "'water_quality',  \n",
    "'quantity',  \n",
    "'source_type',  \n",
    "'waterpoint_type_group',\n",
    "'num_private',\n",
    "'region',\n",
    "'ward',\n",
    "'id',\n",
    "'public_meeting'           \n",
    "]\n",
    "df_clean = df_train.drop(to_drop, axis = 1)\n",
    "#drop id\n",
    "#drop public meeting "
   ]
  },
  {
   "cell_type": "code",
   "execution_count": 22,
   "metadata": {},
   "outputs": [
    {
     "data": {
      "text/html": [
       "<div>\n",
       "<style scoped>\n",
       "    .dataframe tbody tr th:only-of-type {\n",
       "        vertical-align: middle;\n",
       "    }\n",
       "\n",
       "    .dataframe tbody tr th {\n",
       "        vertical-align: top;\n",
       "    }\n",
       "\n",
       "    .dataframe thead th {\n",
       "        text-align: right;\n",
       "    }\n",
       "</style>\n",
       "<table border=\"1\" class=\"dataframe\">\n",
       "  <thead>\n",
       "    <tr style=\"text-align: right;\">\n",
       "      <th></th>\n",
       "      <th>amount_tsh</th>\n",
       "      <th>funder</th>\n",
       "      <th>gps_height</th>\n",
       "      <th>longitude</th>\n",
       "      <th>latitude</th>\n",
       "      <th>basin</th>\n",
       "      <th>region_code</th>\n",
       "      <th>district_code</th>\n",
       "      <th>lga</th>\n",
       "      <th>population</th>\n",
       "      <th>scheme_management</th>\n",
       "      <th>permit</th>\n",
       "      <th>construction_year</th>\n",
       "      <th>extraction_type</th>\n",
       "      <th>extraction_type_class</th>\n",
       "      <th>management</th>\n",
       "      <th>management_group</th>\n",
       "      <th>payment_type</th>\n",
       "      <th>quality_group</th>\n",
       "      <th>quantity_group</th>\n",
       "      <th>source</th>\n",
       "      <th>source_class</th>\n",
       "      <th>waterpoint_type</th>\n",
       "      <th>target</th>\n",
       "    </tr>\n",
       "  </thead>\n",
       "  <tbody>\n",
       "    <tr>\n",
       "      <th>0</th>\n",
       "      <td>6000.0</td>\n",
       "      <td>Roman</td>\n",
       "      <td>1390</td>\n",
       "      <td>34.938093</td>\n",
       "      <td>-9.856322</td>\n",
       "      <td>Lake Nyasa</td>\n",
       "      <td>11</td>\n",
       "      <td>5</td>\n",
       "      <td>Ludewa</td>\n",
       "      <td>109</td>\n",
       "      <td>VWC</td>\n",
       "      <td>False</td>\n",
       "      <td>1999</td>\n",
       "      <td>gravity</td>\n",
       "      <td>gravity</td>\n",
       "      <td>vwc</td>\n",
       "      <td>user-group</td>\n",
       "      <td>annually</td>\n",
       "      <td>good</td>\n",
       "      <td>enough</td>\n",
       "      <td>spring</td>\n",
       "      <td>groundwater</td>\n",
       "      <td>communal standpipe</td>\n",
       "      <td>functional</td>\n",
       "    </tr>\n",
       "    <tr>\n",
       "      <th>1</th>\n",
       "      <td>0.0</td>\n",
       "      <td>Grumeti</td>\n",
       "      <td>1399</td>\n",
       "      <td>34.698766</td>\n",
       "      <td>-2.147466</td>\n",
       "      <td>Lake Victoria</td>\n",
       "      <td>20</td>\n",
       "      <td>2</td>\n",
       "      <td>Serengeti</td>\n",
       "      <td>280</td>\n",
       "      <td>Other</td>\n",
       "      <td>True</td>\n",
       "      <td>2010</td>\n",
       "      <td>gravity</td>\n",
       "      <td>gravity</td>\n",
       "      <td>wug</td>\n",
       "      <td>user-group</td>\n",
       "      <td>never pay</td>\n",
       "      <td>good</td>\n",
       "      <td>insufficient</td>\n",
       "      <td>rainwater harvesting</td>\n",
       "      <td>surface</td>\n",
       "      <td>communal standpipe</td>\n",
       "      <td>functional</td>\n",
       "    </tr>\n",
       "    <tr>\n",
       "      <th>2</th>\n",
       "      <td>25.0</td>\n",
       "      <td>Lottery Club</td>\n",
       "      <td>686</td>\n",
       "      <td>37.460664</td>\n",
       "      <td>-3.821329</td>\n",
       "      <td>Pangani</td>\n",
       "      <td>21</td>\n",
       "      <td>4</td>\n",
       "      <td>Simanjiro</td>\n",
       "      <td>250</td>\n",
       "      <td>VWC</td>\n",
       "      <td>True</td>\n",
       "      <td>2009</td>\n",
       "      <td>gravity</td>\n",
       "      <td>gravity</td>\n",
       "      <td>vwc</td>\n",
       "      <td>user-group</td>\n",
       "      <td>per bucket</td>\n",
       "      <td>good</td>\n",
       "      <td>enough</td>\n",
       "      <td>dam</td>\n",
       "      <td>surface</td>\n",
       "      <td>communal standpipe multiple</td>\n",
       "      <td>functional</td>\n",
       "    </tr>\n",
       "    <tr>\n",
       "      <th>3</th>\n",
       "      <td>0.0</td>\n",
       "      <td>Unicef</td>\n",
       "      <td>263</td>\n",
       "      <td>38.486161</td>\n",
       "      <td>-11.155298</td>\n",
       "      <td>Ruvuma / Southern Coast</td>\n",
       "      <td>90</td>\n",
       "      <td>63</td>\n",
       "      <td>Nanyumbu</td>\n",
       "      <td>58</td>\n",
       "      <td>VWC</td>\n",
       "      <td>True</td>\n",
       "      <td>1986</td>\n",
       "      <td>submersible</td>\n",
       "      <td>submersible</td>\n",
       "      <td>vwc</td>\n",
       "      <td>user-group</td>\n",
       "      <td>never pay</td>\n",
       "      <td>good</td>\n",
       "      <td>dry</td>\n",
       "      <td>machine dbh</td>\n",
       "      <td>groundwater</td>\n",
       "      <td>communal standpipe multiple</td>\n",
       "      <td>non functional</td>\n",
       "    </tr>\n",
       "    <tr>\n",
       "      <th>4</th>\n",
       "      <td>0.0</td>\n",
       "      <td>Action In A</td>\n",
       "      <td>0</td>\n",
       "      <td>31.130847</td>\n",
       "      <td>-1.825359</td>\n",
       "      <td>Lake Victoria</td>\n",
       "      <td>18</td>\n",
       "      <td>1</td>\n",
       "      <td>Karagwe</td>\n",
       "      <td>0</td>\n",
       "      <td>NaN</td>\n",
       "      <td>True</td>\n",
       "      <td>0</td>\n",
       "      <td>gravity</td>\n",
       "      <td>gravity</td>\n",
       "      <td>other</td>\n",
       "      <td>other</td>\n",
       "      <td>never pay</td>\n",
       "      <td>good</td>\n",
       "      <td>seasonal</td>\n",
       "      <td>rainwater harvesting</td>\n",
       "      <td>surface</td>\n",
       "      <td>communal standpipe</td>\n",
       "      <td>functional</td>\n",
       "    </tr>\n",
       "  </tbody>\n",
       "</table>\n",
       "</div>"
      ],
      "text/plain": [
       "   amount_tsh        funder  gps_height  longitude   latitude  \\\n",
       "0      6000.0         Roman        1390  34.938093  -9.856322   \n",
       "1         0.0       Grumeti        1399  34.698766  -2.147466   \n",
       "2        25.0  Lottery Club         686  37.460664  -3.821329   \n",
       "3         0.0        Unicef         263  38.486161 -11.155298   \n",
       "4         0.0   Action In A           0  31.130847  -1.825359   \n",
       "\n",
       "                     basin  region_code  district_code        lga  population  \\\n",
       "0               Lake Nyasa           11              5     Ludewa         109   \n",
       "1            Lake Victoria           20              2  Serengeti         280   \n",
       "2                  Pangani           21              4  Simanjiro         250   \n",
       "3  Ruvuma / Southern Coast           90             63   Nanyumbu          58   \n",
       "4            Lake Victoria           18              1    Karagwe           0   \n",
       "\n",
       "  scheme_management permit  construction_year extraction_type  \\\n",
       "0               VWC  False               1999         gravity   \n",
       "1             Other   True               2010         gravity   \n",
       "2               VWC   True               2009         gravity   \n",
       "3               VWC   True               1986     submersible   \n",
       "4               NaN   True                  0         gravity   \n",
       "\n",
       "  extraction_type_class management management_group payment_type  \\\n",
       "0               gravity        vwc       user-group     annually   \n",
       "1               gravity        wug       user-group    never pay   \n",
       "2               gravity        vwc       user-group   per bucket   \n",
       "3           submersible        vwc       user-group    never pay   \n",
       "4               gravity      other            other    never pay   \n",
       "\n",
       "  quality_group quantity_group                source source_class  \\\n",
       "0          good         enough                spring  groundwater   \n",
       "1          good   insufficient  rainwater harvesting      surface   \n",
       "2          good         enough                   dam      surface   \n",
       "3          good            dry           machine dbh  groundwater   \n",
       "4          good       seasonal  rainwater harvesting      surface   \n",
       "\n",
       "               waterpoint_type          target  \n",
       "0           communal standpipe      functional  \n",
       "1           communal standpipe      functional  \n",
       "2  communal standpipe multiple      functional  \n",
       "3  communal standpipe multiple  non functional  \n",
       "4           communal standpipe      functional  "
      ]
     },
     "execution_count": 22,
     "metadata": {},
     "output_type": "execute_result"
    }
   ],
   "source": [
    "pd.set_option('display.max_columns', None)\n",
    "df_clean.head(5)"
   ]
  },
  {
   "cell_type": "code",
   "execution_count": 23,
   "metadata": {},
   "outputs": [
    {
     "data": {
      "text/plain": [
       "(59400, 24)"
      ]
     },
     "execution_count": 23,
     "metadata": {},
     "output_type": "execute_result"
    }
   ],
   "source": [
    "df_clean.shape\n",
    "#(59400, 24)\n",
    "#amount_tsh, gps_height, longitude, latitude, population"
   ]
  },
  {
   "cell_type": "code",
   "execution_count": 24,
   "metadata": {},
   "outputs": [],
   "source": [
    "col_names = df_clean.columns\n",
    "cat = [ 'funder', 'basin',\n",
    "       'region_code', 'district_code', 'lga',\n",
    "       'scheme_management', 'permit', 'construction_year', 'extraction_type',\n",
    "       'extraction_type_class', 'management', 'management_group',\n",
    "       'payment_type', 'quality_group', 'quantity_group', 'source',\n",
    "       'source_class', 'waterpoint_type']"
   ]
  },
  {
   "cell_type": "code",
   "execution_count": 25,
   "metadata": {},
   "outputs": [],
   "source": [
    "df_clean.dropna(inplace=True)"
   ]
  },
  {
   "cell_type": "code",
   "execution_count": 26,
   "metadata": {},
   "outputs": [
    {
     "data": {
      "text/plain": [
       "(51329, 24)"
      ]
     },
     "execution_count": 26,
     "metadata": {},
     "output_type": "execute_result"
    }
   ],
   "source": [
    "df_clean.shape\n",
    "#(51329, 24)"
   ]
  },
  {
   "cell_type": "code",
   "execution_count": 27,
   "metadata": {},
   "outputs": [
    {
     "data": {
      "text/plain": [
       "amount_tsh               0\n",
       "funder                   0\n",
       "gps_height               0\n",
       "longitude                0\n",
       "latitude                 0\n",
       "basin                    0\n",
       "region_code              0\n",
       "district_code            0\n",
       "lga                      0\n",
       "population               0\n",
       "scheme_management        0\n",
       "permit                   0\n",
       "construction_year        0\n",
       "extraction_type          0\n",
       "extraction_type_class    0\n",
       "management               0\n",
       "management_group         0\n",
       "payment_type             0\n",
       "quality_group            0\n",
       "quantity_group           0\n",
       "source                   0\n",
       "source_class             0\n",
       "waterpoint_type          0\n",
       "target                   0\n",
       "dtype: int64"
      ]
     },
     "execution_count": 27,
     "metadata": {},
     "output_type": "execute_result"
    }
   ],
   "source": [
    "df_clean.isna().sum()"
   ]
  },
  {
   "cell_type": "markdown",
   "metadata": {},
   "source": [
    "# swtich from Ternerary to binary"
   ]
  },
  {
   "cell_type": "code",
   "execution_count": 28,
   "metadata": {},
   "outputs": [
    {
     "data": {
      "text/plain": [
       "functional                 28076\n",
       "non functional             19626\n",
       "functional needs repair     3627\n",
       "Name: target, dtype: int64"
      ]
     },
     "execution_count": 28,
     "metadata": {},
     "output_type": "execute_result"
    }
   ],
   "source": [
    "df_clean.target.value_counts()\n",
    "#functional                 32259\n",
    "#non functional             22824\n",
    "#functional needs repair     4317-\n"
   ]
  },
  {
   "cell_type": "code",
   "execution_count": 29,
   "metadata": {},
   "outputs": [
    {
     "data": {
      "text/html": [
       "<div>\n",
       "<style scoped>\n",
       "    .dataframe tbody tr th:only-of-type {\n",
       "        vertical-align: middle;\n",
       "    }\n",
       "\n",
       "    .dataframe tbody tr th {\n",
       "        vertical-align: top;\n",
       "    }\n",
       "\n",
       "    .dataframe thead th {\n",
       "        text-align: right;\n",
       "    }\n",
       "</style>\n",
       "<table border=\"1\" class=\"dataframe\">\n",
       "  <thead>\n",
       "    <tr style=\"text-align: right;\">\n",
       "      <th></th>\n",
       "      <th>amount_tsh</th>\n",
       "      <th>funder</th>\n",
       "      <th>gps_height</th>\n",
       "      <th>longitude</th>\n",
       "      <th>latitude</th>\n",
       "      <th>basin</th>\n",
       "      <th>region_code</th>\n",
       "      <th>district_code</th>\n",
       "      <th>lga</th>\n",
       "      <th>population</th>\n",
       "      <th>scheme_management</th>\n",
       "      <th>permit</th>\n",
       "      <th>construction_year</th>\n",
       "      <th>extraction_type</th>\n",
       "      <th>extraction_type_class</th>\n",
       "      <th>management</th>\n",
       "      <th>management_group</th>\n",
       "      <th>payment_type</th>\n",
       "      <th>quality_group</th>\n",
       "      <th>quantity_group</th>\n",
       "      <th>source</th>\n",
       "      <th>source_class</th>\n",
       "      <th>waterpoint_type</th>\n",
       "      <th>target</th>\n",
       "    </tr>\n",
       "  </thead>\n",
       "  <tbody>\n",
       "    <tr>\n",
       "      <th>0</th>\n",
       "      <td>6000.0</td>\n",
       "      <td>Roman</td>\n",
       "      <td>1390</td>\n",
       "      <td>34.938093</td>\n",
       "      <td>-9.856322</td>\n",
       "      <td>Lake Nyasa</td>\n",
       "      <td>11</td>\n",
       "      <td>5</td>\n",
       "      <td>Ludewa</td>\n",
       "      <td>109</td>\n",
       "      <td>VWC</td>\n",
       "      <td>False</td>\n",
       "      <td>1999</td>\n",
       "      <td>gravity</td>\n",
       "      <td>gravity</td>\n",
       "      <td>vwc</td>\n",
       "      <td>user-group</td>\n",
       "      <td>annually</td>\n",
       "      <td>good</td>\n",
       "      <td>enough</td>\n",
       "      <td>spring</td>\n",
       "      <td>groundwater</td>\n",
       "      <td>communal standpipe</td>\n",
       "      <td>functional</td>\n",
       "    </tr>\n",
       "    <tr>\n",
       "      <th>1</th>\n",
       "      <td>0.0</td>\n",
       "      <td>Grumeti</td>\n",
       "      <td>1399</td>\n",
       "      <td>34.698766</td>\n",
       "      <td>-2.147466</td>\n",
       "      <td>Lake Victoria</td>\n",
       "      <td>20</td>\n",
       "      <td>2</td>\n",
       "      <td>Serengeti</td>\n",
       "      <td>280</td>\n",
       "      <td>Other</td>\n",
       "      <td>True</td>\n",
       "      <td>2010</td>\n",
       "      <td>gravity</td>\n",
       "      <td>gravity</td>\n",
       "      <td>wug</td>\n",
       "      <td>user-group</td>\n",
       "      <td>never pay</td>\n",
       "      <td>good</td>\n",
       "      <td>insufficient</td>\n",
       "      <td>rainwater harvesting</td>\n",
       "      <td>surface</td>\n",
       "      <td>communal standpipe</td>\n",
       "      <td>functional</td>\n",
       "    </tr>\n",
       "    <tr>\n",
       "      <th>2</th>\n",
       "      <td>25.0</td>\n",
       "      <td>Lottery Club</td>\n",
       "      <td>686</td>\n",
       "      <td>37.460664</td>\n",
       "      <td>-3.821329</td>\n",
       "      <td>Pangani</td>\n",
       "      <td>21</td>\n",
       "      <td>4</td>\n",
       "      <td>Simanjiro</td>\n",
       "      <td>250</td>\n",
       "      <td>VWC</td>\n",
       "      <td>True</td>\n",
       "      <td>2009</td>\n",
       "      <td>gravity</td>\n",
       "      <td>gravity</td>\n",
       "      <td>vwc</td>\n",
       "      <td>user-group</td>\n",
       "      <td>per bucket</td>\n",
       "      <td>good</td>\n",
       "      <td>enough</td>\n",
       "      <td>dam</td>\n",
       "      <td>surface</td>\n",
       "      <td>communal standpipe multiple</td>\n",
       "      <td>functional</td>\n",
       "    </tr>\n",
       "    <tr>\n",
       "      <th>3</th>\n",
       "      <td>0.0</td>\n",
       "      <td>Unicef</td>\n",
       "      <td>263</td>\n",
       "      <td>38.486161</td>\n",
       "      <td>-11.155298</td>\n",
       "      <td>Ruvuma / Southern Coast</td>\n",
       "      <td>90</td>\n",
       "      <td>63</td>\n",
       "      <td>Nanyumbu</td>\n",
       "      <td>58</td>\n",
       "      <td>VWC</td>\n",
       "      <td>True</td>\n",
       "      <td>1986</td>\n",
       "      <td>submersible</td>\n",
       "      <td>submersible</td>\n",
       "      <td>vwc</td>\n",
       "      <td>user-group</td>\n",
       "      <td>never pay</td>\n",
       "      <td>good</td>\n",
       "      <td>dry</td>\n",
       "      <td>machine dbh</td>\n",
       "      <td>groundwater</td>\n",
       "      <td>communal standpipe multiple</td>\n",
       "      <td>non functional</td>\n",
       "    </tr>\n",
       "    <tr>\n",
       "      <th>5</th>\n",
       "      <td>20.0</td>\n",
       "      <td>Mkinga Distric Coun</td>\n",
       "      <td>0</td>\n",
       "      <td>39.172796</td>\n",
       "      <td>-4.765587</td>\n",
       "      <td>Pangani</td>\n",
       "      <td>4</td>\n",
       "      <td>8</td>\n",
       "      <td>Mkinga</td>\n",
       "      <td>1</td>\n",
       "      <td>VWC</td>\n",
       "      <td>True</td>\n",
       "      <td>2009</td>\n",
       "      <td>submersible</td>\n",
       "      <td>submersible</td>\n",
       "      <td>vwc</td>\n",
       "      <td>user-group</td>\n",
       "      <td>per bucket</td>\n",
       "      <td>salty</td>\n",
       "      <td>enough</td>\n",
       "      <td>other</td>\n",
       "      <td>unknown</td>\n",
       "      <td>communal standpipe multiple</td>\n",
       "      <td>functional</td>\n",
       "    </tr>\n",
       "  </tbody>\n",
       "</table>\n",
       "</div>"
      ],
      "text/plain": [
       "   amount_tsh               funder  gps_height  longitude   latitude  \\\n",
       "0      6000.0                Roman        1390  34.938093  -9.856322   \n",
       "1         0.0              Grumeti        1399  34.698766  -2.147466   \n",
       "2        25.0         Lottery Club         686  37.460664  -3.821329   \n",
       "3         0.0               Unicef         263  38.486161 -11.155298   \n",
       "5        20.0  Mkinga Distric Coun           0  39.172796  -4.765587   \n",
       "\n",
       "                     basin  region_code  district_code        lga  population  \\\n",
       "0               Lake Nyasa           11              5     Ludewa         109   \n",
       "1            Lake Victoria           20              2  Serengeti         280   \n",
       "2                  Pangani           21              4  Simanjiro         250   \n",
       "3  Ruvuma / Southern Coast           90             63   Nanyumbu          58   \n",
       "5                  Pangani            4              8     Mkinga           1   \n",
       "\n",
       "  scheme_management permit  construction_year extraction_type  \\\n",
       "0               VWC  False               1999         gravity   \n",
       "1             Other   True               2010         gravity   \n",
       "2               VWC   True               2009         gravity   \n",
       "3               VWC   True               1986     submersible   \n",
       "5               VWC   True               2009     submersible   \n",
       "\n",
       "  extraction_type_class management management_group payment_type  \\\n",
       "0               gravity        vwc       user-group     annually   \n",
       "1               gravity        wug       user-group    never pay   \n",
       "2               gravity        vwc       user-group   per bucket   \n",
       "3           submersible        vwc       user-group    never pay   \n",
       "5           submersible        vwc       user-group   per bucket   \n",
       "\n",
       "  quality_group quantity_group                source source_class  \\\n",
       "0          good         enough                spring  groundwater   \n",
       "1          good   insufficient  rainwater harvesting      surface   \n",
       "2          good         enough                   dam      surface   \n",
       "3          good            dry           machine dbh  groundwater   \n",
       "5         salty         enough                 other      unknown   \n",
       "\n",
       "               waterpoint_type          target  \n",
       "0           communal standpipe      functional  \n",
       "1           communal standpipe      functional  \n",
       "2  communal standpipe multiple      functional  \n",
       "3  communal standpipe multiple  non functional  \n",
       "5  communal standpipe multiple      functional  "
      ]
     },
     "execution_count": 29,
     "metadata": {},
     "output_type": "execute_result"
    }
   ],
   "source": [
    "df_clean.head()"
   ]
  },
  {
   "cell_type": "code",
   "execution_count": 30,
   "metadata": {},
   "outputs": [],
   "source": [
    "target_list = df_clean.target.tolist()"
   ]
  },
  {
   "cell_type": "code",
   "execution_count": 31,
   "metadata": {},
   "outputs": [],
   "source": [
    "t_list = ['non functional' if i=='functional needs repair' else i for i in target_list]"
   ]
  },
  {
   "cell_type": "code",
   "execution_count": 32,
   "metadata": {},
   "outputs": [],
   "source": [
    "df_clean['bi_target'] = t_list"
   ]
  },
  {
   "cell_type": "code",
   "execution_count": 33,
   "metadata": {},
   "outputs": [
    {
     "data": {
      "text/html": [
       "<div>\n",
       "<style scoped>\n",
       "    .dataframe tbody tr th:only-of-type {\n",
       "        vertical-align: middle;\n",
       "    }\n",
       "\n",
       "    .dataframe tbody tr th {\n",
       "        vertical-align: top;\n",
       "    }\n",
       "\n",
       "    .dataframe thead th {\n",
       "        text-align: right;\n",
       "    }\n",
       "</style>\n",
       "<table border=\"1\" class=\"dataframe\">\n",
       "  <thead>\n",
       "    <tr style=\"text-align: right;\">\n",
       "      <th></th>\n",
       "      <th>amount_tsh</th>\n",
       "      <th>funder</th>\n",
       "      <th>gps_height</th>\n",
       "      <th>longitude</th>\n",
       "      <th>latitude</th>\n",
       "      <th>basin</th>\n",
       "      <th>region_code</th>\n",
       "      <th>district_code</th>\n",
       "      <th>lga</th>\n",
       "      <th>population</th>\n",
       "      <th>scheme_management</th>\n",
       "      <th>permit</th>\n",
       "      <th>construction_year</th>\n",
       "      <th>extraction_type</th>\n",
       "      <th>extraction_type_class</th>\n",
       "      <th>management</th>\n",
       "      <th>management_group</th>\n",
       "      <th>payment_type</th>\n",
       "      <th>quality_group</th>\n",
       "      <th>quantity_group</th>\n",
       "      <th>source</th>\n",
       "      <th>source_class</th>\n",
       "      <th>waterpoint_type</th>\n",
       "      <th>target</th>\n",
       "      <th>bi_target</th>\n",
       "    </tr>\n",
       "  </thead>\n",
       "  <tbody>\n",
       "    <tr>\n",
       "      <th>0</th>\n",
       "      <td>6000.0</td>\n",
       "      <td>Roman</td>\n",
       "      <td>1390</td>\n",
       "      <td>34.938093</td>\n",
       "      <td>-9.856322</td>\n",
       "      <td>Lake Nyasa</td>\n",
       "      <td>11</td>\n",
       "      <td>5</td>\n",
       "      <td>Ludewa</td>\n",
       "      <td>109</td>\n",
       "      <td>VWC</td>\n",
       "      <td>False</td>\n",
       "      <td>1999</td>\n",
       "      <td>gravity</td>\n",
       "      <td>gravity</td>\n",
       "      <td>vwc</td>\n",
       "      <td>user-group</td>\n",
       "      <td>annually</td>\n",
       "      <td>good</td>\n",
       "      <td>enough</td>\n",
       "      <td>spring</td>\n",
       "      <td>groundwater</td>\n",
       "      <td>communal standpipe</td>\n",
       "      <td>functional</td>\n",
       "      <td>functional</td>\n",
       "    </tr>\n",
       "    <tr>\n",
       "      <th>1</th>\n",
       "      <td>0.0</td>\n",
       "      <td>Grumeti</td>\n",
       "      <td>1399</td>\n",
       "      <td>34.698766</td>\n",
       "      <td>-2.147466</td>\n",
       "      <td>Lake Victoria</td>\n",
       "      <td>20</td>\n",
       "      <td>2</td>\n",
       "      <td>Serengeti</td>\n",
       "      <td>280</td>\n",
       "      <td>Other</td>\n",
       "      <td>True</td>\n",
       "      <td>2010</td>\n",
       "      <td>gravity</td>\n",
       "      <td>gravity</td>\n",
       "      <td>wug</td>\n",
       "      <td>user-group</td>\n",
       "      <td>never pay</td>\n",
       "      <td>good</td>\n",
       "      <td>insufficient</td>\n",
       "      <td>rainwater harvesting</td>\n",
       "      <td>surface</td>\n",
       "      <td>communal standpipe</td>\n",
       "      <td>functional</td>\n",
       "      <td>functional</td>\n",
       "    </tr>\n",
       "    <tr>\n",
       "      <th>2</th>\n",
       "      <td>25.0</td>\n",
       "      <td>Lottery Club</td>\n",
       "      <td>686</td>\n",
       "      <td>37.460664</td>\n",
       "      <td>-3.821329</td>\n",
       "      <td>Pangani</td>\n",
       "      <td>21</td>\n",
       "      <td>4</td>\n",
       "      <td>Simanjiro</td>\n",
       "      <td>250</td>\n",
       "      <td>VWC</td>\n",
       "      <td>True</td>\n",
       "      <td>2009</td>\n",
       "      <td>gravity</td>\n",
       "      <td>gravity</td>\n",
       "      <td>vwc</td>\n",
       "      <td>user-group</td>\n",
       "      <td>per bucket</td>\n",
       "      <td>good</td>\n",
       "      <td>enough</td>\n",
       "      <td>dam</td>\n",
       "      <td>surface</td>\n",
       "      <td>communal standpipe multiple</td>\n",
       "      <td>functional</td>\n",
       "      <td>functional</td>\n",
       "    </tr>\n",
       "    <tr>\n",
       "      <th>3</th>\n",
       "      <td>0.0</td>\n",
       "      <td>Unicef</td>\n",
       "      <td>263</td>\n",
       "      <td>38.486161</td>\n",
       "      <td>-11.155298</td>\n",
       "      <td>Ruvuma / Southern Coast</td>\n",
       "      <td>90</td>\n",
       "      <td>63</td>\n",
       "      <td>Nanyumbu</td>\n",
       "      <td>58</td>\n",
       "      <td>VWC</td>\n",
       "      <td>True</td>\n",
       "      <td>1986</td>\n",
       "      <td>submersible</td>\n",
       "      <td>submersible</td>\n",
       "      <td>vwc</td>\n",
       "      <td>user-group</td>\n",
       "      <td>never pay</td>\n",
       "      <td>good</td>\n",
       "      <td>dry</td>\n",
       "      <td>machine dbh</td>\n",
       "      <td>groundwater</td>\n",
       "      <td>communal standpipe multiple</td>\n",
       "      <td>non functional</td>\n",
       "      <td>non functional</td>\n",
       "    </tr>\n",
       "    <tr>\n",
       "      <th>5</th>\n",
       "      <td>20.0</td>\n",
       "      <td>Mkinga Distric Coun</td>\n",
       "      <td>0</td>\n",
       "      <td>39.172796</td>\n",
       "      <td>-4.765587</td>\n",
       "      <td>Pangani</td>\n",
       "      <td>4</td>\n",
       "      <td>8</td>\n",
       "      <td>Mkinga</td>\n",
       "      <td>1</td>\n",
       "      <td>VWC</td>\n",
       "      <td>True</td>\n",
       "      <td>2009</td>\n",
       "      <td>submersible</td>\n",
       "      <td>submersible</td>\n",
       "      <td>vwc</td>\n",
       "      <td>user-group</td>\n",
       "      <td>per bucket</td>\n",
       "      <td>salty</td>\n",
       "      <td>enough</td>\n",
       "      <td>other</td>\n",
       "      <td>unknown</td>\n",
       "      <td>communal standpipe multiple</td>\n",
       "      <td>functional</td>\n",
       "      <td>functional</td>\n",
       "    </tr>\n",
       "  </tbody>\n",
       "</table>\n",
       "</div>"
      ],
      "text/plain": [
       "   amount_tsh               funder  gps_height  longitude   latitude  \\\n",
       "0      6000.0                Roman        1390  34.938093  -9.856322   \n",
       "1         0.0              Grumeti        1399  34.698766  -2.147466   \n",
       "2        25.0         Lottery Club         686  37.460664  -3.821329   \n",
       "3         0.0               Unicef         263  38.486161 -11.155298   \n",
       "5        20.0  Mkinga Distric Coun           0  39.172796  -4.765587   \n",
       "\n",
       "                     basin  region_code  district_code        lga  population  \\\n",
       "0               Lake Nyasa           11              5     Ludewa         109   \n",
       "1            Lake Victoria           20              2  Serengeti         280   \n",
       "2                  Pangani           21              4  Simanjiro         250   \n",
       "3  Ruvuma / Southern Coast           90             63   Nanyumbu          58   \n",
       "5                  Pangani            4              8     Mkinga           1   \n",
       "\n",
       "  scheme_management permit  construction_year extraction_type  \\\n",
       "0               VWC  False               1999         gravity   \n",
       "1             Other   True               2010         gravity   \n",
       "2               VWC   True               2009         gravity   \n",
       "3               VWC   True               1986     submersible   \n",
       "5               VWC   True               2009     submersible   \n",
       "\n",
       "  extraction_type_class management management_group payment_type  \\\n",
       "0               gravity        vwc       user-group     annually   \n",
       "1               gravity        wug       user-group    never pay   \n",
       "2               gravity        vwc       user-group   per bucket   \n",
       "3           submersible        vwc       user-group    never pay   \n",
       "5           submersible        vwc       user-group   per bucket   \n",
       "\n",
       "  quality_group quantity_group                source source_class  \\\n",
       "0          good         enough                spring  groundwater   \n",
       "1          good   insufficient  rainwater harvesting      surface   \n",
       "2          good         enough                   dam      surface   \n",
       "3          good            dry           machine dbh  groundwater   \n",
       "5         salty         enough                 other      unknown   \n",
       "\n",
       "               waterpoint_type          target       bi_target  \n",
       "0           communal standpipe      functional      functional  \n",
       "1           communal standpipe      functional      functional  \n",
       "2  communal standpipe multiple      functional      functional  \n",
       "3  communal standpipe multiple  non functional  non functional  \n",
       "5  communal standpipe multiple      functional      functional  "
      ]
     },
     "execution_count": 33,
     "metadata": {},
     "output_type": "execute_result"
    }
   ],
   "source": [
    "df_clean.head()"
   ]
  },
  {
   "cell_type": "code",
   "execution_count": 34,
   "metadata": {},
   "outputs": [],
   "source": [
    "df_clean = df_clean.drop(['target'], axis = 1)"
   ]
  },
  {
   "cell_type": "code",
   "execution_count": 35,
   "metadata": {},
   "outputs": [
    {
     "data": {
      "text/html": [
       "<div>\n",
       "<style scoped>\n",
       "    .dataframe tbody tr th:only-of-type {\n",
       "        vertical-align: middle;\n",
       "    }\n",
       "\n",
       "    .dataframe tbody tr th {\n",
       "        vertical-align: top;\n",
       "    }\n",
       "\n",
       "    .dataframe thead th {\n",
       "        text-align: right;\n",
       "    }\n",
       "</style>\n",
       "<table border=\"1\" class=\"dataframe\">\n",
       "  <thead>\n",
       "    <tr style=\"text-align: right;\">\n",
       "      <th></th>\n",
       "      <th>amount_tsh</th>\n",
       "      <th>funder</th>\n",
       "      <th>gps_height</th>\n",
       "      <th>longitude</th>\n",
       "      <th>latitude</th>\n",
       "      <th>basin</th>\n",
       "      <th>region_code</th>\n",
       "      <th>district_code</th>\n",
       "      <th>lga</th>\n",
       "      <th>population</th>\n",
       "      <th>scheme_management</th>\n",
       "      <th>permit</th>\n",
       "      <th>construction_year</th>\n",
       "      <th>extraction_type</th>\n",
       "      <th>extraction_type_class</th>\n",
       "      <th>management</th>\n",
       "      <th>management_group</th>\n",
       "      <th>payment_type</th>\n",
       "      <th>quality_group</th>\n",
       "      <th>quantity_group</th>\n",
       "      <th>source</th>\n",
       "      <th>source_class</th>\n",
       "      <th>waterpoint_type</th>\n",
       "      <th>bi_target</th>\n",
       "    </tr>\n",
       "  </thead>\n",
       "  <tbody>\n",
       "    <tr>\n",
       "      <th>0</th>\n",
       "      <td>6000.0</td>\n",
       "      <td>Roman</td>\n",
       "      <td>1390</td>\n",
       "      <td>34.938093</td>\n",
       "      <td>-9.856322</td>\n",
       "      <td>Lake Nyasa</td>\n",
       "      <td>11</td>\n",
       "      <td>5</td>\n",
       "      <td>Ludewa</td>\n",
       "      <td>109</td>\n",
       "      <td>VWC</td>\n",
       "      <td>False</td>\n",
       "      <td>1999</td>\n",
       "      <td>gravity</td>\n",
       "      <td>gravity</td>\n",
       "      <td>vwc</td>\n",
       "      <td>user-group</td>\n",
       "      <td>annually</td>\n",
       "      <td>good</td>\n",
       "      <td>enough</td>\n",
       "      <td>spring</td>\n",
       "      <td>groundwater</td>\n",
       "      <td>communal standpipe</td>\n",
       "      <td>functional</td>\n",
       "    </tr>\n",
       "    <tr>\n",
       "      <th>1</th>\n",
       "      <td>0.0</td>\n",
       "      <td>Grumeti</td>\n",
       "      <td>1399</td>\n",
       "      <td>34.698766</td>\n",
       "      <td>-2.147466</td>\n",
       "      <td>Lake Victoria</td>\n",
       "      <td>20</td>\n",
       "      <td>2</td>\n",
       "      <td>Serengeti</td>\n",
       "      <td>280</td>\n",
       "      <td>Other</td>\n",
       "      <td>True</td>\n",
       "      <td>2010</td>\n",
       "      <td>gravity</td>\n",
       "      <td>gravity</td>\n",
       "      <td>wug</td>\n",
       "      <td>user-group</td>\n",
       "      <td>never pay</td>\n",
       "      <td>good</td>\n",
       "      <td>insufficient</td>\n",
       "      <td>rainwater harvesting</td>\n",
       "      <td>surface</td>\n",
       "      <td>communal standpipe</td>\n",
       "      <td>functional</td>\n",
       "    </tr>\n",
       "    <tr>\n",
       "      <th>2</th>\n",
       "      <td>25.0</td>\n",
       "      <td>Lottery Club</td>\n",
       "      <td>686</td>\n",
       "      <td>37.460664</td>\n",
       "      <td>-3.821329</td>\n",
       "      <td>Pangani</td>\n",
       "      <td>21</td>\n",
       "      <td>4</td>\n",
       "      <td>Simanjiro</td>\n",
       "      <td>250</td>\n",
       "      <td>VWC</td>\n",
       "      <td>True</td>\n",
       "      <td>2009</td>\n",
       "      <td>gravity</td>\n",
       "      <td>gravity</td>\n",
       "      <td>vwc</td>\n",
       "      <td>user-group</td>\n",
       "      <td>per bucket</td>\n",
       "      <td>good</td>\n",
       "      <td>enough</td>\n",
       "      <td>dam</td>\n",
       "      <td>surface</td>\n",
       "      <td>communal standpipe multiple</td>\n",
       "      <td>functional</td>\n",
       "    </tr>\n",
       "    <tr>\n",
       "      <th>3</th>\n",
       "      <td>0.0</td>\n",
       "      <td>Unicef</td>\n",
       "      <td>263</td>\n",
       "      <td>38.486161</td>\n",
       "      <td>-11.155298</td>\n",
       "      <td>Ruvuma / Southern Coast</td>\n",
       "      <td>90</td>\n",
       "      <td>63</td>\n",
       "      <td>Nanyumbu</td>\n",
       "      <td>58</td>\n",
       "      <td>VWC</td>\n",
       "      <td>True</td>\n",
       "      <td>1986</td>\n",
       "      <td>submersible</td>\n",
       "      <td>submersible</td>\n",
       "      <td>vwc</td>\n",
       "      <td>user-group</td>\n",
       "      <td>never pay</td>\n",
       "      <td>good</td>\n",
       "      <td>dry</td>\n",
       "      <td>machine dbh</td>\n",
       "      <td>groundwater</td>\n",
       "      <td>communal standpipe multiple</td>\n",
       "      <td>non functional</td>\n",
       "    </tr>\n",
       "    <tr>\n",
       "      <th>5</th>\n",
       "      <td>20.0</td>\n",
       "      <td>Mkinga Distric Coun</td>\n",
       "      <td>0</td>\n",
       "      <td>39.172796</td>\n",
       "      <td>-4.765587</td>\n",
       "      <td>Pangani</td>\n",
       "      <td>4</td>\n",
       "      <td>8</td>\n",
       "      <td>Mkinga</td>\n",
       "      <td>1</td>\n",
       "      <td>VWC</td>\n",
       "      <td>True</td>\n",
       "      <td>2009</td>\n",
       "      <td>submersible</td>\n",
       "      <td>submersible</td>\n",
       "      <td>vwc</td>\n",
       "      <td>user-group</td>\n",
       "      <td>per bucket</td>\n",
       "      <td>salty</td>\n",
       "      <td>enough</td>\n",
       "      <td>other</td>\n",
       "      <td>unknown</td>\n",
       "      <td>communal standpipe multiple</td>\n",
       "      <td>functional</td>\n",
       "    </tr>\n",
       "  </tbody>\n",
       "</table>\n",
       "</div>"
      ],
      "text/plain": [
       "   amount_tsh               funder  gps_height  longitude   latitude  \\\n",
       "0      6000.0                Roman        1390  34.938093  -9.856322   \n",
       "1         0.0              Grumeti        1399  34.698766  -2.147466   \n",
       "2        25.0         Lottery Club         686  37.460664  -3.821329   \n",
       "3         0.0               Unicef         263  38.486161 -11.155298   \n",
       "5        20.0  Mkinga Distric Coun           0  39.172796  -4.765587   \n",
       "\n",
       "                     basin  region_code  district_code        lga  population  \\\n",
       "0               Lake Nyasa           11              5     Ludewa         109   \n",
       "1            Lake Victoria           20              2  Serengeti         280   \n",
       "2                  Pangani           21              4  Simanjiro         250   \n",
       "3  Ruvuma / Southern Coast           90             63   Nanyumbu          58   \n",
       "5                  Pangani            4              8     Mkinga           1   \n",
       "\n",
       "  scheme_management permit  construction_year extraction_type  \\\n",
       "0               VWC  False               1999         gravity   \n",
       "1             Other   True               2010         gravity   \n",
       "2               VWC   True               2009         gravity   \n",
       "3               VWC   True               1986     submersible   \n",
       "5               VWC   True               2009     submersible   \n",
       "\n",
       "  extraction_type_class management management_group payment_type  \\\n",
       "0               gravity        vwc       user-group     annually   \n",
       "1               gravity        wug       user-group    never pay   \n",
       "2               gravity        vwc       user-group   per bucket   \n",
       "3           submersible        vwc       user-group    never pay   \n",
       "5           submersible        vwc       user-group   per bucket   \n",
       "\n",
       "  quality_group quantity_group                source source_class  \\\n",
       "0          good         enough                spring  groundwater   \n",
       "1          good   insufficient  rainwater harvesting      surface   \n",
       "2          good         enough                   dam      surface   \n",
       "3          good            dry           machine dbh  groundwater   \n",
       "5         salty         enough                 other      unknown   \n",
       "\n",
       "               waterpoint_type       bi_target  \n",
       "0           communal standpipe      functional  \n",
       "1           communal standpipe      functional  \n",
       "2  communal standpipe multiple      functional  \n",
       "3  communal standpipe multiple  non functional  \n",
       "5  communal standpipe multiple      functional  "
      ]
     },
     "execution_count": 35,
     "metadata": {},
     "output_type": "execute_result"
    }
   ],
   "source": [
    "df_clean.head()"
   ]
  },
  {
   "cell_type": "code",
   "execution_count": 36,
   "metadata": {},
   "outputs": [
    {
     "data": {
      "text/plain": [
       "(51329, 12)"
      ]
     },
     "execution_count": 36,
     "metadata": {},
     "output_type": "execute_result"
    }
   ],
   "source": [
    "df_combo = df_clean[['region_code', 'scheme_management', 'quality_group', \n",
    "                    'quantity_group', 'source', 'extraction_type_class', 'waterpoint_type', 'bi_target']]\n",
    "df_num = df_clean[['amount_tsh', 'construction_year', 'latitude', 'longitude']]\n",
    "df_completed = df_num.join(df_combo, how='outer')\n",
    "df_completed.shape\n",
    "#(51329, 12)"
   ]
  },
  {
   "cell_type": "markdown",
   "metadata": {},
   "source": [
    "# Binary EDA"
   ]
  },
  {
   "cell_type": "code",
   "execution_count": 37,
   "metadata": {},
   "outputs": [],
   "source": [
    "df_clean.head()\n",
    "df_basin_pop = df_clean[['basin', 'population', 'bi_target']]\n",
    "#subset for just columns being used"
   ]
  },
  {
   "cell_type": "code",
   "execution_count": 38,
   "metadata": {},
   "outputs": [
    {
     "data": {
      "text/html": [
       "<div>\n",
       "<style scoped>\n",
       "    .dataframe tbody tr th:only-of-type {\n",
       "        vertical-align: middle;\n",
       "    }\n",
       "\n",
       "    .dataframe tbody tr th {\n",
       "        vertical-align: top;\n",
       "    }\n",
       "\n",
       "    .dataframe thead th {\n",
       "        text-align: right;\n",
       "    }\n",
       "</style>\n",
       "<table border=\"1\" class=\"dataframe\">\n",
       "  <thead>\n",
       "    <tr style=\"text-align: right;\">\n",
       "      <th></th>\n",
       "      <th>population</th>\n",
       "    </tr>\n",
       "    <tr>\n",
       "      <th>basin</th>\n",
       "      <th></th>\n",
       "    </tr>\n",
       "  </thead>\n",
       "  <tbody>\n",
       "    <tr>\n",
       "      <th>Internal</th>\n",
       "      <td>1066930</td>\n",
       "    </tr>\n",
       "    <tr>\n",
       "      <th>Lake Nyasa</th>\n",
       "      <td>294052</td>\n",
       "    </tr>\n",
       "    <tr>\n",
       "      <th>Lake Rukwa</th>\n",
       "      <td>394352</td>\n",
       "    </tr>\n",
       "    <tr>\n",
       "      <th>Lake Tanganyika</th>\n",
       "      <td>1674470</td>\n",
       "    </tr>\n",
       "    <tr>\n",
       "      <th>Lake Victoria</th>\n",
       "      <td>789684</td>\n",
       "    </tr>\n",
       "  </tbody>\n",
       "</table>\n",
       "</div>"
      ],
      "text/plain": [
       "                 population\n",
       "basin                      \n",
       "Internal            1066930\n",
       "Lake Nyasa           294052\n",
       "Lake Rukwa           394352\n",
       "Lake Tanganyika     1674470\n",
       "Lake Victoria        789684"
      ]
     },
     "execution_count": 38,
     "metadata": {},
     "output_type": "execute_result"
    }
   ],
   "source": [
    "df_pop_map = df_basin_pop.groupby(['basin']).sum()\n",
    "df_pop_map.head()\n",
    "#groupby to check the total population associated iwth each basin"
   ]
  },
  {
   "cell_type": "code",
   "execution_count": 39,
   "metadata": {},
   "outputs": [
    {
     "data": {
      "text/plain": [
       "Text(0.5, 1.0, 'Population Per Basin')"
      ]
     },
     "execution_count": 39,
     "metadata": {},
     "output_type": "execute_result"
    },
    {
     "data": {
      "image/png": "[encoded data removed]",
      "text/plain": [
       "<Figure size 1152x720 with 1 Axes>"
      ]
     },
     "metadata": {
      "needs_background": "light"
     },
     "output_type": "display_data"
    }
   ],
   "source": [
    "fig, ax = plt.subplots(figsize=(16,10))\n",
    "sns.barplot(x=df_pop_map.index, y=\"population\", data=df_pop_map, ax =ax).set_title('Population Per Basin')\n",
    "#plot of each basin and its population"
   ]
  },
  {
   "cell_type": "code",
   "execution_count": 40,
   "metadata": {},
   "outputs": [],
   "source": [
    "df_basin_target = df_basin_pop.drop('population', axis = 1)\n",
    "#drop population from data fram"
   ]
  },
  {
   "cell_type": "code",
   "execution_count": 41,
   "metadata": {},
   "outputs": [],
   "source": [
    "df_basin_target_map = df_basin_target.value_counts()\n",
    "#check value_counts() for how many functional or non funcitonal water points each basin has\n",
    "#df_basin_target.groupby([ 'basin']).sum()\n",
    "df_basin_target_map\n",
    "\n",
    "basin_name = ['Pangani', 'Lake Victoria', 'Lake Victoria', 'Rufiji', 'Internal', 'Pangani', 'Wami / Ruvu', 'Lake Tanganyika',\n",
    "              'Wami / Ruvu', 'Lake Tanganyika', 'Internal', 'Lake Nyasa', 'Ruvuma / Southern Coast',\n",
    "              'Rufiji', 'Ruvuma / Southern Coast', 'Lake Rukwa', 'Lake Nyasa', 'Lake Rukwa']\n",
    "\n",
    "target_list = ['functional', 'non functional', 'functional', 'functional', 'functional', 'non functional', 'functional'\n",
    "               , 'non functional', 'non functional', 'functional', 'non functional', 'functional', 'non functional', \n",
    "               'non functional', 'functional', 'non functional', 'non functional', 'functional']\n",
    "\n",
    "count_list = [5160, 4280, 4211, 4033, 3802, 3400, 3116, 3058, 2815, 2792, 2528, 2480, 2462, 2005, 1487, 1440, 1265, 995]\n",
    "\n",
    "dict = {'basin':basin_name, 'target': target_list, 'count': count_list}\n",
    "df_b_t_c = pd.DataFrame(dict)\n",
    "#use information from .value counts to constuct a new dataframe containing\n",
    "#the number of funcitonal or non functional water points for each basin"
   ]
  },
  {
   "cell_type": "code",
   "execution_count": 42,
   "metadata": {},
   "outputs": [
    {
     "data": {
      "text/html": [
       "<div>\n",
       "<style scoped>\n",
       "    .dataframe tbody tr th:only-of-type {\n",
       "        vertical-align: middle;\n",
       "    }\n",
       "\n",
       "    .dataframe tbody tr th {\n",
       "        vertical-align: top;\n",
       "    }\n",
       "\n",
       "    .dataframe thead th {\n",
       "        text-align: right;\n",
       "    }\n",
       "</style>\n",
       "<table border=\"1\" class=\"dataframe\">\n",
       "  <thead>\n",
       "    <tr style=\"text-align: right;\">\n",
       "      <th></th>\n",
       "      <th>basin</th>\n",
       "      <th>target</th>\n",
       "      <th>count</th>\n",
       "    </tr>\n",
       "  </thead>\n",
       "  <tbody>\n",
       "    <tr>\n",
       "      <th>0</th>\n",
       "      <td>Pangani</td>\n",
       "      <td>functional</td>\n",
       "      <td>5160</td>\n",
       "    </tr>\n",
       "    <tr>\n",
       "      <th>1</th>\n",
       "      <td>Lake Victoria</td>\n",
       "      <td>non functional</td>\n",
       "      <td>4280</td>\n",
       "    </tr>\n",
       "    <tr>\n",
       "      <th>2</th>\n",
       "      <td>Lake Victoria</td>\n",
       "      <td>functional</td>\n",
       "      <td>4211</td>\n",
       "    </tr>\n",
       "    <tr>\n",
       "      <th>3</th>\n",
       "      <td>Rufiji</td>\n",
       "      <td>functional</td>\n",
       "      <td>4033</td>\n",
       "    </tr>\n",
       "    <tr>\n",
       "      <th>4</th>\n",
       "      <td>Internal</td>\n",
       "      <td>functional</td>\n",
       "      <td>3802</td>\n",
       "    </tr>\n",
       "  </tbody>\n",
       "</table>\n",
       "</div>"
      ],
      "text/plain": [
       "           basin          target  count\n",
       "0        Pangani      functional   5160\n",
       "1  Lake Victoria  non functional   4280\n",
       "2  Lake Victoria      functional   4211\n",
       "3         Rufiji      functional   4033\n",
       "4       Internal      functional   3802"
      ]
     },
     "execution_count": 42,
     "metadata": {},
     "output_type": "execute_result"
    }
   ],
   "source": [
    "df_b_t_c.head()"
   ]
  },
  {
   "cell_type": "code",
   "execution_count": 43,
   "metadata": {},
   "outputs": [
    {
     "data": {
      "text/plain": [
       "Text(0.5, 1.0, 'Functionaility of Waterpoints by Basin')"
      ]
     },
     "execution_count": 43,
     "metadata": {},
     "output_type": "execute_result"
    },
    {
     "data": {
      "image/png": "[encoded data removed]",
      "text/plain": [
       "<Figure size 1152x720 with 1 Axes>"
      ]
     },
     "metadata": {
      "needs_background": "light"
     },
     "output_type": "display_data"
    }
   ],
   "source": [
    "fig, ax = plt.subplots(figsize=(16,10))\n",
    "sns.barplot(x=\"basin\", y=\"count\", hue=\"target\", data=df_b_t_c, ax = ax).set_title('Functionaility of Waterpoints by Basin')\n",
    "#plot of how many funcitonal and non functional water points each absin has"
   ]
  },
  {
   "cell_type": "markdown",
   "metadata": {},
   "source": [
    "# Folium EDA"
   ]
  },
  {
   "cell_type": "code",
   "execution_count": 44,
   "metadata": {},
   "outputs": [],
   "source": [
    "import folium"
   ]
  },
  {
   "cell_type": "code",
   "execution_count": 45,
   "metadata": {},
   "outputs": [
    {
     "data": {
      "text/plain": [
       "Pangani                    8560\n",
       "Lake Victoria              8491\n",
       "Internal                   6330\n",
       "Rufiji                     6038\n",
       "Wami / Ruvu                5931\n",
       "Lake Tanganyika            5850\n",
       "Ruvuma / Southern Coast    3949\n",
       "Lake Nyasa                 3745\n",
       "Lake Rukwa                 2435\n",
       "Name: basin, dtype: int64"
      ]
     },
     "execution_count": 45,
     "metadata": {},
     "output_type": "execute_result"
    }
   ],
   "source": [
    "df_clean.basin.value_counts()\n",
    "#cheack how many water points each basin has"
   ]
  },
  {
   "cell_type": "code",
   "execution_count": 46,
   "metadata": {},
   "outputs": [
    {
     "data": {
      "text/plain": [
       "functional        28076\n",
       "non functional    23253\n",
       "Name: bi_target, dtype: int64"
      ]
     },
     "execution_count": 46,
     "metadata": {},
     "output_type": "execute_result"
    }
   ],
   "source": [
    "df_clean.bi_target.value_counts()\n",
    "#check target distribution"
   ]
  },
  {
   "cell_type": "code",
   "execution_count": 47,
   "metadata": {},
   "outputs": [],
   "source": [
    "def namer(name):\n",
    "    \"\"\"takes in a name as a string and returns folium formatted name\"\"\"\n",
    "    named = \"<i>\" + name +\"</i>\"\n",
    "    return named"
   ]
  },
  {
   "cell_type": "code",
   "execution_count": 48,
   "metadata": {},
   "outputs": [],
   "source": [
    "def basin_mapper():\n",
    "    \n",
    "    \"\"\"Takes no argument and plots all 8 basins on folium map\"\"\"\n",
    "    \n",
    "    b_map = folium.Map(location=[-6.1630, 35.7516], zoom_start=6, tiles=\"Stamen Terrain\")\n",
    "    #plots initial space for general area, using tanzania's coordinates\n",
    "    \n",
    "    basins = ['Pangani', 'Lake Victoria', 'Lake Nyasa', 'Lake Rukwa', 'Lake Tanganyika',\n",
    "              'Rufiji', 'Wami / Ruvu', 'Ruvuma / Southern Coast']\n",
    "    \n",
    "    long_lat = [[-5.436390, 38.978951], [-0.755775, 33.438354], [-11.6707, 34.6857], [-7.029620, 31.343060], \n",
    "                [-6.2556, 29.5108], [-7.773888, 39.363889], [-6.11667, 38.81667], [-10.474445, 34.8888]]\n",
    "    \n",
    "    for i in range(0, len(basins)):\n",
    "        folium.Marker(long_lat[i], namer(basins[i]), icon=folium.Icon(color=\"purple\"), tooltip=tooltip).add_to(b_map)\n",
    "        #plots a purple marker for each basin\n",
    "    \n",
    "    return b_map"
   ]
  },
  {
   "cell_type": "code",
   "execution_count": 49,
   "metadata": {},
   "outputs": [],
   "source": [
    "def basin_split(bname, df):\n",
    "    \"\"\"takes the name of a basin as a string and the cleaned df. \n",
    "    Returns pair as a list iwth basin name and basin coords.\n",
    "    Returns coords_target as a nested list of waterpoint coords and their functionality tag\n",
    "    \"\"\"\n",
    "    tooltip = \"Click me!\"\n",
    "    basins = ['Pangani', 'Lake Victoria', 'Lake Nyasa', 'Lake Rukwa', 'Lake Tanganyika',\n",
    "          'Rufiji', 'Wami / Ruvu', 'Ruvuma / Southern Coast']\n",
    "    \n",
    "    long_lat = [[-5.436390, 38.978951], [-0.755775, 33.438354], [-11.6707, 34.6857], [-7.029620, 31.343060], \n",
    "                [-6.2556, 29.5108], [-7.773888, 39.363889], [-6.11667, 38.81667], [-10.474445, 34.8888]]\n",
    "    \n",
    "    for name in range(0, len(basins)):\n",
    "        if basins[name] == bname:\n",
    "            pair = [bname, long_lat[name]]\n",
    "            #gets the coordinates for the specifed basin only\n",
    "    \n",
    "    basin_df = df[['latitude', 'longitude', 'basin', 'bi_target']]\n",
    "\n",
    "    df_basin = basin_df.loc[basin_df['basin'] == bname]\n",
    "    \n",
    "    target = df_basin.bi_target.head(200).tolist()\n",
    "    long = df_basin.longitude.head(200).tolist()\n",
    "    lat = df_basin.latitude.head(200).tolist()\n",
    "    \n",
    "    coords = [[la,lo] for la,lo in zip(lat, long)]\n",
    "    #list comp to create lists of water point coordinates, [latitude, longitude]\n",
    "    coords_target = [[t,c] for t,c in zip(target, coords)]\n",
    "    #nested list containing [functionality, [latitude, longitude]]\n",
    "    \n",
    "    #print(coords[:5])\n",
    "\n",
    "    return pair, coords_target"
   ]
  },
  {
   "cell_type": "code",
   "execution_count": 50,
   "metadata": {},
   "outputs": [],
   "source": [
    "def map_build(basin):\n",
    "    \"\"\"takes in one parameter that consists of a list with a basin name and its coordinates\n",
    "    and the coordinates of every water point connected to that basin. Creates a map with a\n",
    "    marker for the basin and marlers for x amount water points. Builds maps ofindividual basins.\"\"\"\n",
    "    \n",
    "    basin_name = basin[0][0]\n",
    "    basin_coords = basin[0][1]\n",
    "    coords = basin[1]\n",
    "    \n",
    "    b = folium.Map(location= basin_coords, zoom_start=8, tiles=\"Stamen Terrain\")\n",
    "    #plots initial space for general area, using specified basin's coordinates\n",
    "    \n",
    "    tooltip = \"Click me!\"\n",
    "    \n",
    "    for coord in coords:\n",
    "        if coord[0] == 'functional':\n",
    "            folium.Marker(coord[1], \"<i>str(i)</i>\", icon=folium.Icon(color=\"green\"), tooltip=tooltip).add_to(b)\n",
    "        else:\n",
    "            folium.Marker(coord[1], \"<i>str(i)</i>\", icon=folium.Icon(color=\"red\"), tooltip=tooltip).add_to(b)\n",
    "            #plots green markers for functional basin and red markers for non functional basins\n",
    "    \n",
    "    folium.Marker(basin_coords, namer(basin_name), tooltip=tooltip, icon=folium.Icon(color=\"purple\")).add_to(b)\n",
    "    #plots purple ,markers for specified basin\n",
    "        \n",
    "    return b"
   ]
  },
  {
   "cell_type": "code",
   "execution_count": 51,
   "metadata": {},
   "outputs": [],
   "source": [
    "basins = ['Pangani', 'Lake Victoria', 'Lake Nyasa', 'Lake Rukwa', 'Lake Tanganyika',\n",
    "          'Rufiji', 'Wami / Ruvu', 'Ruvuma / Southern Coast']\n",
    "# to use functioon map_build, a basin name must be picked and passed\n",
    "#the return value should be saved in a variable and that variable\n",
    "#must be run in its own cell"
   ]
  },
  {
   "cell_type": "code",
   "execution_count": 52,
   "metadata": {},
   "outputs": [],
   "source": [
    "bname = basins[0]\n",
    "Pangani  = map_build(basin_split(bname, df_clean))"
   ]
  },
  {
   "cell_type": "code",
   "execution_count": 53,
   "metadata": {},
   "outputs": [],
   "source": [
    "bname_list = bname = basins[1]\n",
    "Lake_Victoria  = map_build(basin_split(bname, df_clean))"
   ]
  },
  {
   "cell_type": "code",
   "execution_count": 54,
   "metadata": {},
   "outputs": [],
   "source": [
    "bname_list = bname = basins[2]\n",
    "Lake_Nyasa  = map_build(basin_split(bname, df_clean))"
   ]
  },
  {
   "cell_type": "code",
   "execution_count": 55,
   "metadata": {},
   "outputs": [],
   "source": [
    "bname_list = bname = basins[3]\n",
    "Lake_Rukwa = map_build(basin_split(bname, df_clean))"
   ]
  },
  {
   "cell_type": "code",
   "execution_count": 56,
   "metadata": {},
   "outputs": [],
   "source": [
    "bname_list = bname = basins[4]\n",
    "Lake_Tanganyika = map_build(basin_split(bname, df_clean))"
   ]
  },
  {
   "cell_type": "code",
   "execution_count": 57,
   "metadata": {},
   "outputs": [],
   "source": [
    "bname_list = bname = basins[5]\n",
    "Rufigi = map_build(basin_split(bname, df_clean))"
   ]
  },
  {
   "cell_type": "code",
   "execution_count": 58,
   "metadata": {},
   "outputs": [],
   "source": [
    "bname_list = bname = basins[6]\n",
    "wami_ruvu  = map_build(basin_split(bname, df_clean))"
   ]
  },
  {
   "cell_type": "code",
   "execution_count": 59,
   "metadata": {},
   "outputs": [],
   "source": [
    "bname_list = bname = basins[7]\n",
    "Ruvuma  = map_build(basin_split(bname, df_clean))"
   ]
  },
  {
   "cell_type": "code",
   "execution_count": 60,
   "metadata": {},
   "outputs": [],
   "source": [
    "def Full_map(df):\n",
    "    \"\"\"Takes in the cleaned data frame and plots all eight basins and however many water points are specified\"\"\"\n",
    "    \n",
    "    basins = ['Pangani', 'Lake Victoria', 'Lake Nyasa', 'Lake Rukwa', 'Lake Tanganyika',\n",
    "          'Rufiji', 'Wami / Ruvu', 'Ruvuma / Southern Coast']\n",
    "    \n",
    "    long_lat = [[-5.436390, 38.978951], [-0.755775, 33.438354], [-11.6707, 34.6857], [-7.029620, 31.343060], \n",
    "                [-6.2556, 29.5108], [-7.773888, 39.363889], [-6.11667, 38.81667], [-10.474445, 34.8888]]\n",
    "    \n",
    "    b = folium.Map(location= [-6.1630, 35.7516], zoom_start=6, tiles=\"Stamen Terrain\")\n",
    "    #plots initial space for general area, using tanzania's coordinates\n",
    "    \n",
    "    tooltip = \"Click me!\"\n",
    "    \n",
    "    for i in range(0, len(basins)):\n",
    "        folium.Marker(long_lat[i], namer(basins[i]), tooltip=tooltip, icon=folium.Icon(color=\"purple\")).add_to(b)\n",
    "        #plots all 8 basins as purple markers\n",
    "\n",
    "        \n",
    "    basin_df = df[['latitude', 'longitude', 'basin', 'bi_target']]\n",
    "\n",
    "    \n",
    "    target = basin_df.bi_target.head(400).tolist()\n",
    "    long = basin_df.longitude.head(400).tolist()\n",
    "    lat = basin_df.latitude.head(400).tolist()\n",
    "    #use of .head() to specify how many waterpoints to ma\n",
    "    \n",
    "            \n",
    "    for k in range(0, len(target)):\n",
    "        if target[i] == 'functional':\n",
    "            #print('here')\n",
    "            folium.Marker([lat[i],long[i]], \"<i>str(i)</i>\", icon=folium.Icon(color=\"green\"), tooltip=tooltip).add_to(b)\n",
    "            #print(trip[0])\n",
    "        else:\n",
    "            print('here')\n",
    "            folium.Marker([lat[i],long[i]], \"<i>str(i)</i>\", icon=folium.Icon(color=\"red\"), tooltip=tooltip).add_to(b)\n",
    "            #plots green markers for functional basin and red markers for non functional basins\n",
    "        \n",
    "    return b"
   ]
  },
  {
   "cell_type": "markdown",
   "metadata": {},
   "source": [
    "# Svitlana Data"
   ]
  },
  {
   "cell_type": "code",
   "execution_count": 61,
   "metadata": {},
   "outputs": [
    {
     "data": {
      "text/html": [
       "<div>\n",
       "<style scoped>\n",
       "    .dataframe tbody tr th:only-of-type {\n",
       "        vertical-align: middle;\n",
       "    }\n",
       "\n",
       "    .dataframe tbody tr th {\n",
       "        vertical-align: top;\n",
       "    }\n",
       "\n",
       "    .dataframe thead th {\n",
       "        text-align: right;\n",
       "    }\n",
       "</style>\n",
       "<table border=\"1\" class=\"dataframe\">\n",
       "  <thead>\n",
       "    <tr style=\"text-align: right;\">\n",
       "      <th></th>\n",
       "      <th>amount_tsh</th>\n",
       "      <th>funder</th>\n",
       "      <th>gps_height</th>\n",
       "      <th>longitude</th>\n",
       "      <th>latitude</th>\n",
       "      <th>basin</th>\n",
       "      <th>region_code</th>\n",
       "      <th>district_code</th>\n",
       "      <th>lga</th>\n",
       "      <th>population</th>\n",
       "      <th>scheme_management</th>\n",
       "      <th>permit</th>\n",
       "      <th>construction_year</th>\n",
       "      <th>extraction_type</th>\n",
       "      <th>extraction_type_class</th>\n",
       "      <th>management</th>\n",
       "      <th>management_group</th>\n",
       "      <th>payment_type</th>\n",
       "      <th>quality_group</th>\n",
       "      <th>quantity_group</th>\n",
       "      <th>source</th>\n",
       "      <th>source_class</th>\n",
       "      <th>waterpoint_type</th>\n",
       "      <th>bi_target</th>\n",
       "    </tr>\n",
       "  </thead>\n",
       "  <tbody>\n",
       "    <tr>\n",
       "      <th>0</th>\n",
       "      <td>6000.0</td>\n",
       "      <td>Roman</td>\n",
       "      <td>1390</td>\n",
       "      <td>34.938093</td>\n",
       "      <td>-9.856322</td>\n",
       "      <td>Lake Nyasa</td>\n",
       "      <td>11</td>\n",
       "      <td>5</td>\n",
       "      <td>Ludewa</td>\n",
       "      <td>109</td>\n",
       "      <td>VWC</td>\n",
       "      <td>False</td>\n",
       "      <td>1999</td>\n",
       "      <td>gravity</td>\n",
       "      <td>gravity</td>\n",
       "      <td>vwc</td>\n",
       "      <td>user-group</td>\n",
       "      <td>annually</td>\n",
       "      <td>good</td>\n",
       "      <td>enough</td>\n",
       "      <td>spring</td>\n",
       "      <td>groundwater</td>\n",
       "      <td>communal standpipe</td>\n",
       "      <td>functional</td>\n",
       "    </tr>\n",
       "    <tr>\n",
       "      <th>1</th>\n",
       "      <td>0.0</td>\n",
       "      <td>Grumeti</td>\n",
       "      <td>1399</td>\n",
       "      <td>34.698766</td>\n",
       "      <td>-2.147466</td>\n",
       "      <td>Lake Victoria</td>\n",
       "      <td>20</td>\n",
       "      <td>2</td>\n",
       "      <td>Serengeti</td>\n",
       "      <td>280</td>\n",
       "      <td>Other</td>\n",
       "      <td>True</td>\n",
       "      <td>2010</td>\n",
       "      <td>gravity</td>\n",
       "      <td>gravity</td>\n",
       "      <td>wug</td>\n",
       "      <td>user-group</td>\n",
       "      <td>never pay</td>\n",
       "      <td>good</td>\n",
       "      <td>insufficient</td>\n",
       "      <td>rainwater harvesting</td>\n",
       "      <td>surface</td>\n",
       "      <td>communal standpipe</td>\n",
       "      <td>functional</td>\n",
       "    </tr>\n",
       "    <tr>\n",
       "      <th>2</th>\n",
       "      <td>25.0</td>\n",
       "      <td>Lottery Club</td>\n",
       "      <td>686</td>\n",
       "      <td>37.460664</td>\n",
       "      <td>-3.821329</td>\n",
       "      <td>Pangani</td>\n",
       "      <td>21</td>\n",
       "      <td>4</td>\n",
       "      <td>Simanjiro</td>\n",
       "      <td>250</td>\n",
       "      <td>VWC</td>\n",
       "      <td>True</td>\n",
       "      <td>2009</td>\n",
       "      <td>gravity</td>\n",
       "      <td>gravity</td>\n",
       "      <td>vwc</td>\n",
       "      <td>user-group</td>\n",
       "      <td>per bucket</td>\n",
       "      <td>good</td>\n",
       "      <td>enough</td>\n",
       "      <td>dam</td>\n",
       "      <td>surface</td>\n",
       "      <td>communal standpipe multiple</td>\n",
       "      <td>functional</td>\n",
       "    </tr>\n",
       "    <tr>\n",
       "      <th>3</th>\n",
       "      <td>0.0</td>\n",
       "      <td>Unicef</td>\n",
       "      <td>263</td>\n",
       "      <td>38.486161</td>\n",
       "      <td>-11.155298</td>\n",
       "      <td>Ruvuma / Southern Coast</td>\n",
       "      <td>90</td>\n",
       "      <td>63</td>\n",
       "      <td>Nanyumbu</td>\n",
       "      <td>58</td>\n",
       "      <td>VWC</td>\n",
       "      <td>True</td>\n",
       "      <td>1986</td>\n",
       "      <td>submersible</td>\n",
       "      <td>submersible</td>\n",
       "      <td>vwc</td>\n",
       "      <td>user-group</td>\n",
       "      <td>never pay</td>\n",
       "      <td>good</td>\n",
       "      <td>dry</td>\n",
       "      <td>machine dbh</td>\n",
       "      <td>groundwater</td>\n",
       "      <td>communal standpipe multiple</td>\n",
       "      <td>non functional</td>\n",
       "    </tr>\n",
       "    <tr>\n",
       "      <th>5</th>\n",
       "      <td>20.0</td>\n",
       "      <td>Mkinga Distric Coun</td>\n",
       "      <td>0</td>\n",
       "      <td>39.172796</td>\n",
       "      <td>-4.765587</td>\n",
       "      <td>Pangani</td>\n",
       "      <td>4</td>\n",
       "      <td>8</td>\n",
       "      <td>Mkinga</td>\n",
       "      <td>1</td>\n",
       "      <td>VWC</td>\n",
       "      <td>True</td>\n",
       "      <td>2009</td>\n",
       "      <td>submersible</td>\n",
       "      <td>submersible</td>\n",
       "      <td>vwc</td>\n",
       "      <td>user-group</td>\n",
       "      <td>per bucket</td>\n",
       "      <td>salty</td>\n",
       "      <td>enough</td>\n",
       "      <td>other</td>\n",
       "      <td>unknown</td>\n",
       "      <td>communal standpipe multiple</td>\n",
       "      <td>functional</td>\n",
       "    </tr>\n",
       "    <tr>\n",
       "      <th>...</th>\n",
       "      <td>...</td>\n",
       "      <td>...</td>\n",
       "      <td>...</td>\n",
       "      <td>...</td>\n",
       "      <td>...</td>\n",
       "      <td>...</td>\n",
       "      <td>...</td>\n",
       "      <td>...</td>\n",
       "      <td>...</td>\n",
       "      <td>...</td>\n",
       "      <td>...</td>\n",
       "      <td>...</td>\n",
       "      <td>...</td>\n",
       "      <td>...</td>\n",
       "      <td>...</td>\n",
       "      <td>...</td>\n",
       "      <td>...</td>\n",
       "      <td>...</td>\n",
       "      <td>...</td>\n",
       "      <td>...</td>\n",
       "      <td>...</td>\n",
       "      <td>...</td>\n",
       "      <td>...</td>\n",
       "      <td>...</td>\n",
       "    </tr>\n",
       "    <tr>\n",
       "      <th>59394</th>\n",
       "      <td>500.0</td>\n",
       "      <td>World Bank</td>\n",
       "      <td>351</td>\n",
       "      <td>37.634053</td>\n",
       "      <td>-6.124830</td>\n",
       "      <td>Wami / Ruvu</td>\n",
       "      <td>5</td>\n",
       "      <td>6</td>\n",
       "      <td>Mvomero</td>\n",
       "      <td>89</td>\n",
       "      <td>VWC</td>\n",
       "      <td>True</td>\n",
       "      <td>2007</td>\n",
       "      <td>submersible</td>\n",
       "      <td>submersible</td>\n",
       "      <td>vwc</td>\n",
       "      <td>user-group</td>\n",
       "      <td>monthly</td>\n",
       "      <td>good</td>\n",
       "      <td>enough</td>\n",
       "      <td>machine dbh</td>\n",
       "      <td>groundwater</td>\n",
       "      <td>communal standpipe</td>\n",
       "      <td>non functional</td>\n",
       "    </tr>\n",
       "    <tr>\n",
       "      <th>59395</th>\n",
       "      <td>10.0</td>\n",
       "      <td>Germany Republi</td>\n",
       "      <td>1210</td>\n",
       "      <td>37.169807</td>\n",
       "      <td>-3.253847</td>\n",
       "      <td>Pangani</td>\n",
       "      <td>3</td>\n",
       "      <td>5</td>\n",
       "      <td>Hai</td>\n",
       "      <td>125</td>\n",
       "      <td>Water Board</td>\n",
       "      <td>True</td>\n",
       "      <td>1999</td>\n",
       "      <td>gravity</td>\n",
       "      <td>gravity</td>\n",
       "      <td>water board</td>\n",
       "      <td>user-group</td>\n",
       "      <td>per bucket</td>\n",
       "      <td>good</td>\n",
       "      <td>enough</td>\n",
       "      <td>spring</td>\n",
       "      <td>groundwater</td>\n",
       "      <td>communal standpipe</td>\n",
       "      <td>functional</td>\n",
       "    </tr>\n",
       "    <tr>\n",
       "      <th>59396</th>\n",
       "      <td>4700.0</td>\n",
       "      <td>Cefa-njombe</td>\n",
       "      <td>1212</td>\n",
       "      <td>35.249991</td>\n",
       "      <td>-9.070629</td>\n",
       "      <td>Rufiji</td>\n",
       "      <td>11</td>\n",
       "      <td>4</td>\n",
       "      <td>Njombe</td>\n",
       "      <td>56</td>\n",
       "      <td>VWC</td>\n",
       "      <td>True</td>\n",
       "      <td>1996</td>\n",
       "      <td>gravity</td>\n",
       "      <td>gravity</td>\n",
       "      <td>vwc</td>\n",
       "      <td>user-group</td>\n",
       "      <td>annually</td>\n",
       "      <td>good</td>\n",
       "      <td>enough</td>\n",
       "      <td>river</td>\n",
       "      <td>surface</td>\n",
       "      <td>communal standpipe</td>\n",
       "      <td>functional</td>\n",
       "    </tr>\n",
       "    <tr>\n",
       "      <th>59398</th>\n",
       "      <td>0.0</td>\n",
       "      <td>Malec</td>\n",
       "      <td>0</td>\n",
       "      <td>35.861315</td>\n",
       "      <td>-6.378573</td>\n",
       "      <td>Rufiji</td>\n",
       "      <td>1</td>\n",
       "      <td>4</td>\n",
       "      <td>Chamwino</td>\n",
       "      <td>0</td>\n",
       "      <td>VWC</td>\n",
       "      <td>True</td>\n",
       "      <td>0</td>\n",
       "      <td>nira/tanira</td>\n",
       "      <td>handpump</td>\n",
       "      <td>vwc</td>\n",
       "      <td>user-group</td>\n",
       "      <td>never pay</td>\n",
       "      <td>good</td>\n",
       "      <td>insufficient</td>\n",
       "      <td>shallow well</td>\n",
       "      <td>groundwater</td>\n",
       "      <td>hand pump</td>\n",
       "      <td>functional</td>\n",
       "    </tr>\n",
       "    <tr>\n",
       "      <th>59399</th>\n",
       "      <td>0.0</td>\n",
       "      <td>World Bank</td>\n",
       "      <td>191</td>\n",
       "      <td>38.104048</td>\n",
       "      <td>-6.747464</td>\n",
       "      <td>Wami / Ruvu</td>\n",
       "      <td>5</td>\n",
       "      <td>2</td>\n",
       "      <td>Morogoro Rural</td>\n",
       "      <td>150</td>\n",
       "      <td>VWC</td>\n",
       "      <td>True</td>\n",
       "      <td>2002</td>\n",
       "      <td>nira/tanira</td>\n",
       "      <td>handpump</td>\n",
       "      <td>vwc</td>\n",
       "      <td>user-group</td>\n",
       "      <td>on failure</td>\n",
       "      <td>salty</td>\n",
       "      <td>enough</td>\n",
       "      <td>shallow well</td>\n",
       "      <td>groundwater</td>\n",
       "      <td>hand pump</td>\n",
       "      <td>functional</td>\n",
       "    </tr>\n",
       "  </tbody>\n",
       "</table>\n",
       "<p>51329 rows × 24 columns</p>\n",
       "</div>"
      ],
      "text/plain": [
       "       amount_tsh               funder  gps_height  longitude   latitude  \\\n",
       "0          6000.0                Roman        1390  34.938093  -9.856322   \n",
       "1             0.0              Grumeti        1399  34.698766  -2.147466   \n",
       "2            25.0         Lottery Club         686  37.460664  -3.821329   \n",
       "3             0.0               Unicef         263  38.486161 -11.155298   \n",
       "5            20.0  Mkinga Distric Coun           0  39.172796  -4.765587   \n",
       "...           ...                  ...         ...        ...        ...   \n",
       "59394       500.0           World Bank         351  37.634053  -6.124830   \n",
       "59395        10.0      Germany Republi        1210  37.169807  -3.253847   \n",
       "59396      4700.0          Cefa-njombe        1212  35.249991  -9.070629   \n",
       "59398         0.0                Malec           0  35.861315  -6.378573   \n",
       "59399         0.0           World Bank         191  38.104048  -6.747464   \n",
       "\n",
       "                         basin  region_code  district_code             lga  \\\n",
       "0                   Lake Nyasa           11              5          Ludewa   \n",
       "1                Lake Victoria           20              2       Serengeti   \n",
       "2                      Pangani           21              4       Simanjiro   \n",
       "3      Ruvuma / Southern Coast           90             63        Nanyumbu   \n",
       "5                      Pangani            4              8          Mkinga   \n",
       "...                        ...          ...            ...             ...   \n",
       "59394              Wami / Ruvu            5              6         Mvomero   \n",
       "59395                  Pangani            3              5             Hai   \n",
       "59396                   Rufiji           11              4          Njombe   \n",
       "59398                   Rufiji            1              4        Chamwino   \n",
       "59399              Wami / Ruvu            5              2  Morogoro Rural   \n",
       "\n",
       "       population scheme_management permit  construction_year extraction_type  \\\n",
       "0             109               VWC  False               1999         gravity   \n",
       "1             280             Other   True               2010         gravity   \n",
       "2             250               VWC   True               2009         gravity   \n",
       "3              58               VWC   True               1986     submersible   \n",
       "5               1               VWC   True               2009     submersible   \n",
       "...           ...               ...    ...                ...             ...   \n",
       "59394          89               VWC   True               2007     submersible   \n",
       "59395         125       Water Board   True               1999         gravity   \n",
       "59396          56               VWC   True               1996         gravity   \n",
       "59398           0               VWC   True                  0     nira/tanira   \n",
       "59399         150               VWC   True               2002     nira/tanira   \n",
       "\n",
       "      extraction_type_class   management management_group payment_type  \\\n",
       "0                   gravity          vwc       user-group     annually   \n",
       "1                   gravity          wug       user-group    never pay   \n",
       "2                   gravity          vwc       user-group   per bucket   \n",
       "3               submersible          vwc       user-group    never pay   \n",
       "5               submersible          vwc       user-group   per bucket   \n",
       "...                     ...          ...              ...          ...   \n",
       "59394           submersible          vwc       user-group      monthly   \n",
       "59395               gravity  water board       user-group   per bucket   \n",
       "59396               gravity          vwc       user-group     annually   \n",
       "59398              handpump          vwc       user-group    never pay   \n",
       "59399              handpump          vwc       user-group   on failure   \n",
       "\n",
       "      quality_group quantity_group                source source_class  \\\n",
       "0              good         enough                spring  groundwater   \n",
       "1              good   insufficient  rainwater harvesting      surface   \n",
       "2              good         enough                   dam      surface   \n",
       "3              good            dry           machine dbh  groundwater   \n",
       "5             salty         enough                 other      unknown   \n",
       "...             ...            ...                   ...          ...   \n",
       "59394          good         enough           machine dbh  groundwater   \n",
       "59395          good         enough                spring  groundwater   \n",
       "59396          good         enough                 river      surface   \n",
       "59398          good   insufficient          shallow well  groundwater   \n",
       "59399         salty         enough          shallow well  groundwater   \n",
       "\n",
       "                   waterpoint_type       bi_target  \n",
       "0               communal standpipe      functional  \n",
       "1               communal standpipe      functional  \n",
       "2      communal standpipe multiple      functional  \n",
       "3      communal standpipe multiple  non functional  \n",
       "5      communal standpipe multiple      functional  \n",
       "...                            ...             ...  \n",
       "59394           communal standpipe  non functional  \n",
       "59395           communal standpipe      functional  \n",
       "59396           communal standpipe      functional  \n",
       "59398                    hand pump      functional  \n",
       "59399                    hand pump      functional  \n",
       "\n",
       "[51329 rows x 24 columns]"
      ]
     },
     "execution_count": 61,
     "metadata": {},
     "output_type": "execute_result"
    }
   ],
   "source": [
    "df_clean"
   ]
  },
  {
   "cell_type": "code",
   "execution_count": 62,
   "metadata": {},
   "outputs": [],
   "source": [
    "final_columns_list = ['amount_tsh', 'longitude', 'latitude', 'construction_year', 'region_code', 'scheme_management', 'quality_group', 'quantity_group', 'source', 'extraction_type_class', 'waterpoint_type']\n",
    "\n",
    "numericals = ['amount_tsh', 'longitude', 'latitude', 'construction_year']\n",
    "categoricals = ['region_code', 'scheme_management', 'quality_group', 'quantity_group', 'source', 'extraction_type_class', 'waterpoint_type']\n",
    "\n",
    "conditions = [df_clean['bi_target'] == 'functional', df_clean['bi_target'] == 'non functional']\n",
    "choices = [0, 1]\n",
    "\n",
    "df_clean['status_no'] = np.select(conditions, choices)\n",
    "df_clean.drop('bi_target', axis = 1, inplace = True)"
   ]
  },
  {
   "cell_type": "code",
   "execution_count": 63,
   "metadata": {},
   "outputs": [],
   "source": [
    "X = df_clean[final_columns_list]\n",
    "y = df_clean['status_no']\n",
    "\n",
    "X_train, X_test, y_train, y_test = train_test_split(X, y, test_size = .2, stratify = y, random_state = 42)"
   ]
  },
  {
   "cell_type": "markdown",
   "metadata": {},
   "source": [
    "### Transformation on the Train Set"
   ]
  },
  {
   "cell_type": "code",
   "execution_count": 64,
   "metadata": {},
   "outputs": [],
   "source": [
    "class CustomTransformer(BaseEstimator, TransformerMixin):\n",
    "    \n",
    "    def __init__(self):\n",
    "        \n",
    "        self.column_trans = None\n",
    "    \n",
    "    def fit(self, X_t, y_t = None):\n",
    "        X_ = X_t.copy()\n",
    "        column_transformer = ColumnTransformer(transformers = [('imputer', SimpleImputer(missing_values = 0.0, strategy = 'most_frequent'), ['construction_year']),                     \n",
    "                                                      ('ohe', OneHotEncoder(sparse = False, handle_unknown = 'ignore'), categoricals)],\n",
    " \n",
    "                                                      n_jobs = -1)\n",
    "        column_transformer = column_transformer.fit(X_)\n",
    "        self.column_trans = column_transformer\n",
    "        return column_transformer\n",
    "    \n",
    "    def transform(self, X, y = None):\n",
    "\n",
    "        X_ = self.column_trans.transform(X)\n",
    "        return X_\n",
    "        "
   ]
  },
  {
   "cell_type": "code",
   "execution_count": 65,
   "metadata": {},
   "outputs": [],
   "source": [
    "logreg_pipe = Pipeline(steps =[('transform', CustomTransformer()),('scaler', StandardScaler()),('logreg', LogisticRegression())])\n",
    "bernoulli_pipe = Pipeline(steps =[('transform', CustomTransformer()),('scaler', StandardScaler()),('bern', BernoulliNB())])\n",
    "knn_pipe = Pipeline(steps =[('transform', CustomTransformer()),('scaler', StandardScaler()),('knn', KNeighborsClassifier())])\n",
    "tree_pipe = Pipeline(steps =[('transform', CustomTransformer()),('scaler', StandardScaler()),('tree', DecisionTreeClassifier())])\n",
    "forest_pipe = Pipeline(steps =[('transform', CustomTransformer()),('scaler', StandardScaler()),('forest', RandomForestClassifier())])\n",
    "xgb_pipe = Pipeline(steps =[('transform', CustomTransformer()),('scaler', StandardScaler()),('xgb', XGBClassifier())])\n"
   ]
  },
  {
   "cell_type": "markdown",
   "metadata": {},
   "source": [
    "### GridSearchCV parameters"
   ]
  },
  {
   "cell_type": "code",
   "execution_count": 66,
   "metadata": {},
   "outputs": [],
   "source": [
    "logreg_params = {\n",
    "   'logreg__C':[.1, .75],\n",
    "   'logreg__max_iter':[500],\n",
    "   'logreg__solver':['lbfgs', 'liblinear']\n",
    "            }\n",
    "                       \n",
    "bernoulli_params = {'bern__alpha': list(np.linspace(.1, 1, 10))}\n",
    "\n",
    "knn_params = {\n",
    "    'knn__n_neighbors': [3, 7, 12], \n",
    "    'knn__weights':['uniform', 'distance'], \n",
    "    'knn__p':[1, 2, 3, 4]\n",
    "             }\n",
    "\n",
    "tree_params = {\n",
    "    'tree__criterion':['gini', 'entropy'],  \n",
    "    'tree__max_depth': [10, 25, 40, 55],\n",
    "    'tree__min_samples_leaf':[1, 2, 3], \n",
    "    'tree__max_features': ['auto', 'sqrt']\n",
    "              } \n",
    "forest_params = {\n",
    "    'forest__n_estimators':[100, 125],\n",
    "    'forest__criterion':['gini', 'entropy'],\n",
    "    'forest__max_depth':[20, 40, None],\n",
    "    'forest__min_samples_leaf':[1, 2, 3], \n",
    "    'forest__max_features': ['auto','sqrt', 'log2']\n",
    "                }\n",
    "\n",
    "xgb_params = {\n",
    "        'xgb__eta':[.7, .9, 1.1],\n",
    "        'xgb__max_depth': [6, 10, 15, 20],\n",
    "        'xgb__learning_rate': [0.001, 0.01, 0.1, 0.2, 0,3],\n",
    "        'xgb__subsample': [0.5, 0.6, 0.7, 0.8, 0.9, 1.0],\n",
    "        'xgb__colsample_bytree': [0.4, 0.5, 0.6, 0.7, 0.8, 0.9, 1.0],\n",
    "        'xgb__colsample_bylevel': [0.4, 0.5, 0.6, 0.7, 0.8, 0.9, 1.0],\n",
    "        'xgb__min_child_weight': [0.5, 1.0, 3.0, 5.0, 7.0, 10.0],\n",
    "        'xgb__gamma': [0, 0.25, 0.5, 1.0],\n",
    "        'xgb__reg_lambda': [0.1, 1.0, 5.0, 10.0, 50.0, 100.0],\n",
    "        'xgb__n_estimators': [100, 120]\n",
    "            }"
   ]
  },
  {
   "cell_type": "markdown",
   "metadata": {},
   "source": [
    "### Logistic Regression"
   ]
  },
  {
   "cell_type": "code",
   "execution_count": 67,
   "metadata": {},
   "outputs": [
    {
     "data": {
      "text/plain": [
       "{'logreg__C': 0.75, 'logreg__max_iter': 500, 'logreg__solver': 'lbfgs'}"
      ]
     },
     "execution_count": 67,
     "metadata": {},
     "output_type": "execute_result"
    }
   ],
   "source": [
    "log_grid = GridSearchCV(estimator = logreg_pipe, param_grid = logreg_params, scoring = 'recall')\n",
    "log_grid.fit(X_train, y_train)\n",
    "log_grid.best_params_"
   ]
  },
  {
   "cell_type": "markdown",
   "metadata": {},
   "source": [
    "### Bernoulli"
   ]
  },
  {
   "cell_type": "code",
   "execution_count": 68,
   "metadata": {},
   "outputs": [
    {
     "data": {
      "text/plain": [
       "{'bern__alpha': 0.1}"
      ]
     },
     "execution_count": 68,
     "metadata": {},
     "output_type": "execute_result"
    }
   ],
   "source": [
    "bern_grid = GridSearchCV(estimator = bernoulli_pipe, param_grid = bernoulli_params, scoring = 'recall')\n",
    "bern_grid.fit(X_train, y_train)\n",
    "bern_grid.best_params_"
   ]
  },
  {
   "cell_type": "markdown",
   "metadata": {},
   "source": [
    "### RandomSearchCV on K Nearest Neighbors\n",
    "Tossing this one due to computational weight."
   ]
  },
  {
   "cell_type": "code",
   "execution_count": 69,
   "metadata": {},
   "outputs": [],
   "source": [
    "#rs_knn = RandomizedSearchCV(estimator = knn_pipe,\n",
    "#                        param_distributions = knn_params,\n",
    "#                        n_iter = 10,                      \n",
    "#                        random_state=42)\n",
    "\n",
    "#rs_knn.fit(X_train, y_train)\n",
    "#rs_knn.best_params_"
   ]
  },
  {
   "cell_type": "markdown",
   "metadata": {},
   "source": [
    "### Decision Tree GridSearchCV"
   ]
  },
  {
   "cell_type": "code",
   "execution_count": 70,
   "metadata": {},
   "outputs": [
    {
     "data": {
      "text/plain": [
       "{'tree__criterion': 'gini',\n",
       " 'tree__max_depth': 55,\n",
       " 'tree__max_features': 'sqrt',\n",
       " 'tree__min_samples_leaf': 1}"
      ]
     },
     "execution_count": 70,
     "metadata": {},
     "output_type": "execute_result"
    }
   ],
   "source": [
    "tree_grid = GridSearchCV(estimator = tree_pipe, param_grid = tree_params, scoring = 'recall')\n",
    "tree_grid.fit(X_train, y_train)\n",
    "tree_grid.best_params_"
   ]
  },
  {
   "cell_type": "markdown",
   "metadata": {},
   "source": [
    "### RandomSearchCV on Random Forest"
   ]
  },
  {
   "cell_type": "code",
   "execution_count": 71,
   "metadata": {},
   "outputs": [
    {
     "data": {
      "text/plain": [
       "{'forest__n_estimators': 125,\n",
       " 'forest__min_samples_leaf': 2,\n",
       " 'forest__max_features': 'sqrt',\n",
       " 'forest__max_depth': None,\n",
       " 'forest__criterion': 'gini'}"
      ]
     },
     "execution_count": 71,
     "metadata": {},
     "output_type": "execute_result"
    }
   ],
   "source": [
    "rs_forest = RandomizedSearchCV(estimator = forest_pipe,\n",
    "                        param_distributions = forest_params,\n",
    "                        n_iter = 10,                      \n",
    "                        random_state=42)\n",
    "\n",
    "rs_forest.fit(X_train, y_train)\n",
    "rs_forest.best_params_"
   ]
  },
  {
   "cell_type": "markdown",
   "metadata": {},
   "source": [
    "### RandomSearchCV on XGB\n",
    "Gridsearch is very computationally heavy so RandomSearch had to be used to reduce computation - still very heavy."
   ]
  },
  {
   "cell_type": "code",
   "execution_count": 72,
   "metadata": {},
   "outputs": [
    {
     "data": {
      "text/plain": [
       "({'xgb__subsample': 0.9,\n",
       "  'xgb__reg_lambda': 1.0,\n",
       "  'xgb__n_estimators': 120,\n",
       "  'xgb__min_child_weight': 1.0,\n",
       "  'xgb__max_depth': 15,\n",
       "  'xgb__learning_rate': 0.1,\n",
       "  'xgb__gamma': 1.0,\n",
       "  'xgb__eta': 0.9,\n",
       "  'xgb__colsample_bytree': 0.9,\n",
       "  'xgb__colsample_bylevel': 0.5},\n",
       " 0.7911744499486368,\n",
       " {'param_distributions': {'xgb__eta': [0.7, 0.9, 1.1],\n",
       "   'xgb__max_depth': [6, 10, 15, 20],\n",
       "   'xgb__learning_rate': [0.001, 0.01, 0.1, 0.2, 0, 3],\n",
       "   'xgb__subsample': [0.5, 0.6, 0.7, 0.8, 0.9, 1.0],\n",
       "   'xgb__colsample_bytree': [0.4, 0.5, 0.6, 0.7, 0.8, 0.9, 1.0],\n",
       "   'xgb__colsample_bylevel': [0.4, 0.5, 0.6, 0.7, 0.8, 0.9, 1.0],\n",
       "   'xgb__min_child_weight': [0.5, 1.0, 3.0, 5.0, 7.0, 10.0],\n",
       "   'xgb__gamma': [0, 0.25, 0.5, 1.0],\n",
       "   'xgb__reg_lambda': [0.1, 1.0, 5.0, 10.0, 50.0, 100.0],\n",
       "   'xgb__n_estimators': [100, 120]},\n",
       "  'n_iter': 10,\n",
       "  'random_state': 42,\n",
       "  'scoring': None,\n",
       "  'estimator': Pipeline(steps=[('transform', CustomTransformer()),\n",
       "                  ('scaler', StandardScaler()),\n",
       "                  ('xgb',\n",
       "                   XGBClassifier(base_score=None, booster=None,\n",
       "                                 colsample_bylevel=None, colsample_bynode=None,\n",
       "                                 colsample_bytree=None, gamma=None, gpu_id=None,\n",
       "                                 importance_type='gain',\n",
       "                                 interaction_constraints=None, learning_rate=None,\n",
       "                                 max_delta_step=None, max_depth=None,\n",
       "                                 min_child_weight=None, missing=nan,\n",
       "                                 monotone_constraints=None, n_estimators=100,\n",
       "                                 n_jobs=None, num_parallel_tree=None,\n",
       "                                 random_state=None, reg_alpha=None,\n",
       "                                 reg_lambda=None, scale_pos_weight=None,\n",
       "                                 subsample=None, tree_method=None,\n",
       "                                 validate_parameters=None, verbosity=None))]),\n",
       "  'n_jobs': None,\n",
       "  'iid': 'deprecated',\n",
       "  'refit': True,\n",
       "  'cv': None,\n",
       "  'verbose': 0,\n",
       "  'pre_dispatch': '2*n_jobs',\n",
       "  'error_score': nan,\n",
       "  'return_train_score': True,\n",
       "  'multimetric_': False,\n",
       "  'best_index_': 4,\n",
       "  'best_score_': 0.7911744499486368,\n",
       "  'best_params_': {'xgb__subsample': 0.9,\n",
       "   'xgb__reg_lambda': 1.0,\n",
       "   'xgb__n_estimators': 120,\n",
       "   'xgb__min_child_weight': 1.0,\n",
       "   'xgb__max_depth': 15,\n",
       "   'xgb__learning_rate': 0.1,\n",
       "   'xgb__gamma': 1.0,\n",
       "   'xgb__eta': 0.9,\n",
       "   'xgb__colsample_bytree': 0.9,\n",
       "   'xgb__colsample_bylevel': 0.5},\n",
       "  'best_estimator_': Pipeline(steps=[('transform', CustomTransformer()),\n",
       "                  ('scaler', StandardScaler()),\n",
       "                  ('xgb',\n",
       "                   XGBClassifier(base_score=0.5, booster='gbtree',\n",
       "                                 colsample_bylevel=0.5, colsample_bynode=1,\n",
       "                                 colsample_bytree=0.9, eta=0.9, gamma=1.0,\n",
       "                                 gpu_id=-1, importance_type='gain',\n",
       "                                 interaction_constraints='', learning_rate=0.1,\n",
       "                                 max_delta_step=0, max_depth=15,\n",
       "                                 min_child_weight=1.0, missing=nan,\n",
       "                                 monotone_constraints='()', n_estimators=120,\n",
       "                                 n_jobs=0, num_parallel_tree=1, random_state=0,\n",
       "                                 reg_alpha=0, reg_lambda=1.0, scale_pos_weight=1,\n",
       "                                 subsample=0.9, tree_method='exact',\n",
       "                                 validate_parameters=1, verbosity=None))]),\n",
       "  'refit_time_': 10.659880638122559,\n",
       "  'scorer_': <function sklearn.metrics._scorer._passthrough_scorer(estimator, *args, **kwargs)>,\n",
       "  'cv_results_': {'mean_fit_time': array([ 6.97980752,  5.09032249,  9.35200272,  3.05830693,  8.05564904,\n",
       "           4.65708747, 12.37702036,  5.64120107,  3.14348598,  5.75131102]),\n",
       "   'std_fit_time': array([0.49974777, 0.13937699, 0.28026959, 0.16318846, 0.3491187 ,\n",
       "          0.1248572 , 0.83958568, 0.20047699, 0.16540628, 0.15415822]),\n",
       "   'mean_score_time': array([0.16027756, 0.13425312, 0.14415874, 0.13151903, 0.17079749,\n",
       "          0.14810905, 0.17428336, 0.15532603, 0.13703899, 0.15520344]),\n",
       "   'std_score_time': array([0.01424633, 0.00551577, 0.00715251, 0.00547331, 0.01855837,\n",
       "          0.00753228, 0.02637243, 0.01539078, 0.0039954 , 0.01067158]),\n",
       "   'param_xgb__subsample': masked_array(data=[1.0, 0.9, 0.9, 1.0, 0.9, 0.9, 1.0, 1.0, 1.0, 0.9],\n",
       "                mask=[False, False, False, False, False, False, False, False,\n",
       "                      False, False],\n",
       "          fill_value='?',\n",
       "               dtype=object),\n",
       "   'param_xgb__reg_lambda': masked_array(data=[10.0, 5.0, 50.0, 0.1, 1.0, 10.0, 100.0, 100.0, 1.0,\n",
       "                      10.0],\n",
       "                mask=[False, False, False, False, False, False, False, False,\n",
       "                      False, False],\n",
       "          fill_value='?',\n",
       "               dtype=object),\n",
       "   'param_xgb__n_estimators': masked_array(data=[100, 120, 100, 120, 120, 120, 120, 120, 120, 120],\n",
       "                mask=[False, False, False, False, False, False, False, False,\n",
       "                      False, False],\n",
       "          fill_value='?',\n",
       "               dtype=object),\n",
       "   'param_xgb__min_child_weight': masked_array(data=[3.0, 1.0, 10.0, 3.0, 1.0, 7.0, 0.5, 0.5, 10.0, 5.0],\n",
       "                mask=[False, False, False, False, False, False, False, False,\n",
       "                      False, False],\n",
       "          fill_value='?',\n",
       "               dtype=object),\n",
       "   'param_xgb__max_depth': masked_array(data=[15, 6, 20, 6, 15, 10, 20, 15, 6, 10],\n",
       "                mask=[False, False, False, False, False, False, False, False,\n",
       "                      False, False],\n",
       "          fill_value='?',\n",
       "               dtype=object),\n",
       "   'param_xgb__learning_rate': masked_array(data=[0.01, 0.01, 0.001, 0.2, 0.1, 0.2, 0.001, 0.2, 0.1,\n",
       "                      0.01],\n",
       "                mask=[False, False, False, False, False, False, False, False,\n",
       "                      False, False],\n",
       "          fill_value='?',\n",
       "               dtype=object),\n",
       "   'param_xgb__gamma': masked_array(data=[1.0, 1.0, 1.0, 1.0, 1.0, 0.25, 0.5, 1.0, 1.0, 0.5],\n",
       "                mask=[False, False, False, False, False, False, False, False,\n",
       "                      False, False],\n",
       "          fill_value='?',\n",
       "               dtype=object),\n",
       "   'param_xgb__eta': masked_array(data=[0.9, 0.9, 0.9, 1.1, 0.9, 0.7, 0.9, 1.1, 1.1, 0.7],\n",
       "                mask=[False, False, False, False, False, False, False, False,\n",
       "                      False, False],\n",
       "          fill_value='?',\n",
       "               dtype=object),\n",
       "   'param_xgb__colsample_bytree': masked_array(data=[1.0, 1.0, 0.8, 0.7, 0.9, 0.6, 0.8, 0.6, 0.4, 0.7],\n",
       "                mask=[False, False, False, False, False, False, False, False,\n",
       "                      False, False],\n",
       "          fill_value='?',\n",
       "               dtype=object),\n",
       "   'param_xgb__colsample_bylevel': masked_array(data=[0.5, 0.8, 0.9, 0.6, 0.5, 0.5, 0.8, 0.5, 0.9, 0.6],\n",
       "                mask=[False, False, False, False, False, False, False, False,\n",
       "                      False, False],\n",
       "          fill_value='?',\n",
       "               dtype=object),\n",
       "   'params': [{'xgb__subsample': 1.0,\n",
       "     'xgb__reg_lambda': 10.0,\n",
       "     'xgb__n_estimators': 100,\n",
       "     'xgb__min_child_weight': 3.0,\n",
       "     'xgb__max_depth': 15,\n",
       "     'xgb__learning_rate': 0.01,\n",
       "     'xgb__gamma': 1.0,\n",
       "     'xgb__eta': 0.9,\n",
       "     'xgb__colsample_bytree': 1.0,\n",
       "     'xgb__colsample_bylevel': 0.5},\n",
       "    {'xgb__subsample': 0.9,\n",
       "     'xgb__reg_lambda': 5.0,\n",
       "     'xgb__n_estimators': 120,\n",
       "     'xgb__min_child_weight': 1.0,\n",
       "     'xgb__max_depth': 6,\n",
       "     'xgb__learning_rate': 0.01,\n",
       "     'xgb__gamma': 1.0,\n",
       "     'xgb__eta': 0.9,\n",
       "     'xgb__colsample_bytree': 1.0,\n",
       "     'xgb__colsample_bylevel': 0.8},\n",
       "    {'xgb__subsample': 0.9,\n",
       "     'xgb__reg_lambda': 50.0,\n",
       "     'xgb__n_estimators': 100,\n",
       "     'xgb__min_child_weight': 10.0,\n",
       "     'xgb__max_depth': 20,\n",
       "     'xgb__learning_rate': 0.001,\n",
       "     'xgb__gamma': 1.0,\n",
       "     'xgb__eta': 0.9,\n",
       "     'xgb__colsample_bytree': 0.8,\n",
       "     'xgb__colsample_bylevel': 0.9},\n",
       "    {'xgb__subsample': 1.0,\n",
       "     'xgb__reg_lambda': 0.1,\n",
       "     'xgb__n_estimators': 120,\n",
       "     'xgb__min_child_weight': 3.0,\n",
       "     'xgb__max_depth': 6,\n",
       "     'xgb__learning_rate': 0.2,\n",
       "     'xgb__gamma': 1.0,\n",
       "     'xgb__eta': 1.1,\n",
       "     'xgb__colsample_bytree': 0.7,\n",
       "     'xgb__colsample_bylevel': 0.6},\n",
       "    {'xgb__subsample': 0.9,\n",
       "     'xgb__reg_lambda': 1.0,\n",
       "     'xgb__n_estimators': 120,\n",
       "     'xgb__min_child_weight': 1.0,\n",
       "     'xgb__max_depth': 15,\n",
       "     'xgb__learning_rate': 0.1,\n",
       "     'xgb__gamma': 1.0,\n",
       "     'xgb__eta': 0.9,\n",
       "     'xgb__colsample_bytree': 0.9,\n",
       "     'xgb__colsample_bylevel': 0.5},\n",
       "    {'xgb__subsample': 0.9,\n",
       "     'xgb__reg_lambda': 10.0,\n",
       "     'xgb__n_estimators': 120,\n",
       "     'xgb__min_child_weight': 7.0,\n",
       "     'xgb__max_depth': 10,\n",
       "     'xgb__learning_rate': 0.2,\n",
       "     'xgb__gamma': 0.25,\n",
       "     'xgb__eta': 0.7,\n",
       "     'xgb__colsample_bytree': 0.6,\n",
       "     'xgb__colsample_bylevel': 0.5},\n",
       "    {'xgb__subsample': 1.0,\n",
       "     'xgb__reg_lambda': 100.0,\n",
       "     'xgb__n_estimators': 120,\n",
       "     'xgb__min_child_weight': 0.5,\n",
       "     'xgb__max_depth': 20,\n",
       "     'xgb__learning_rate': 0.001,\n",
       "     'xgb__gamma': 0.5,\n",
       "     'xgb__eta': 0.9,\n",
       "     'xgb__colsample_bytree': 0.8,\n",
       "     'xgb__colsample_bylevel': 0.8},\n",
       "    {'xgb__subsample': 1.0,\n",
       "     'xgb__reg_lambda': 100.0,\n",
       "     'xgb__n_estimators': 120,\n",
       "     'xgb__min_child_weight': 0.5,\n",
       "     'xgb__max_depth': 15,\n",
       "     'xgb__learning_rate': 0.2,\n",
       "     'xgb__gamma': 1.0,\n",
       "     'xgb__eta': 1.1,\n",
       "     'xgb__colsample_bytree': 0.6,\n",
       "     'xgb__colsample_bylevel': 0.5},\n",
       "    {'xgb__subsample': 1.0,\n",
       "     'xgb__reg_lambda': 1.0,\n",
       "     'xgb__n_estimators': 120,\n",
       "     'xgb__min_child_weight': 10.0,\n",
       "     'xgb__max_depth': 6,\n",
       "     'xgb__learning_rate': 0.1,\n",
       "     'xgb__gamma': 1.0,\n",
       "     'xgb__eta': 1.1,\n",
       "     'xgb__colsample_bytree': 0.4,\n",
       "     'xgb__colsample_bylevel': 0.9},\n",
       "    {'xgb__subsample': 0.9,\n",
       "     'xgb__reg_lambda': 10.0,\n",
       "     'xgb__n_estimators': 120,\n",
       "     'xgb__min_child_weight': 5.0,\n",
       "     'xgb__max_depth': 10,\n",
       "     'xgb__learning_rate': 0.01,\n",
       "     'xgb__gamma': 0.5,\n",
       "     'xgb__eta': 0.7,\n",
       "     'xgb__colsample_bytree': 0.7,\n",
       "     'xgb__colsample_bylevel': 0.6}],\n",
       "   'split0_test_score': array([0.76938999, 0.74150737, 0.75575307, 0.78290515, 0.79021064,\n",
       "          0.78083526, 0.75648362, 0.77596493, 0.76415439, 0.75818824]),\n",
       "   'split1_test_score': array([0.77864361, 0.75149154, 0.76366736, 0.79215877, 0.80019481,\n",
       "          0.79130647, 0.76683307, 0.78704493, 0.76805065, 0.76305857]),\n",
       "   'split2_test_score': array([0.7731645 , 0.74613418, 0.75879703, 0.78497504, 0.78667965,\n",
       "          0.7807135 , 0.76244977, 0.77913065, 0.76378911, 0.76098868]),\n",
       "   'split3_test_score': array([0.76412567, 0.73416951, 0.75109596, 0.7788602 , 0.78714077,\n",
       "          0.7793473 , 0.75353142, 0.7730151 , 0.75779347, 0.7518266 ]),\n",
       "   'split4_test_score': array([0.76339503, 0.73757915, 0.75353142, 0.7788602 , 0.79164637,\n",
       "          0.78287871, 0.75414028, 0.77910375, 0.76193376, 0.75170482]),\n",
       "   'mean_test_score': array([0.76974376, 0.74217635, 0.75656897, 0.78355187, 0.79117445,\n",
       "          0.78301625, 0.75868763, 0.77885187, 0.76314428, 0.75715338]),\n",
       "   'std_test_score': array([0.00570795, 0.00613398, 0.00436343, 0.00491011, 0.00487837,\n",
       "          0.00429575, 0.00515023, 0.00468337, 0.00333482, 0.0046629 ]),\n",
       "   'rank_test_score': array([ 5, 10,  9,  2,  1,  3,  7,  4,  6,  8]),\n",
       "   'split0_train_score': array([0.78359209, 0.74334855, 0.763379  , 0.79936073, 0.82511416,\n",
       "          0.79750381, 0.7652968 , 0.7934551 , 0.77251142, 0.76401826]),\n",
       "   'split1_train_score': array([0.77929985, 0.74249619, 0.7585997 , 0.7939726 , 0.82496195,\n",
       "          0.79863014, 0.76319635, 0.79098935, 0.76730594, 0.75905632]),\n",
       "   'split2_train_score': array([0.78423135, 0.74496195, 0.76030441, 0.79981735, 0.82563166,\n",
       "          0.79978691, 0.76401826, 0.79153729, 0.77135464, 0.76377473]),\n",
       "   'split3_train_score': array([0.77906304, 0.74633953, 0.76356884, 0.79711424, 0.82627622,\n",
       "          0.79924508, 0.76582144, 0.79373535, 0.77227482, 0.76439073]),\n",
       "   'split4_train_score': array([0.78195489, 0.74542632, 0.76213814, 0.79802746, 0.82502816,\n",
       "          0.7983623 , 0.76393413, 0.79148276, 0.77142248, 0.76308179]),\n",
       "   'mean_train_score': array([0.78162824, 0.74451451, 0.76159802, 0.79765848, 0.82540243,\n",
       "          0.79870565, 0.7644534 , 0.79223997, 0.77097386, 0.76286437]),\n",
       "   'std_train_score': array([0.00213266, 0.00139967, 0.00189795, 0.00207733, 0.00049664,\n",
       "          0.00077822, 0.00096146, 0.0011264 , 0.00188979, 0.00195134])},\n",
       "  'n_splits_': 5})"
      ]
     },
     "execution_count": 72,
     "metadata": {},
     "output_type": "execute_result"
    }
   ],
   "source": [
    "rs = RandomizedSearchCV(estimator = xgb_pipe,\n",
    "                        param_distributions = xgb_params,\n",
    "                        n_iter = 10,                      \n",
    "                        random_state=42, return_train_score = True)\n",
    "\n",
    "rs.fit(X_train, y_train)\n",
    "rs.best_params_, rs.best_score_, rs.__dict__"
   ]
  },
  {
   "cell_type": "markdown",
   "metadata": {},
   "source": [
    "# Vanilla Models"
   ]
  },
  {
   "cell_type": "markdown",
   "metadata": {},
   "source": [
    "## Model 1 - Logistic Regression"
   ]
  },
  {
   "cell_type": "code",
   "execution_count": 73,
   "metadata": {},
   "outputs": [
    {
     "data": {
      "image/png": "[encoded data removed]",
      "text/plain": [
       "<Figure size 432x288 with 2 Axes>"
      ]
     },
     "metadata": {
      "needs_background": "light"
     },
     "output_type": "display_data"
    }
   ],
   "source": [
    "logreg_pipe.fit(X_train, y_train)\n",
    "plot_confusion_matrix(logreg_pipe, X_train, y_train);"
   ]
  },
  {
   "cell_type": "code",
   "execution_count": 74,
   "metadata": {},
   "outputs": [
    {
     "name": "stdout",
     "output_type": "stream",
     "text": [
      "Accuracy Scores: [0.73882869 0.74211616 0.73773286 0.73514369 0.74171943]\n",
      "Mean Accuracy: 0.7391081666413524\n"
     ]
    },
    {
     "data": {
      "text/plain": [
       "('Recall Scores:',\n",
       " {'fit_time': array([0.72007561, 1.04125547, 0.72558141, 0.7315526 , 0.75648642]),\n",
       "  'score_time': array([0.08777213, 0.10372066, 0.08577061, 0.08078456, 0.08377624]),\n",
       "  'test_score': array([0.58198925, 0.58989519, 0.58452029, 0.57043011, 0.58844086]),\n",
       "  'train_score': array([0.58607714, 0.58147974, 0.58571333, 0.58721946, 0.58533799])})"
      ]
     },
     "execution_count": 74,
     "metadata": {},
     "output_type": "execute_result"
    }
   ],
   "source": [
    "print(\"Accuracy Scores:\", cross_val_score(logreg_pipe, X_train, y_train))\n",
    "print(\"Mean Accuracy:\", cross_val_score(logreg_pipe, X_train, y_train).mean())\n",
    "\"Recall Scores:\", cross_validate(logreg_pipe, X_train, y_train, return_train_score= True, scoring = 'recall')"
   ]
  },
  {
   "cell_type": "markdown",
   "metadata": {},
   "source": [
    "## Model 2 - K Nearest Neighbors"
   ]
  },
  {
   "cell_type": "code",
   "execution_count": 75,
   "metadata": {},
   "outputs": [
    {
     "data": {
      "image/png": "[encoded data removed]",
      "text/plain": [
       "<Figure size 432x288 with 2 Axes>"
      ]
     },
     "metadata": {
      "needs_background": "light"
     },
     "output_type": "display_data"
    }
   ],
   "source": [
    "knn_pipe.fit(X_train, y_train)\n",
    "plot_confusion_matrix(knn_pipe, X_train, y_train);"
   ]
  },
  {
   "cell_type": "code",
   "execution_count": 76,
   "metadata": {},
   "outputs": [],
   "source": [
    "#print(\"Accuracy Scores:\", cross_val_score(knn_pipe, X_train, y_train))\n",
    "#\"Recall Scores:\", cross_validate(knn_pipe, X_train, y_train, return_train_score= True, scoring = 'recall')\n",
    "#do not uncomment unless you're comfortable with waiting a really long time"
   ]
  },
  {
   "cell_type": "markdown",
   "metadata": {},
   "source": [
    "## Model 3 - Decision Tree Classifier"
   ]
  },
  {
   "cell_type": "code",
   "execution_count": 77,
   "metadata": {},
   "outputs": [
    {
     "data": {
      "image/png": "[encoded data removed]",
      "text/plain": [
       "<Figure size 432x288 with 2 Axes>"
      ]
     },
     "metadata": {
      "needs_background": "light"
     },
     "output_type": "display_data"
    }
   ],
   "source": [
    "tree_pipe.fit(X_train, y_train)\n",
    "plot_confusion_matrix(tree_pipe, X_train, y_train);"
   ]
  },
  {
   "cell_type": "code",
   "execution_count": 78,
   "metadata": {},
   "outputs": [
    {
     "name": "stdout",
     "output_type": "stream",
     "text": [
      "Accuracy Scores: [0.77620845 0.78728845 0.77779131 0.7793473  0.77374574]\n",
      "Mean Accuracy: 0.778584003868269\n"
     ]
    },
    {
     "data": {
      "text/plain": [
       "('Recall Scores:',\n",
       " {'fit_time': array([0.74973607, 0.72038317, 0.7392087 , 0.72783375, 0.74048114]),\n",
       "  'score_time': array([0.06576443, 0.05129552, 0.05380535, 0.05109453, 0.0548532 ]),\n",
       "  'test_score': array([0.65672043, 0.68180597, 0.66702499, 0.66532258, 0.6655914 ]),\n",
       "  'train_score': array([0.74620347, 0.74779921, 0.74490962, 0.74801774, 0.74895847])})"
      ]
     },
     "execution_count": 78,
     "metadata": {},
     "output_type": "execute_result"
    }
   ],
   "source": [
    "print(\"Accuracy Scores:\", cross_val_score(tree_pipe, X_train, y_train))\n",
    "print(\"Mean Accuracy:\", cross_val_score(tree_pipe, X_train, y_train).mean())\n",
    "\"Recall Scores:\", cross_validate(tree_pipe, X_train, y_train, return_train_score= True, scoring = 'recall')"
   ]
  },
  {
   "cell_type": "markdown",
   "metadata": {},
   "source": [
    "## Model 4 - XGB Classifier"
   ]
  },
  {
   "cell_type": "code",
   "execution_count": 79,
   "metadata": {},
   "outputs": [
    {
     "data": {
      "image/png": "[encoded data removed]",
      "text/plain": [
       "<Figure size 432x288 with 2 Axes>"
      ]
     },
     "metadata": {
      "needs_background": "light"
     },
     "output_type": "display_data"
    }
   ],
   "source": [
    "xgb_pipe.fit(X_train, y_train)\n",
    "plot_confusion_matrix(xgb_pipe, X_train, y_train);"
   ]
  },
  {
   "cell_type": "code",
   "execution_count": 80,
   "metadata": {},
   "outputs": [
    {
     "name": "stdout",
     "output_type": "stream",
     "text": [
      "Accuracy Scores: [0.78144405 0.79763789 0.7850968  0.78190453 0.78531417]\n",
      "Mean Accuracy: 0.7862794890710905\n"
     ]
    },
    {
     "data": {
      "text/plain": [
       "('Recall Scores:',\n",
       " {'fit_time': array([4.21973109, 4.91558361, 4.22348309, 4.14855385, 4.28275061]),\n",
       "  'score_time': array([0.18094516, 0.1577518 , 0.14675093, 0.14238262, 0.1509378 ]),\n",
       "  'test_score': array([0.65456989, 0.6855684 , 0.6640688 , 0.65806452, 0.65349462]),\n",
       "  'train_score': array([0.68841554, 0.68973859, 0.6886634 , 0.69231286, 0.68062088])})"
      ]
     },
     "execution_count": 80,
     "metadata": {},
     "output_type": "execute_result"
    }
   ],
   "source": [
    "print(\"Accuracy Scores:\", cross_val_score(xgb_pipe, X_train, y_train))\n",
    "print(\"Mean Accuracy:\", cross_val_score(xgb_pipe, X_train, y_train).mean())\n",
    "\"Recall Scores:\", cross_validate(xgb_pipe, X_train, y_train, return_train_score= True, scoring = 'recall')"
   ]
  },
  {
   "cell_type": "markdown",
   "metadata": {},
   "source": [
    "## Model 5 - Random Forest Classifier"
   ]
  },
  {
   "cell_type": "code",
   "execution_count": 81,
   "metadata": {},
   "outputs": [
    {
     "data": {
      "image/png": "[encoded data removed]",
      "text/plain": [
       "<Figure size 432x288 with 2 Axes>"
      ]
     },
     "metadata": {
      "needs_background": "light"
     },
     "output_type": "display_data"
    }
   ],
   "source": [
    "forest_pipe.fit(X_train, y_train)\n",
    "plot_confusion_matrix(forest_pipe, X_train, y_train);"
   ]
  },
  {
   "cell_type": "code",
   "execution_count": 82,
   "metadata": {},
   "outputs": [
    {
     "name": "stdout",
     "output_type": "stream",
     "text": [
      "Accuracy Scores: [0.78387922 0.79118471 0.78448801 0.7851924  0.77898198]\n",
      "Mean Accuracy: 0.7848670436761982\n"
     ]
    },
    {
     "data": {
      "text/plain": [
       "('Recall Scores:',\n",
       " {'fit_time': array([4.63186193, 4.61822271, 5.35645223, 4.83857226, 4.58848763]),\n",
       "  'score_time': array([0.32871294, 0.27826548, 0.26927948, 0.2659626 , 0.26732349]),\n",
       "  'test_score': array([0.68010753, 0.7041118 , 0.68852459, 0.68333333, 0.69489247]),\n",
       "  'train_score': array([0.76293509, 0.76433035, 0.76285196, 0.76367424, 0.77066255])})"
      ]
     },
     "execution_count": 82,
     "metadata": {},
     "output_type": "execute_result"
    }
   ],
   "source": [
    "print(\"Accuracy Scores:\", cross_val_score(forest_pipe, X_train, y_train))\n",
    "print(\"Mean Accuracy:\", cross_val_score(forest_pipe, X_train, y_train).mean())\n",
    "\"Recall Scores:\", cross_validate(forest_pipe, X_train, y_train, return_train_score= True, scoring = 'recall')"
   ]
  },
  {
   "cell_type": "markdown",
   "metadata": {},
   "source": [
    "# Tuned Models"
   ]
  },
  {
   "cell_type": "markdown",
   "metadata": {},
   "source": [
    "## Tuned Model 1 - Decision Tree"
   ]
  },
  {
   "cell_type": "code",
   "execution_count": 83,
   "metadata": {},
   "outputs": [],
   "source": [
    "tree_pipe_tuned = Pipeline(steps =[('transform', CustomTransformer()),('scaler', StandardScaler()), \n",
    "                                   ('tree', DecisionTreeClassifier(criterion = 'entropy',\n",
    "                                                                   max_depth = 30,\n",
    "                                                                   max_features = 'sqrt'))])"
   ]
  },
  {
   "cell_type": "code",
   "execution_count": 84,
   "metadata": {},
   "outputs": [
    {
     "data": {
      "image/png": "[encoded data removed]",
      "text/plain": [
       "<Figure size 432x288 with 2 Axes>"
      ]
     },
     "metadata": {
      "needs_background": "light"
     },
     "output_type": "display_data"
    }
   ],
   "source": [
    "tree_pipe_tuned.fit(X_train, y_train)\n",
    "plot_confusion_matrix(tree_pipe_tuned, X_train, y_train);"
   ]
  },
  {
   "cell_type": "code",
   "execution_count": 85,
   "metadata": {},
   "outputs": [
    {
     "name": "stdout",
     "output_type": "stream",
     "text": [
      "Accuracy Scores: [0.77633021 0.7850968  0.77815658 0.7761812  0.77252801]\n",
      "Mean Accuracy: 0.7733481319251452\n"
     ]
    },
    {
     "data": {
      "text/plain": [
       "('Recall Scores:',\n",
       " {'fit_time': array([0.4447825 , 0.44979978, 0.45094228, 0.47176504, 0.44281888]),\n",
       "  'score_time': array([0.06581402, 0.05285668, 0.05289459, 0.05289507, 0.05884123]),\n",
       "  'test_score': array([0.6188172 , 0.67858103, 0.64740661, 0.64166667, 0.65456989]),\n",
       "  'train_score': array([0.68250235, 0.72300249, 0.70653854, 0.7145545 , 0.72268512])})"
      ]
     },
     "execution_count": 85,
     "metadata": {},
     "output_type": "execute_result"
    }
   ],
   "source": [
    "print(\"Accuracy Scores:\", cross_val_score(tree_pipe_tuned, X_train, y_train))\n",
    "print(\"Mean Accuracy:\", cross_val_score(tree_pipe_tuned, X_train, y_train).mean())\n",
    "\"Recall Scores:\", cross_validate(tree_pipe_tuned, X_train, y_train, return_train_score= True, scoring = 'recall')"
   ]
  },
  {
   "cell_type": "markdown",
   "metadata": {},
   "source": [
    "## Tuned Model 2 - XGBoost Classifier"
   ]
  },
  {
   "cell_type": "code",
   "execution_count": 86,
   "metadata": {},
   "outputs": [],
   "source": [
    "xgb_pipe_tuned = Pipeline(steps =[('transform', CustomTransformer()),('scaler', StandardScaler()), \n",
    "                                  ('xgb', XGBClassifier(subsample=0.9,\n",
    "                                                        reg_lambda=1.0,\n",
    "                                                        n_estimators=150,\n",
    "                                                        min_child_weight=1.0,\n",
    "                                                        max_depth=40,\n",
    "                                                        learning_rate=0.2,\n",
    "                                                        gamma=1.0,\n",
    "                                                        eta=0.9,\n",
    "                                                        colsample_bytree=0.9,\n",
    "                                                        colsample_bylevel=0.5))])"
   ]
  },
  {
   "cell_type": "code",
   "execution_count": 87,
   "metadata": {},
   "outputs": [
    {
     "data": {
      "image/png": "[encoded data removed]",
      "text/plain": [
       "<Figure size 432x288 with 2 Axes>"
      ]
     },
     "metadata": {
      "needs_background": "light"
     },
     "output_type": "display_data"
    }
   ],
   "source": [
    "xgb_pipe_tuned.fit(X_train, y_train)\n",
    "plot_confusion_matrix(xgb_pipe_tuned, X_train, y_train);"
   ]
  },
  {
   "cell_type": "markdown",
   "metadata": {},
   "source": [
    "The recall calculations below take a little while, but they do work.  "
   ]
  },
  {
   "cell_type": "code",
   "execution_count": 88,
   "metadata": {},
   "outputs": [
    {
     "name": "stdout",
     "output_type": "stream",
     "text": [
      "Accuracy Scores: [0.78607086 0.79483745 0.78789724 0.78543595 0.78628836]\n",
      "Mean Accuracy: 0.7881059716134395\n"
     ]
    },
    {
     "data": {
      "text/plain": [
       "('Recall Scores:',\n",
       " {'fit_time': array([21.32097054, 21.89784694, 21.44483018, 21.22076559, 20.98566413]),\n",
       "  'score_time': array([0.22723961, 0.17653346, 0.20147848, 0.22221041, 0.19699574]),\n",
       "  'test_score': array([0.68360215, 0.70357431, 0.69174953, 0.68682796, 0.69784946]),\n",
       "  'train_score': array([0.75493885, 0.75337679, 0.75162959, 0.75258702, 0.75655154])})"
      ]
     },
     "execution_count": 88,
     "metadata": {},
     "output_type": "execute_result"
    }
   ],
   "source": [
    "print(\"Accuracy Scores:\", cross_val_score(xgb_pipe_tuned, X_train, y_train))\n",
    "print(\"Mean Accuracy:\", cross_val_score(xgb_pipe_tuned, X_train, y_train).mean())\n",
    "\"Recall Scores:\", cross_validate(xgb_pipe_tuned, X_train, y_train, return_train_score= True, scoring = 'recall')"
   ]
  },
  {
   "cell_type": "markdown",
   "metadata": {},
   "source": [
    "Example result:\n",
    "\n",
    "Accuracy Scores: [0.78667965 0.79374163 0.78570559 0.78592304 0.78677545]  \n",
    "Mean Accuracy: 0.7877650724093515  \n",
    "('Recall Scores:',  \n",
    " {'fit_time': array([21.27556515, 20.48738503, 20.44357967, 19.84486055, 19.39542603]),  \n",
    "  'score_time': array([0.21004176, 0.20481229, 0.1889286 , 0.17752552, 0.20445323]),  \n",
    "  'test_score': array([0.67903226, 0.70357431, 0.68691212, 0.68494624, 0.6983871 ]),  \n",
    "  'train_score': array([0.74828652, 0.749412  , 0.74826961, 0.7485553 , 0.75251982])})  "
   ]
  },
  {
   "cell_type": "markdown",
   "metadata": {},
   "source": [
    "## Tuned Model 3 - Random Forest Classifier"
   ]
  },
  {
   "cell_type": "markdown",
   "metadata": {},
   "source": [
    "Although the search suggested that using gini as a criterion may be a stronger choice, the model seemed to perform better using entropy and with a set maximum depth."
   ]
  },
  {
   "cell_type": "code",
   "execution_count": 89,
   "metadata": {},
   "outputs": [],
   "source": [
    "forest_pipe_tuned = Pipeline(steps =[('transform', CustomTransformer()),('scaler', StandardScaler()),\n",
    "                                     ('forest', RandomForestClassifier(n_estimators=200,\n",
    "                                                                       max_features='sqrt',\n",
    "                                                                       max_depth=45,\n",
    "                                                                       criterion='entropy'))])"
   ]
  },
  {
   "cell_type": "code",
   "execution_count": 90,
   "metadata": {},
   "outputs": [
    {
     "data": {
      "image/png": "[encoded data removed]",
      "text/plain": [
       "<Figure size 432x288 with 2 Axes>"
      ]
     },
     "metadata": {
      "needs_background": "light"
     },
     "output_type": "display_data"
    }
   ],
   "source": [
    "forest_pipe_tuned.fit(X_train, y_train)\n",
    "plot_confusion_matrix(forest_pipe_tuned, X_train, y_train);"
   ]
  },
  {
   "cell_type": "code",
   "execution_count": 91,
   "metadata": {},
   "outputs": [
    {
     "name": "stdout",
     "output_type": "stream",
     "text": [
      "Accuracy Scores: [0.78339218 0.79045416 0.78667965 0.78421822 0.77776425]\n",
      "Mean Accuracy: 0.7845504605252895\n"
     ]
    },
    {
     "data": {
      "text/plain": [
       "('Recall Scores:',\n",
       " {'fit_time': array([ 9.13115263,  8.98556137,  9.11418939,  9.29675937, 10.10999084]),\n",
       "  'score_time': array([0.48967695, 0.49821949, 0.4859097 , 0.51490927, 0.4837122 ]),\n",
       "  'test_score': array([0.67956989, 0.70142435, 0.68744961, 0.68333333, 0.69435484]),\n",
       "  'train_score': array([0.76246472, 0.76224716, 0.76036557, 0.76246472, 0.76884827])})"
      ]
     },
     "execution_count": 91,
     "metadata": {},
     "output_type": "execute_result"
    }
   ],
   "source": [
    "print(\"Accuracy Scores:\", cross_val_score(forest_pipe_tuned, X_train, y_train))\n",
    "print(\"Mean Accuracy:\", cross_val_score(forest_pipe_tuned, X_train, y_train).mean())\n",
    "\"Recall Scores:\", cross_validate(forest_pipe_tuned, X_train, y_train, return_train_score= True, scoring = 'recall')"
   ]
  },
  {
   "cell_type": "markdown",
   "metadata": {},
   "source": [
    "# Test Set"
   ]
  },
  {
   "cell_type": "markdown",
   "metadata": {},
   "source": [
    "### XGBoost Classifier predictions on the test set"
   ]
  },
  {
   "cell_type": "code",
   "execution_count": 92,
   "metadata": {},
   "outputs": [
    {
     "name": "stdout",
     "output_type": "stream",
     "text": [
      "XGBoost Classifier Stats:\n",
      "Test Accuracy:  0.7919345412039743\n",
      "Test Precision:  0.8187579214195184\n",
      "Test Recall:  0.6944743066007311\n"
     ]
    }
   ],
   "source": [
    "xgb_pipe_tuned.fit(X_train, y_train)\n",
    "\n",
    "xgb_train_preds = xgb_pipe_tuned.predict(X_train)\n",
    "xgb_test_preds = xgb_pipe_tuned.predict(X_test)\n",
    "\n",
    "xgb_accuracy = accuracy_score(y_test, xgb_test_preds)\n",
    "xgb_precision = precision_score(y_test, xgb_test_preds)\n",
    "xgb_recall = recall_score(y_test, xgb_test_preds)\n",
    "\n",
    "xgb_y_probas = xgb_pipe_tuned.predict_proba(X_test)[:,1]\n",
    "xgb_tpr, xgb_fpr, xgb_thresholds = roc_curve(y_test, xgb_y_probas)\n",
    "xgb_auc = auc(xgb_tpr, xgb_fpr)\n",
    "\n",
    "\n",
    "print(\"XGBoost Classifier Stats:\")\n",
    "print(\"Test Accuracy: \", xgb_accuracy)\n",
    "print(\"Test Precision: \", xgb_precision)\n",
    "print(\"Test Recall: \", xgb_recall)"
   ]
  },
  {
   "cell_type": "markdown",
   "metadata": {},
   "source": [
    "### Random Forest Classifier predictions on the test set"
   ]
  },
  {
   "cell_type": "code",
   "execution_count": 93,
   "metadata": {},
   "outputs": [
    {
     "name": "stdout",
     "output_type": "stream",
     "text": [
      "Random Forest Classifier Stats:\n",
      "Test Accuracy:  0.7917397233586596\n",
      "Test Precision:  0.8161006289308176\n",
      "Test Recall:  0.6974844119544185\n"
     ]
    }
   ],
   "source": [
    "forest_pipe_tuned.fit(X_train, y_train)\n",
    "\n",
    "forest_train_preds = forest_pipe_tuned.predict(X_train)\n",
    "forest_test_preds = forest_pipe_tuned.predict(X_test)\n",
    "\n",
    "forest_accuracy = accuracy_score(y_test, forest_test_preds)\n",
    "forest_precision = precision_score(y_test, forest_test_preds)\n",
    "forest_recall = recall_score(y_test, forest_test_preds)\n",
    "\n",
    "forest_y_probas = forest_pipe_tuned.predict_proba(X_test)[:,1]\n",
    "forest_tpr, forest_fpr, forest_thresholds = roc_curve(y_test, forest_y_probas)\n",
    "forest_auc = auc(forest_tpr, forest_fpr)\n",
    "\n",
    "print(\"Random Forest Classifier Stats:\")\n",
    "print(\"Test Accuracy: \", forest_accuracy)\n",
    "print(\"Test Precision: \", forest_precision)\n",
    "print(\"Test Recall: \", forest_recall)"
   ]
  },
  {
   "cell_type": "markdown",
   "metadata": {},
   "source": [
    "## Tuned Model ROC Curves against each other on Test set"
   ]
  },
  {
   "cell_type": "code",
   "execution_count": 94,
   "metadata": {},
   "outputs": [
    {
     "data": {
      "image/png": "[encoded data removed]",
      "text/plain": [
       "<Figure size 720x576 with 1 Axes>"
      ]
     },
     "metadata": {},
     "output_type": "display_data"
    }
   ],
   "source": [
    "sns.set_style('darkgrid')\n",
    "plt.figure(figsize=(10, 8))\n",
    "\n",
    "plt.plot(xgb_tpr, xgb_fpr, color = 'b', label = 'XGBoost Classifier')\n",
    "plt.plot(forest_tpr, forest_fpr, color = 'r', label = 'Random Forest Classifier')\n",
    "plt.plot([0, 1], [0, 1], color = 'y', linestyle = '--')\n",
    "\n",
    "plt.xlim([0.0, 1.05])\n",
    "plt.ylim([0.0, 1.05])\n",
    "plt.xlabel('False Positive Rate')\n",
    "plt.ylabel('True Positive Rate')\n",
    "plt.title('Tuned Model ROC Curve')\n",
    "plt.legend()\n",
    "plt.show()"
   ]
  }
 ],
 "metadata": {
  "kernelspec": {
   "display_name": "Python 3",
   "language": "python",
   "name": "python3"
  },
  "language_info": {
   "codemirror_mode": {
    "name": "ipython",
    "version": 3
   },
   "file_extension": ".py",
   "mimetype": "text/x-python",
   "name": "python",
   "nbconvert_exporter": "python",
   "pygments_lexer": "ipython3",
   "version": "3.8.5"
  }
 },
 "nbformat": 4,
 "nbformat_minor": 4
}
